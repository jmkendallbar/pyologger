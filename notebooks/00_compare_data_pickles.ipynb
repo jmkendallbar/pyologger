{
 "cells": [
  {
   "cell_type": "markdown",
   "metadata": {},
   "source": [
    "## Load and inspect data\n",
    "Load pickle file and inspect contents"
   ]
  },
  {
   "cell_type": "code",
   "execution_count": null,
   "metadata": {},
   "outputs": [],
   "source": [
    "# Import necessary pyologger utilities\n",
    "from pyologger.utils.folder_manager import *\n",
    "from pyologger.utils.event_manager import *\n",
    "from pyologger.plot_data.plotter import *\n",
    "from pyologger.calibrate_data.zoc import *\n",
    "from pyologger.io_operations.base_exporter import *\n",
    "\n",
    "dataset_id = \"oror-adult-orca_hr-sr-vid_sw_JKB-PP\"\n",
    "deployment_id = \"2023-10-18_oror-001\"\n",
    "\n",
    "#dataset_id = \"mian-juv-nese_sleep_lml-ano_JKB\"\n",
    "#deployment_id = \"2019-10-25_mian-001\"\n",
    "\n",
    "# Load important file paths and configurations\n",
    "config, data_dir, color_mapping_path, montage_path = load_configuration()\n",
    "# Streamlit load data\n",
    "animal_id, dataset_id, deployment_id, dataset_folder, deployment_folder, data_pkl, param_manager = select_and_load_deployment(\n",
    "    data_dir, dataset_id=dataset_id, deployment_id=deployment_id\n",
    "    )\n",
    "pkl_path = os.path.join(deployment_folder, 'outputs', 'data.pkl')"
   ]
  },
  {
   "cell_type": "code",
   "execution_count": null,
   "metadata": {},
   "outputs": [],
   "source": [
    "data_pkl_oror = data_pkl\n",
    "# Import necessary pyologger utilities\n",
    "from pyologger.utils.folder_manager import *\n",
    "from pyologger.utils.event_manager import *\n",
    "from pyologger.plot_data.plotter import *\n",
    "from pyologger.calibrate_data.zoc import *\n",
    "from pyologger.io_operations.base_exporter import *\n",
    "\n",
    "# dataset_id = \"oror-adult-orca_hr-sr-vid_sw_JKB-PP\"\n",
    "# deployment_id = \"2023-06-13_oror-002\"\n",
    "\n",
    "dataset_id = \"mian-juv-nese_sleep_lml-ano_JKB\"\n",
    "deployment_id = \"2019-10-25_mian-001\"\n",
    "\n",
    "# Load important file paths and configurations\n",
    "config, data_dir, color_mapping_path, montage_path = load_configuration()\n",
    "# Streamlit load data\n",
    "animal_id, dataset_id, deployment_id, dataset_folder, deployment_folder, data_pkl, param_manager = select_and_load_deployment(\n",
    "    data_dir, dataset_id=dataset_id, deployment_id=deployment_id\n",
    "    )\n",
    "pkl_path = os.path.join(deployment_folder, 'outputs', 'data.pkl')"
   ]
  },
  {
   "cell_type": "code",
   "execution_count": null,
   "metadata": {},
   "outputs": [],
   "source": [
    "data_pkl_oror.event_data"
   ]
  },
  {
   "cell_type": "code",
   "execution_count": null,
   "metadata": {},
   "outputs": [],
   "source": [
    "data_pkl_oror.sensor_data['pressure']"
   ]
  },
  {
   "cell_type": "code",
   "execution_count": null,
   "metadata": {},
   "outputs": [],
   "source": [
    "original_units_by_channel = {\n",
    "    meta['original_name']: meta['unit']\n",
    "    for sensor in data_pkl_oror.sensor_info.values()\n",
    "    for meta in sensor['metadata'].values()\n",
    "}\n",
    "original_units_by_channel"
   ]
  },
  {
   "cell_type": "code",
   "execution_count": null,
   "metadata": {},
   "outputs": [],
   "source": [
    "data_pkl_oror.sensor_info"
   ]
  },
  {
   "cell_type": "code",
   "execution_count": null,
   "metadata": {},
   "outputs": [],
   "source": [
    "def compare_metadata_structures(meta1, meta2, path=\"root\"):\n",
    "    \"\"\"\n",
    "    Recursively compares two metadata dictionaries to identify structural differences.\n",
    "    Ignores specific sensor/channel names and values.\n",
    "    Returns a list of inconsistencies.\n",
    "    \"\"\"\n",
    "    differences = []\n",
    "\n",
    "    if isinstance(meta1, dict) and isinstance(meta2, dict):\n",
    "        keys1 = set(meta1.keys())\n",
    "        keys2 = set(meta2.keys())\n",
    "\n",
    "        for key in keys1 - keys2:\n",
    "            differences.append(f\"❌ Key '{key}' in {path} missing from second metadata\")\n",
    "\n",
    "        for key in keys2 - keys1:\n",
    "            differences.append(f\"❌ Key '{key}' in {path} missing from first metadata\")\n",
    "\n",
    "        for key in keys1 & keys2:\n",
    "            subpath = f\"{path}.{key}\"\n",
    "            differences.extend(compare_metadata_structures(meta1[key], meta2[key], subpath))\n",
    "\n",
    "    elif isinstance(meta1, list) and isinstance(meta2, list):\n",
    "        # Compare lengths and types only\n",
    "        if len(meta1) != len(meta2):\n",
    "            differences.append(f\"⚠️ List length mismatch at {path}: {len(meta1)} vs {len(meta2)}\")\n",
    "        elif meta1 and meta2 and type(meta1[0]) != type(meta2[0]):\n",
    "            differences.append(f\"⚠️ List type mismatch at {path}: {type(meta1[0])} vs {type(meta2[0])}\")\n",
    "\n",
    "    else:\n",
    "        if type(meta1) != type(meta2):\n",
    "            differences.append(f\"⚠️ Type mismatch at {path}: {type(meta1)} vs {type(meta2)}\")\n",
    "\n",
    "    return differences"
   ]
  },
  {
   "cell_type": "code",
   "execution_count": null,
   "metadata": {},
   "outputs": [],
   "source": [
    "def audit_metadata_consistency(data1, data2, label1=\"data1\", label2=\"data2\"):\n",
    "    \"\"\"\n",
    "    Compares key metadata structures between two data_pkl-like objects.\n",
    "    Reports missing keys and type mismatches for:\n",
    "      - deployment_info\n",
    "      - logger_info\n",
    "      - sensor_info\n",
    "      - derived_info\n",
    "    \"\"\"\n",
    "    top_level_keys = ['deployment_info', 'logger_info', 'sensor_info', 'derived_info']\n",
    "    all_differences = []\n",
    "\n",
    "    for key in top_level_keys:\n",
    "        print(f\"\\n🔍 Comparing {key}...\")\n",
    "\n",
    "        meta1 = getattr(data1, key, {})\n",
    "        meta2 = getattr(data2, key, {})\n",
    "\n",
    "        # If it's a dict of dicts (e.g. logger_info, sensor_info), loop by subkeys\n",
    "        if isinstance(meta1, dict) and all(isinstance(v, dict) for v in meta1.values()):\n",
    "            shared_keys = set(meta1.keys()) & set(meta2.keys())\n",
    "            missing_in_1 = set(meta2.keys()) - set(meta1.keys())\n",
    "            missing_in_2 = set(meta1.keys()) - set(meta2.keys())\n",
    "\n",
    "            for k in missing_in_1:\n",
    "                print(f\"❌ {k} missing from {label1}.{key}\")\n",
    "            for k in missing_in_2:\n",
    "                print(f\"❌ {k} missing from {label2}.{key}\")\n",
    "\n",
    "            for subkey in shared_keys:\n",
    "                diffs = compare_metadata_structures(meta1[subkey], meta2[subkey], path=f\"{key}.{subkey}\")\n",
    "                if diffs:\n",
    "                    print(f\"⚠️ Differences found in {key}.{subkey}:\")\n",
    "                    for d in diffs:\n",
    "                        print(\"  \" + d)\n",
    "                    all_differences.extend(diffs)\n",
    "\n",
    "        else:\n",
    "            # Just compare the full dicts (e.g. deployment_info)\n",
    "            diffs = compare_metadata_structures(meta1, meta2, path=key)\n",
    "            if diffs:\n",
    "                for d in diffs:\n",
    "                    print(\"  \" + d)\n",
    "                all_differences.extend(diffs)\n",
    "\n",
    "    print(\"\\n✅ Audit complete.\")\n",
    "    return all_differences\n"
   ]
  },
  {
   "cell_type": "code",
   "execution_count": null,
   "metadata": {},
   "outputs": [],
   "source": [
    "audit_metadata_consistency(data_pkl, data_pkl_oror, label1=\"EVOLOCUS\", label2=\"OROR\")\n"
   ]
  }
 ],
 "metadata": {
  "kernelspec": {
   "display_name": "venv",
   "language": "python",
   "name": "python3"
  },
  "language_info": {
   "codemirror_mode": {
    "name": "ipython",
    "version": 3
   },
   "file_extension": ".py",
   "mimetype": "text/x-python",
   "name": "python",
   "nbconvert_exporter": "python",
   "pygments_lexer": "ipython3",
   "version": "3.12.3"
  }
 },
 "nbformat": 4,
 "nbformat_minor": 2
}
