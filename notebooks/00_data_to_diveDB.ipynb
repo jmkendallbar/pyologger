{
 "cells": [
  {
   "cell_type": "markdown",
   "metadata": {},
   "source": [
    "## Data upload to PelicanFS\n",
    "PelicanFS is a file system interface (fsspec) for the Pelican Platform. For more information about pelican, see PelicanFS [main website](https://pelicanplatform.org/) or [Github page](https://github.com/pelicanplatform/pelicanfs). For more information about fsspec, visit the [filesystem-spec](https://filesystem-spec.readthedocs.io/en/latest/index.html) page."
   ]
  },
  {
   "cell_type": "code",
   "execution_count": 1,
   "metadata": {},
   "outputs": [
    {
     "name": "stdout",
     "output_type": "stream",
     "text": [
      "b'testing'\n"
     ]
    }
   ],
   "source": [
    "import fsspec\n",
    "import pelicanfs\n",
    "import aiohttp\n",
    "import certifi\n",
    "from pelicanfs.core import PelicanFileSystem\n",
    "import ssl\n",
    "ssl_ctx = ssl.create_default_context(cafile=certifi.where())\n",
    "conn = aiohttp.TCPConnector(ssl=ssl_ctx, loop=fsspec.asyn.get_loop())\n",
    "pelfs = PelicanFileSystem(\"pelican://osg-htc.org\", client_kwargs={\"connector\": conn})\n",
    "hello_world = pelfs.cat('/jkb-lab-public/downloaded-test.txt')\n",
    "print(str(hello_world))"
   ]
  },
  {
   "cell_type": "code",
   "execution_count": 2,
   "metadata": {},
   "outputs": [
    {
     "data": {
      "text/plain": [
       "'/Users/jessiekb/Documents/GitHub/pyologger/venv/lib/python3.12/site-packages/certifi/cacert.pem'"
      ]
     },
     "execution_count": 2,
     "metadata": {},
     "output_type": "execute_result"
    }
   ],
   "source": [
    "certifi.where()"
   ]
  },
  {
   "cell_type": "code",
   "execution_count": 3,
   "metadata": {},
   "outputs": [
    {
     "name": "stdout",
     "output_type": "stream",
     "text": [
      "b'Hello, World!\\n'\n"
     ]
    }
   ],
   "source": [
    "hello_world = pelfs.cat('/ospool/uc-shared/public/OSG-Staff/validation/test.txt')\n",
    "print(hello_world)"
   ]
  },
  {
   "cell_type": "code",
   "execution_count": 4,
   "metadata": {},
   "outputs": [],
   "source": [
    "#hello_world = pelfs.cat(f\"/jkb-lab-public/{foo}?authz=Bearer%20{token}\")"
   ]
  },
  {
   "cell_type": "markdown",
   "metadata": {},
   "source": [
    "# Placeholder for importing data into DiveDB"
   ]
  },
  {
   "cell_type": "code",
   "execution_count": 5,
   "metadata": {},
   "outputs": [],
   "source": [
    "import dotenv\n",
    "# Import necessary pyologger utilities\n",
    "from pyologger.utils.folder_manager import *\n",
    "from pyologger.utils.event_manager import *\n",
    "from pyologger.plot_data.plotter import *\n",
    "from pyologger.calibrate_data.zoc import *\n",
    "from pyologger.io_operations.base_exporter import *\n",
    "\n",
    "# Load important file paths and configurations\n",
    "config, data_dir, color_mapping_path, montage_path = load_configuration()\n",
    "# Streamlit load data\n",
    "animal_id, dataset_id, deployment_id, dataset_folder, deployment_folder, data_pkl, config_manager = select_and_load_deployment(\n",
    "    data_dir, dataset_id=\"oror-adult-orca_hr-sr-vid_sw_JKB-PP\", deployment_id=\"2023-10-18_oror-001\"\n",
    "    )\n",
    "pkl_path = os.path.join(deployment_folder, 'outputs', 'data.pkl')"
   ]
  },
  {
   "cell_type": "code",
   "execution_count": 6,
   "metadata": {},
   "outputs": [
    {
     "data": {
      "text/plain": [
       "{'channels': ['ecg'],\n",
       " 'metadata': {'ecg': {'original_name': 'ecg',\n",
       "   'unit': 'unknown',\n",
       "   'sensor': 'ecg'}},\n",
       " 'sensor_start_datetime': Timestamp('2023-10-18 11:46:36-0700', tz='America/Los_Angeles'),\n",
       " 'sensor_end_datetime': Timestamp('2023-10-18 15:34:16.470000-0700', tz='America/Los_Angeles'),\n",
       " 'max_value': np.int64(4093),\n",
       " 'min_value': np.int64(1),\n",
       " 'mean_value': np.float64(1343.7549332087892),\n",
       " 'data_type': 'int64',\n",
       " 'original_units': ['unknown'],\n",
       " 'sampling_frequency': 100,\n",
       " 'logger_id': 'UF-01',\n",
       " 'logger_manufacturer': 'UFI',\n",
       " 'processing_step': 'Raw data uploaded',\n",
       " 'last_updated': datetime.datetime(2025, 3, 15, 0, 59, 13, 759934, tzinfo=<DstTzInfo 'America/Los_Angeles' PDT-1 day, 17:00:00 DST>),\n",
       " 'details': 'Initial, raw sensor-specific data and metadata loaded.'}"
      ]
     },
     "execution_count": 6,
     "metadata": {},
     "output_type": "execute_result"
    }
   ],
   "source": [
    "data_pkl.sensor_info['ecg']"
   ]
  },
  {
   "cell_type": "code",
   "execution_count": 7,
   "metadata": {},
   "outputs": [
    {
     "data": {
      "text/html": [
       "<div><svg style=\"position: absolute; width: 0; height: 0; overflow: hidden\">\n",
       "<defs>\n",
       "<symbol id=\"icon-database\" viewBox=\"0 0 32 32\">\n",
       "<path d=\"M16 0c-8.837 0-16 2.239-16 5v4c0 2.761 7.163 5 16 5s16-2.239 16-5v-4c0-2.761-7.163-5-16-5z\"></path>\n",
       "<path d=\"M16 17c-8.837 0-16-2.239-16-5v6c0 2.761 7.163 5 16 5s16-2.239 16-5v-6c0 2.761-7.163 5-16 5z\"></path>\n",
       "<path d=\"M16 26c-8.837 0-16-2.239-16-5v6c0 2.761 7.163 5 16 5s16-2.239 16-5v-6c0 2.761-7.163 5-16 5z\"></path>\n",
       "</symbol>\n",
       "<symbol id=\"icon-file-text2\" viewBox=\"0 0 32 32\">\n",
       "<path d=\"M28.681 7.159c-0.694-0.947-1.662-2.053-2.724-3.116s-2.169-2.030-3.116-2.724c-1.612-1.182-2.393-1.319-2.841-1.319h-15.5c-1.378 0-2.5 1.121-2.5 2.5v27c0 1.378 1.122 2.5 2.5 2.5h23c1.378 0 2.5-1.122 2.5-2.5v-19.5c0-0.448-0.137-1.23-1.319-2.841zM24.543 5.457c0.959 0.959 1.712 1.825 2.268 2.543h-4.811v-4.811c0.718 0.556 1.584 1.309 2.543 2.268zM28 29.5c0 0.271-0.229 0.5-0.5 0.5h-23c-0.271 0-0.5-0.229-0.5-0.5v-27c0-0.271 0.229-0.5 0.5-0.5 0 0 15.499-0 15.5 0v7c0 0.552 0.448 1 1 1h7v19.5z\"></path>\n",
       "<path d=\"M23 26h-14c-0.552 0-1-0.448-1-1s0.448-1 1-1h14c0.552 0 1 0.448 1 1s-0.448 1-1 1z\"></path>\n",
       "<path d=\"M23 22h-14c-0.552 0-1-0.448-1-1s0.448-1 1-1h14c0.552 0 1 0.448 1 1s-0.448 1-1 1z\"></path>\n",
       "<path d=\"M23 18h-14c-0.552 0-1-0.448-1-1s0.448-1 1-1h14c0.552 0 1 0.448 1 1s-0.448 1-1 1z\"></path>\n",
       "</symbol>\n",
       "</defs>\n",
       "</svg>\n",
       "<style>/* CSS stylesheet for displaying xarray objects in jupyterlab.\n",
       " *\n",
       " */\n",
       "\n",
       ":root {\n",
       "  --xr-font-color0: var(--jp-content-font-color0, rgba(0, 0, 0, 1));\n",
       "  --xr-font-color2: var(--jp-content-font-color2, rgba(0, 0, 0, 0.54));\n",
       "  --xr-font-color3: var(--jp-content-font-color3, rgba(0, 0, 0, 0.38));\n",
       "  --xr-border-color: var(--jp-border-color2, #e0e0e0);\n",
       "  --xr-disabled-color: var(--jp-layout-color3, #bdbdbd);\n",
       "  --xr-background-color: var(--jp-layout-color0, white);\n",
       "  --xr-background-color-row-even: var(--jp-layout-color1, white);\n",
       "  --xr-background-color-row-odd: var(--jp-layout-color2, #eeeeee);\n",
       "}\n",
       "\n",
       "html[theme=\"dark\"],\n",
       "html[data-theme=\"dark\"],\n",
       "body[data-theme=\"dark\"],\n",
       "body.vscode-dark {\n",
       "  --xr-font-color0: rgba(255, 255, 255, 1);\n",
       "  --xr-font-color2: rgba(255, 255, 255, 0.54);\n",
       "  --xr-font-color3: rgba(255, 255, 255, 0.38);\n",
       "  --xr-border-color: #1f1f1f;\n",
       "  --xr-disabled-color: #515151;\n",
       "  --xr-background-color: #111111;\n",
       "  --xr-background-color-row-even: #111111;\n",
       "  --xr-background-color-row-odd: #313131;\n",
       "}\n",
       "\n",
       ".xr-wrap {\n",
       "  display: block !important;\n",
       "  min-width: 300px;\n",
       "  max-width: 700px;\n",
       "}\n",
       "\n",
       ".xr-text-repr-fallback {\n",
       "  /* fallback to plain text repr when CSS is not injected (untrusted notebook) */\n",
       "  display: none;\n",
       "}\n",
       "\n",
       ".xr-header {\n",
       "  padding-top: 6px;\n",
       "  padding-bottom: 6px;\n",
       "  margin-bottom: 4px;\n",
       "  border-bottom: solid 1px var(--xr-border-color);\n",
       "}\n",
       "\n",
       ".xr-header > div,\n",
       ".xr-header > ul {\n",
       "  display: inline;\n",
       "  margin-top: 0;\n",
       "  margin-bottom: 0;\n",
       "}\n",
       "\n",
       ".xr-obj-type,\n",
       ".xr-array-name {\n",
       "  margin-left: 2px;\n",
       "  margin-right: 10px;\n",
       "}\n",
       "\n",
       ".xr-obj-type {\n",
       "  color: var(--xr-font-color2);\n",
       "}\n",
       "\n",
       ".xr-sections {\n",
       "  padding-left: 0 !important;\n",
       "  display: grid;\n",
       "  grid-template-columns: 150px auto auto 1fr 0 20px 0 20px;\n",
       "}\n",
       "\n",
       ".xr-section-item {\n",
       "  display: contents;\n",
       "}\n",
       "\n",
       ".xr-section-item input {\n",
       "  display: inline-block;\n",
       "  opacity: 0;\n",
       "  height: 0;\n",
       "}\n",
       "\n",
       ".xr-section-item input + label {\n",
       "  color: var(--xr-disabled-color);\n",
       "}\n",
       "\n",
       ".xr-section-item input:enabled + label {\n",
       "  cursor: pointer;\n",
       "  color: var(--xr-font-color2);\n",
       "}\n",
       "\n",
       ".xr-section-item input:focus + label {\n",
       "  border: 2px solid var(--xr-font-color0);\n",
       "}\n",
       "\n",
       ".xr-section-item input:enabled + label:hover {\n",
       "  color: var(--xr-font-color0);\n",
       "}\n",
       "\n",
       ".xr-section-summary {\n",
       "  grid-column: 1;\n",
       "  color: var(--xr-font-color2);\n",
       "  font-weight: 500;\n",
       "}\n",
       "\n",
       ".xr-section-summary > span {\n",
       "  display: inline-block;\n",
       "  padding-left: 0.5em;\n",
       "}\n",
       "\n",
       ".xr-section-summary-in:disabled + label {\n",
       "  color: var(--xr-font-color2);\n",
       "}\n",
       "\n",
       ".xr-section-summary-in + label:before {\n",
       "  display: inline-block;\n",
       "  content: \"►\";\n",
       "  font-size: 11px;\n",
       "  width: 15px;\n",
       "  text-align: center;\n",
       "}\n",
       "\n",
       ".xr-section-summary-in:disabled + label:before {\n",
       "  color: var(--xr-disabled-color);\n",
       "}\n",
       "\n",
       ".xr-section-summary-in:checked + label:before {\n",
       "  content: \"▼\";\n",
       "}\n",
       "\n",
       ".xr-section-summary-in:checked + label > span {\n",
       "  display: none;\n",
       "}\n",
       "\n",
       ".xr-section-summary,\n",
       ".xr-section-inline-details {\n",
       "  padding-top: 4px;\n",
       "  padding-bottom: 4px;\n",
       "}\n",
       "\n",
       ".xr-section-inline-details {\n",
       "  grid-column: 2 / -1;\n",
       "}\n",
       "\n",
       ".xr-section-details {\n",
       "  display: none;\n",
       "  grid-column: 1 / -1;\n",
       "  margin-bottom: 5px;\n",
       "}\n",
       "\n",
       ".xr-section-summary-in:checked ~ .xr-section-details {\n",
       "  display: contents;\n",
       "}\n",
       "\n",
       ".xr-array-wrap {\n",
       "  grid-column: 1 / -1;\n",
       "  display: grid;\n",
       "  grid-template-columns: 20px auto;\n",
       "}\n",
       "\n",
       ".xr-array-wrap > label {\n",
       "  grid-column: 1;\n",
       "  vertical-align: top;\n",
       "}\n",
       "\n",
       ".xr-preview {\n",
       "  color: var(--xr-font-color3);\n",
       "}\n",
       "\n",
       ".xr-array-preview,\n",
       ".xr-array-data {\n",
       "  padding: 0 5px !important;\n",
       "  grid-column: 2;\n",
       "}\n",
       "\n",
       ".xr-array-data,\n",
       ".xr-array-in:checked ~ .xr-array-preview {\n",
       "  display: none;\n",
       "}\n",
       "\n",
       ".xr-array-in:checked ~ .xr-array-data,\n",
       ".xr-array-preview {\n",
       "  display: inline-block;\n",
       "}\n",
       "\n",
       ".xr-dim-list {\n",
       "  display: inline-block !important;\n",
       "  list-style: none;\n",
       "  padding: 0 !important;\n",
       "  margin: 0;\n",
       "}\n",
       "\n",
       ".xr-dim-list li {\n",
       "  display: inline-block;\n",
       "  padding: 0;\n",
       "  margin: 0;\n",
       "}\n",
       "\n",
       ".xr-dim-list:before {\n",
       "  content: \"(\";\n",
       "}\n",
       "\n",
       ".xr-dim-list:after {\n",
       "  content: \")\";\n",
       "}\n",
       "\n",
       ".xr-dim-list li:not(:last-child):after {\n",
       "  content: \",\";\n",
       "  padding-right: 5px;\n",
       "}\n",
       "\n",
       ".xr-has-index {\n",
       "  font-weight: bold;\n",
       "}\n",
       "\n",
       ".xr-var-list,\n",
       ".xr-var-item {\n",
       "  display: contents;\n",
       "}\n",
       "\n",
       ".xr-var-item > div,\n",
       ".xr-var-item label,\n",
       ".xr-var-item > .xr-var-name span {\n",
       "  background-color: var(--xr-background-color-row-even);\n",
       "  margin-bottom: 0;\n",
       "}\n",
       "\n",
       ".xr-var-item > .xr-var-name:hover span {\n",
       "  padding-right: 5px;\n",
       "}\n",
       "\n",
       ".xr-var-list > li:nth-child(odd) > div,\n",
       ".xr-var-list > li:nth-child(odd) > label,\n",
       ".xr-var-list > li:nth-child(odd) > .xr-var-name span {\n",
       "  background-color: var(--xr-background-color-row-odd);\n",
       "}\n",
       "\n",
       ".xr-var-name {\n",
       "  grid-column: 1;\n",
       "}\n",
       "\n",
       ".xr-var-dims {\n",
       "  grid-column: 2;\n",
       "}\n",
       "\n",
       ".xr-var-dtype {\n",
       "  grid-column: 3;\n",
       "  text-align: right;\n",
       "  color: var(--xr-font-color2);\n",
       "}\n",
       "\n",
       ".xr-var-preview {\n",
       "  grid-column: 4;\n",
       "}\n",
       "\n",
       ".xr-index-preview {\n",
       "  grid-column: 2 / 5;\n",
       "  color: var(--xr-font-color2);\n",
       "}\n",
       "\n",
       ".xr-var-name,\n",
       ".xr-var-dims,\n",
       ".xr-var-dtype,\n",
       ".xr-preview,\n",
       ".xr-attrs dt {\n",
       "  white-space: nowrap;\n",
       "  overflow: hidden;\n",
       "  text-overflow: ellipsis;\n",
       "  padding-right: 10px;\n",
       "}\n",
       "\n",
       ".xr-var-name:hover,\n",
       ".xr-var-dims:hover,\n",
       ".xr-var-dtype:hover,\n",
       ".xr-attrs dt:hover {\n",
       "  overflow: visible;\n",
       "  width: auto;\n",
       "  z-index: 1;\n",
       "}\n",
       "\n",
       ".xr-var-attrs,\n",
       ".xr-var-data,\n",
       ".xr-index-data {\n",
       "  display: none;\n",
       "  background-color: var(--xr-background-color) !important;\n",
       "  padding-bottom: 5px !important;\n",
       "}\n",
       "\n",
       ".xr-var-attrs-in:checked ~ .xr-var-attrs,\n",
       ".xr-var-data-in:checked ~ .xr-var-data,\n",
       ".xr-index-data-in:checked ~ .xr-index-data {\n",
       "  display: block;\n",
       "}\n",
       "\n",
       ".xr-var-data > table {\n",
       "  float: right;\n",
       "}\n",
       "\n",
       ".xr-var-name span,\n",
       ".xr-var-data,\n",
       ".xr-index-name div,\n",
       ".xr-index-data,\n",
       ".xr-attrs {\n",
       "  padding-left: 25px !important;\n",
       "}\n",
       "\n",
       ".xr-attrs,\n",
       ".xr-var-attrs,\n",
       ".xr-var-data,\n",
       ".xr-index-data {\n",
       "  grid-column: 1 / -1;\n",
       "}\n",
       "\n",
       "dl.xr-attrs {\n",
       "  padding: 0;\n",
       "  margin: 0;\n",
       "  display: grid;\n",
       "  grid-template-columns: 125px auto;\n",
       "}\n",
       "\n",
       ".xr-attrs dt,\n",
       ".xr-attrs dd {\n",
       "  padding: 0;\n",
       "  margin: 0;\n",
       "  float: left;\n",
       "  padding-right: 10px;\n",
       "  width: auto;\n",
       "}\n",
       "\n",
       ".xr-attrs dt {\n",
       "  font-weight: normal;\n",
       "  grid-column: 1;\n",
       "}\n",
       "\n",
       ".xr-attrs dt:hover span {\n",
       "  display: inline-block;\n",
       "  background: var(--xr-background-color);\n",
       "  padding-right: 10px;\n",
       "}\n",
       "\n",
       ".xr-attrs dd {\n",
       "  grid-column: 2;\n",
       "  white-space: pre-wrap;\n",
       "  word-break: break-all;\n",
       "}\n",
       "\n",
       ".xr-icon-database,\n",
       ".xr-icon-file-text2,\n",
       ".xr-no-icon {\n",
       "  display: inline-block;\n",
       "  vertical-align: middle;\n",
       "  width: 1em;\n",
       "  height: 1.5em !important;\n",
       "  stroke-width: 0;\n",
       "  stroke: currentColor;\n",
       "  fill: currentColor;\n",
       "}\n",
       "</style><pre class='xr-text-repr-fallback'>&lt;xarray.Dataset&gt; Size: 47MB\n",
       "Dimensions:                       (light_samples: 510,\n",
       "                                   magnetometer_samples: 25451,\n",
       "                                   magnetometer_variables: 3,\n",
       "                                   temperature_samples: 510,\n",
       "                                   accelerometer_samples: 203601,\n",
       "                                   accelerometer_variables: 3,\n",
       "                                   ...\n",
       "                                   sr_smoothed_samples: 203601,\n",
       "                                   stroke_rate_samples: 203601,\n",
       "                                   odba_samples: 203601,\n",
       "                                   hr_normalized_samples: 50901,\n",
       "                                   heart_rate_samples: 50901,\n",
       "                                   event_data_samples: 1089)\n",
       "Coordinates: (12/25)\n",
       "  * light_samples                 (light_samples) datetime64[ns] 4kB 2023-10-...\n",
       "  * magnetometer_samples          (magnetometer_samples) datetime64[ns] 204kB ...\n",
       "  * magnetometer_variables        (magnetometer_variables) &lt;U2 24B &#x27;mx&#x27; ... &#x27;mz&#x27;\n",
       "  * temperature_samples           (temperature_samples) datetime64[ns] 4kB 20...\n",
       "  * accelerometer_samples         (accelerometer_samples) datetime64[ns] 2MB ...\n",
       "  * accelerometer_variables       (accelerometer_variables) &lt;U2 24B &#x27;ax&#x27; ... ...\n",
       "    ...                            ...\n",
       "  * sr_smoothed_samples           (sr_smoothed_samples) datetime64[ns] 2MB 20...\n",
       "  * stroke_rate_samples           (stroke_rate_samples) datetime64[ns] 2MB 20...\n",
       "  * odba_samples                  (odba_samples) datetime64[ns] 2MB 2023-10-1...\n",
       "  * hr_normalized_samples         (hr_normalized_samples) datetime64[ns] 407kB ...\n",
       "  * heart_rate_samples            (heart_rate_samples) datetime64[ns] 407kB 2...\n",
       "  * event_data_samples            (event_data_samples) datetime64[ns] 9kB 202...\n",
       "Data variables: (12/23)\n",
       "    sensor_data_light             (light_samples) int64 4kB ...\n",
       "    sensor_data_magnetometer      (magnetometer_samples, magnetometer_variables) float64 611kB ...\n",
       "    sensor_data_temperature       (temperature_samples) float64 4kB ...\n",
       "    sensor_data_accelerometer     (accelerometer_samples, accelerometer_variables) float64 5MB ...\n",
       "    sensor_data_pressure          (pressure_samples) float64 204kB ...\n",
       "    sensor_data_gyroscope         (gyroscope_samples, gyroscope_variables) float64 611kB ...\n",
       "    ...                            ...\n",
       "    event_data_type               (event_data_samples) &lt;U5 22kB ...\n",
       "    event_data_key                (event_data_samples) &lt;U31 135kB ...\n",
       "    event_data_value              (event_data_samples) float64 9kB ...\n",
       "    event_data_duration           (event_data_samples) float64 9kB ...\n",
       "    event_data_short_description  (event_data_samples) &lt;U42 183kB ...\n",
       "    event_data_long_description   (event_data_samples) float64 9kB ...\n",
       "Attributes: (12/26)\n",
       "    deployment_info_Deployment Date:             2023-10-18\n",
       "    deployment_info_Deployment Latitude:         32.764655\n",
       "    deployment_info_Deployment Longitude:        -117.228585\n",
       "    deployment_info_Time Zone:                   America/Los_Angeles\n",
       "    animal_info_Animal_ID:                       oror-001\n",
       "    dataset_info_Dataset_ID:                     oror-adult-orca_hr-sr-vid_sw...\n",
       "    ...                                          ...\n",
       "    sensor_info_gyroscope_channels_0:            gx\n",
       "    sensor_info_gyroscope_channels_1:            gy\n",
       "    sensor_info_gyroscope_channels_2:            gz\n",
       "    sensor_info_gyroscope_original_units_0:      mrad/s\n",
       "    sensor_info_ecg_channels_0:                  ecg\n",
       "    sensor_info_ecg_original_units_0:            unknown</pre><div class='xr-wrap' style='display:none'><div class='xr-header'><div class='xr-obj-type'>xarray.Dataset</div></div><ul class='xr-sections'><li class='xr-section-item'><input id='section-8229663b-acc9-4da5-a489-6968420ae68b' class='xr-section-summary-in' type='checkbox' disabled ><label for='section-8229663b-acc9-4da5-a489-6968420ae68b' class='xr-section-summary'  title='Expand/collapse section'>Dimensions:</label><div class='xr-section-inline-details'><ul class='xr-dim-list'><li><span class='xr-has-index'>light_samples</span>: 510</li><li><span class='xr-has-index'>magnetometer_samples</span>: 25451</li><li><span class='xr-has-index'>magnetometer_variables</span>: 3</li><li><span class='xr-has-index'>temperature_samples</span>: 510</li><li><span class='xr-has-index'>accelerometer_samples</span>: 203601</li><li><span class='xr-has-index'>accelerometer_variables</span>: 3</li><li><span class='xr-has-index'>pressure_samples</span>: 25451</li><li><span class='xr-has-index'>gyroscope_samples</span>: 25451</li><li><span class='xr-has-index'>gyroscope_variables</span>: 3</li><li><span class='xr-has-index'>ecg_samples</span>: 50901</li><li><span class='xr-has-index'>depth_samples</span>: 510</li><li><span class='xr-has-index'>prh_samples</span>: 203601</li><li><span class='xr-has-index'>prh_variables</span>: 3</li><li><span class='xr-has-index'>corrected_acc_samples</span>: 203601</li><li><span class='xr-has-index'>corrected_acc_variables</span>: 3</li><li><span class='xr-has-index'>corrected_mag_samples</span>: 203601</li><li><span class='xr-has-index'>corrected_mag_variables</span>: 3</li><li><span class='xr-has-index'>corrected_gyr_samples</span>: 203601</li><li><span class='xr-has-index'>corrected_gyr_variables</span>: 3</li><li><span class='xr-has-index'>sr_smoothed_samples</span>: 203601</li><li><span class='xr-has-index'>stroke_rate_samples</span>: 203601</li><li><span class='xr-has-index'>odba_samples</span>: 203601</li><li><span class='xr-has-index'>hr_normalized_samples</span>: 50901</li><li><span class='xr-has-index'>heart_rate_samples</span>: 50901</li><li><span class='xr-has-index'>event_data_samples</span>: 1089</li></ul></div><div class='xr-section-details'></div></li><li class='xr-section-item'><input id='section-0fb60859-7868-4013-8853-eb3e4b13b808' class='xr-section-summary-in' type='checkbox'  ><label for='section-0fb60859-7868-4013-8853-eb3e4b13b808' class='xr-section-summary' >Coordinates: <span>(25)</span></label><div class='xr-section-inline-details'></div><div class='xr-section-details'><ul class='xr-var-list'><li class='xr-var-item'><div class='xr-var-name'><span class='xr-has-index'>light_samples</span></div><div class='xr-var-dims'>(light_samples)</div><div class='xr-var-dtype'>datetime64[ns]</div><div class='xr-var-preview xr-preview'>2023-10-18T21:20:12 ... 2023-10-...</div><input id='attrs-0a6f39d1-5d78-45ab-93a1-b63df971a964' class='xr-var-attrs-in' type='checkbox' disabled><label for='attrs-0a6f39d1-5d78-45ab-93a1-b63df971a964' title='Show/Hide attributes'><svg class='icon xr-icon-file-text2'><use xlink:href='#icon-file-text2'></use></svg></label><input id='data-90eb9791-31c4-48a7-a97e-003570d3609d' class='xr-var-data-in' type='checkbox'><label for='data-90eb9791-31c4-48a7-a97e-003570d3609d' title='Show/Hide data repr'><svg class='icon xr-icon-database'><use xlink:href='#icon-database'></use></svg></label><div class='xr-var-attrs'><dl class='xr-attrs'></dl></div><div class='xr-var-data'><pre>array([&#x27;2023-10-18T21:20:12.000000000&#x27;, &#x27;2023-10-18T21:20:13.000000000&#x27;,\n",
       "       &#x27;2023-10-18T21:20:14.000000000&#x27;, ..., &#x27;2023-10-18T21:28:39.000000000&#x27;,\n",
       "       &#x27;2023-10-18T21:28:40.000000000&#x27;, &#x27;2023-10-18T21:28:41.000000000&#x27;],\n",
       "      shape=(510,), dtype=&#x27;datetime64[ns]&#x27;)</pre></div></li><li class='xr-var-item'><div class='xr-var-name'><span class='xr-has-index'>magnetometer_samples</span></div><div class='xr-var-dims'>(magnetometer_samples)</div><div class='xr-var-dtype'>datetime64[ns]</div><div class='xr-var-preview xr-preview'>2023-10-18T21:20:12 ... 2023-10-...</div><input id='attrs-b30af487-e2a7-4991-b0c4-3684aeabebd0' class='xr-var-attrs-in' type='checkbox' disabled><label for='attrs-b30af487-e2a7-4991-b0c4-3684aeabebd0' title='Show/Hide attributes'><svg class='icon xr-icon-file-text2'><use xlink:href='#icon-file-text2'></use></svg></label><input id='data-ded8fbb6-2f34-4bfc-8cf2-58cbdde11ad3' class='xr-var-data-in' type='checkbox'><label for='data-ded8fbb6-2f34-4bfc-8cf2-58cbdde11ad3' title='Show/Hide data repr'><svg class='icon xr-icon-database'><use xlink:href='#icon-database'></use></svg></label><div class='xr-var-attrs'><dl class='xr-attrs'></dl></div><div class='xr-var-data'><pre>array([&#x27;2023-10-18T21:20:12.000000000&#x27;, &#x27;2023-10-18T21:20:12.020000000&#x27;,\n",
       "       &#x27;2023-10-18T21:20:12.040000000&#x27;, ..., &#x27;2023-10-18T21:28:40.960000000&#x27;,\n",
       "       &#x27;2023-10-18T21:28:40.980000000&#x27;, &#x27;2023-10-18T21:28:41.000000000&#x27;],\n",
       "      shape=(25451,), dtype=&#x27;datetime64[ns]&#x27;)</pre></div></li><li class='xr-var-item'><div class='xr-var-name'><span class='xr-has-index'>magnetometer_variables</span></div><div class='xr-var-dims'>(magnetometer_variables)</div><div class='xr-var-dtype'>&lt;U2</div><div class='xr-var-preview xr-preview'>&#x27;mx&#x27; &#x27;my&#x27; &#x27;mz&#x27;</div><input id='attrs-dc916e62-9237-4965-a298-d799f0538957' class='xr-var-attrs-in' type='checkbox' disabled><label for='attrs-dc916e62-9237-4965-a298-d799f0538957' title='Show/Hide attributes'><svg class='icon xr-icon-file-text2'><use xlink:href='#icon-file-text2'></use></svg></label><input id='data-57c022d0-9c2d-49b3-b786-f0826e6322c9' class='xr-var-data-in' type='checkbox'><label for='data-57c022d0-9c2d-49b3-b786-f0826e6322c9' title='Show/Hide data repr'><svg class='icon xr-icon-database'><use xlink:href='#icon-database'></use></svg></label><div class='xr-var-attrs'><dl class='xr-attrs'></dl></div><div class='xr-var-data'><pre>array([&#x27;mx&#x27;, &#x27;my&#x27;, &#x27;mz&#x27;], dtype=&#x27;&lt;U2&#x27;)</pre></div></li><li class='xr-var-item'><div class='xr-var-name'><span class='xr-has-index'>temperature_samples</span></div><div class='xr-var-dims'>(temperature_samples)</div><div class='xr-var-dtype'>datetime64[ns]</div><div class='xr-var-preview xr-preview'>2023-10-18T21:20:12 ... 2023-10-...</div><input id='attrs-594a2b61-90b0-4a0e-99d5-36008a210ba8' class='xr-var-attrs-in' type='checkbox' disabled><label for='attrs-594a2b61-90b0-4a0e-99d5-36008a210ba8' title='Show/Hide attributes'><svg class='icon xr-icon-file-text2'><use xlink:href='#icon-file-text2'></use></svg></label><input id='data-ec23af4e-e288-41ec-9a65-0ace5f6af601' class='xr-var-data-in' type='checkbox'><label for='data-ec23af4e-e288-41ec-9a65-0ace5f6af601' title='Show/Hide data repr'><svg class='icon xr-icon-database'><use xlink:href='#icon-database'></use></svg></label><div class='xr-var-attrs'><dl class='xr-attrs'></dl></div><div class='xr-var-data'><pre>array([&#x27;2023-10-18T21:20:12.000000000&#x27;, &#x27;2023-10-18T21:20:13.000000000&#x27;,\n",
       "       &#x27;2023-10-18T21:20:14.000000000&#x27;, ..., &#x27;2023-10-18T21:28:39.000000000&#x27;,\n",
       "       &#x27;2023-10-18T21:28:40.000000000&#x27;, &#x27;2023-10-18T21:28:41.000000000&#x27;],\n",
       "      shape=(510,), dtype=&#x27;datetime64[ns]&#x27;)</pre></div></li><li class='xr-var-item'><div class='xr-var-name'><span class='xr-has-index'>accelerometer_samples</span></div><div class='xr-var-dims'>(accelerometer_samples)</div><div class='xr-var-dtype'>datetime64[ns]</div><div class='xr-var-preview xr-preview'>2023-10-18T21:20:12 ... 2023-10-...</div><input id='attrs-1b10f24f-0c4c-46c5-8366-73753466522e' class='xr-var-attrs-in' type='checkbox' disabled><label for='attrs-1b10f24f-0c4c-46c5-8366-73753466522e' title='Show/Hide attributes'><svg class='icon xr-icon-file-text2'><use xlink:href='#icon-file-text2'></use></svg></label><input id='data-5f1e80f9-ca1b-4fab-a0db-577bf7e2d0af' class='xr-var-data-in' type='checkbox'><label for='data-5f1e80f9-ca1b-4fab-a0db-577bf7e2d0af' title='Show/Hide data repr'><svg class='icon xr-icon-database'><use xlink:href='#icon-database'></use></svg></label><div class='xr-var-attrs'><dl class='xr-attrs'></dl></div><div class='xr-var-data'><pre>array([&#x27;2023-10-18T21:20:12.000000000&#x27;, &#x27;2023-10-18T21:20:12.002500000&#x27;,\n",
       "       &#x27;2023-10-18T21:20:12.005000000&#x27;, ..., &#x27;2023-10-18T21:28:40.995000000&#x27;,\n",
       "       &#x27;2023-10-18T21:28:40.997500000&#x27;, &#x27;2023-10-18T21:28:41.000000000&#x27;],\n",
       "      shape=(203601,), dtype=&#x27;datetime64[ns]&#x27;)</pre></div></li><li class='xr-var-item'><div class='xr-var-name'><span class='xr-has-index'>accelerometer_variables</span></div><div class='xr-var-dims'>(accelerometer_variables)</div><div class='xr-var-dtype'>&lt;U2</div><div class='xr-var-preview xr-preview'>&#x27;ax&#x27; &#x27;ay&#x27; &#x27;az&#x27;</div><input id='attrs-deb2735a-d337-4d3e-876d-57cc8d7d4a66' class='xr-var-attrs-in' type='checkbox' disabled><label for='attrs-deb2735a-d337-4d3e-876d-57cc8d7d4a66' title='Show/Hide attributes'><svg class='icon xr-icon-file-text2'><use xlink:href='#icon-file-text2'></use></svg></label><input id='data-c5be461f-6d47-4d41-aefd-9a92af751386' class='xr-var-data-in' type='checkbox'><label for='data-c5be461f-6d47-4d41-aefd-9a92af751386' title='Show/Hide data repr'><svg class='icon xr-icon-database'><use xlink:href='#icon-database'></use></svg></label><div class='xr-var-attrs'><dl class='xr-attrs'></dl></div><div class='xr-var-data'><pre>array([&#x27;ax&#x27;, &#x27;ay&#x27;, &#x27;az&#x27;], dtype=&#x27;&lt;U2&#x27;)</pre></div></li><li class='xr-var-item'><div class='xr-var-name'><span class='xr-has-index'>pressure_samples</span></div><div class='xr-var-dims'>(pressure_samples)</div><div class='xr-var-dtype'>datetime64[ns]</div><div class='xr-var-preview xr-preview'>2023-10-18T21:20:12 ... 2023-10-...</div><input id='attrs-98a49e5b-d897-403b-8586-f47e8dabcdf8' class='xr-var-attrs-in' type='checkbox' disabled><label for='attrs-98a49e5b-d897-403b-8586-f47e8dabcdf8' title='Show/Hide attributes'><svg class='icon xr-icon-file-text2'><use xlink:href='#icon-file-text2'></use></svg></label><input id='data-dfbf5845-1390-4390-af05-f0154bb20bab' class='xr-var-data-in' type='checkbox'><label for='data-dfbf5845-1390-4390-af05-f0154bb20bab' title='Show/Hide data repr'><svg class='icon xr-icon-database'><use xlink:href='#icon-database'></use></svg></label><div class='xr-var-attrs'><dl class='xr-attrs'></dl></div><div class='xr-var-data'><pre>array([&#x27;2023-10-18T21:20:12.000000000&#x27;, &#x27;2023-10-18T21:20:12.020000000&#x27;,\n",
       "       &#x27;2023-10-18T21:20:12.040000000&#x27;, ..., &#x27;2023-10-18T21:28:40.960000000&#x27;,\n",
       "       &#x27;2023-10-18T21:28:40.980000000&#x27;, &#x27;2023-10-18T21:28:41.000000000&#x27;],\n",
       "      shape=(25451,), dtype=&#x27;datetime64[ns]&#x27;)</pre></div></li><li class='xr-var-item'><div class='xr-var-name'><span class='xr-has-index'>gyroscope_samples</span></div><div class='xr-var-dims'>(gyroscope_samples)</div><div class='xr-var-dtype'>datetime64[ns]</div><div class='xr-var-preview xr-preview'>2023-10-18T21:20:12 ... 2023-10-...</div><input id='attrs-18c2eb1b-8a58-4bb2-ab9a-29bb8fbc6a1a' class='xr-var-attrs-in' type='checkbox' disabled><label for='attrs-18c2eb1b-8a58-4bb2-ab9a-29bb8fbc6a1a' title='Show/Hide attributes'><svg class='icon xr-icon-file-text2'><use xlink:href='#icon-file-text2'></use></svg></label><input id='data-edf4bc6f-6657-4252-bf0a-98f2e5a70da5' class='xr-var-data-in' type='checkbox'><label for='data-edf4bc6f-6657-4252-bf0a-98f2e5a70da5' title='Show/Hide data repr'><svg class='icon xr-icon-database'><use xlink:href='#icon-database'></use></svg></label><div class='xr-var-attrs'><dl class='xr-attrs'></dl></div><div class='xr-var-data'><pre>array([&#x27;2023-10-18T21:20:12.000000000&#x27;, &#x27;2023-10-18T21:20:12.020000000&#x27;,\n",
       "       &#x27;2023-10-18T21:20:12.040000000&#x27;, ..., &#x27;2023-10-18T21:28:40.960000000&#x27;,\n",
       "       &#x27;2023-10-18T21:28:40.980000000&#x27;, &#x27;2023-10-18T21:28:41.000000000&#x27;],\n",
       "      shape=(25451,), dtype=&#x27;datetime64[ns]&#x27;)</pre></div></li><li class='xr-var-item'><div class='xr-var-name'><span class='xr-has-index'>gyroscope_variables</span></div><div class='xr-var-dims'>(gyroscope_variables)</div><div class='xr-var-dtype'>&lt;U2</div><div class='xr-var-preview xr-preview'>&#x27;gx&#x27; &#x27;gy&#x27; &#x27;gz&#x27;</div><input id='attrs-cdd09cc1-b8b7-4ff7-bed3-15bc87dad35c' class='xr-var-attrs-in' type='checkbox' disabled><label for='attrs-cdd09cc1-b8b7-4ff7-bed3-15bc87dad35c' title='Show/Hide attributes'><svg class='icon xr-icon-file-text2'><use xlink:href='#icon-file-text2'></use></svg></label><input id='data-c45f64f3-8d0a-4963-b11e-e4c46c01d116' class='xr-var-data-in' type='checkbox'><label for='data-c45f64f3-8d0a-4963-b11e-e4c46c01d116' title='Show/Hide data repr'><svg class='icon xr-icon-database'><use xlink:href='#icon-database'></use></svg></label><div class='xr-var-attrs'><dl class='xr-attrs'></dl></div><div class='xr-var-data'><pre>array([&#x27;gx&#x27;, &#x27;gy&#x27;, &#x27;gz&#x27;], dtype=&#x27;&lt;U2&#x27;)</pre></div></li><li class='xr-var-item'><div class='xr-var-name'><span class='xr-has-index'>ecg_samples</span></div><div class='xr-var-dims'>(ecg_samples)</div><div class='xr-var-dtype'>datetime64[ns]</div><div class='xr-var-preview xr-preview'>2023-10-18T21:20:12 ... 2023-10-...</div><input id='attrs-b5b3623c-ed18-4de9-b4c6-71e93423bed3' class='xr-var-attrs-in' type='checkbox' disabled><label for='attrs-b5b3623c-ed18-4de9-b4c6-71e93423bed3' title='Show/Hide attributes'><svg class='icon xr-icon-file-text2'><use xlink:href='#icon-file-text2'></use></svg></label><input id='data-6a0ec1e6-6e65-4bca-ad8e-79ecceb17566' class='xr-var-data-in' type='checkbox'><label for='data-6a0ec1e6-6e65-4bca-ad8e-79ecceb17566' title='Show/Hide data repr'><svg class='icon xr-icon-database'><use xlink:href='#icon-database'></use></svg></label><div class='xr-var-attrs'><dl class='xr-attrs'></dl></div><div class='xr-var-data'><pre>array([&#x27;2023-10-18T21:20:12.000000000&#x27;, &#x27;2023-10-18T21:20:12.010000000&#x27;,\n",
       "       &#x27;2023-10-18T21:20:12.020000000&#x27;, ..., &#x27;2023-10-18T21:28:40.980000000&#x27;,\n",
       "       &#x27;2023-10-18T21:28:40.990000000&#x27;, &#x27;2023-10-18T21:28:41.000000000&#x27;],\n",
       "      shape=(50901,), dtype=&#x27;datetime64[ns]&#x27;)</pre></div></li><li class='xr-var-item'><div class='xr-var-name'><span class='xr-has-index'>depth_samples</span></div><div class='xr-var-dims'>(depth_samples)</div><div class='xr-var-dtype'>datetime64[ns]</div><div class='xr-var-preview xr-preview'>2023-10-18T21:20:12 ... 2023-10-...</div><input id='attrs-fb41e403-57c9-4590-8304-87fe8d4fe0ed' class='xr-var-attrs-in' type='checkbox' disabled><label for='attrs-fb41e403-57c9-4590-8304-87fe8d4fe0ed' title='Show/Hide attributes'><svg class='icon xr-icon-file-text2'><use xlink:href='#icon-file-text2'></use></svg></label><input id='data-804755e5-f46d-4684-a530-3b1c224f4f0b' class='xr-var-data-in' type='checkbox'><label for='data-804755e5-f46d-4684-a530-3b1c224f4f0b' title='Show/Hide data repr'><svg class='icon xr-icon-database'><use xlink:href='#icon-database'></use></svg></label><div class='xr-var-attrs'><dl class='xr-attrs'></dl></div><div class='xr-var-data'><pre>array([&#x27;2023-10-18T21:20:12.000000000&#x27;, &#x27;2023-10-18T21:20:13.000000000&#x27;,\n",
       "       &#x27;2023-10-18T21:20:14.000000000&#x27;, ..., &#x27;2023-10-18T21:28:39.000000000&#x27;,\n",
       "       &#x27;2023-10-18T21:28:40.000000000&#x27;, &#x27;2023-10-18T21:28:41.000000000&#x27;],\n",
       "      shape=(510,), dtype=&#x27;datetime64[ns]&#x27;)</pre></div></li><li class='xr-var-item'><div class='xr-var-name'><span class='xr-has-index'>prh_samples</span></div><div class='xr-var-dims'>(prh_samples)</div><div class='xr-var-dtype'>datetime64[ns]</div><div class='xr-var-preview xr-preview'>2023-10-18T21:20:12 ... 2023-10-...</div><input id='attrs-acdaf3c7-8d8d-4165-bfd9-c2cca5d9194f' class='xr-var-attrs-in' type='checkbox' disabled><label for='attrs-acdaf3c7-8d8d-4165-bfd9-c2cca5d9194f' title='Show/Hide attributes'><svg class='icon xr-icon-file-text2'><use xlink:href='#icon-file-text2'></use></svg></label><input id='data-54dc75c2-f220-4a8e-a184-9d0ff2fa332c' class='xr-var-data-in' type='checkbox'><label for='data-54dc75c2-f220-4a8e-a184-9d0ff2fa332c' title='Show/Hide data repr'><svg class='icon xr-icon-database'><use xlink:href='#icon-database'></use></svg></label><div class='xr-var-attrs'><dl class='xr-attrs'></dl></div><div class='xr-var-data'><pre>array([&#x27;2023-10-18T21:20:12.000000000&#x27;, &#x27;2023-10-18T21:20:12.002500000&#x27;,\n",
       "       &#x27;2023-10-18T21:20:12.005000000&#x27;, ..., &#x27;2023-10-18T21:28:40.995000000&#x27;,\n",
       "       &#x27;2023-10-18T21:28:40.997500000&#x27;, &#x27;2023-10-18T21:28:41.000000000&#x27;],\n",
       "      shape=(203601,), dtype=&#x27;datetime64[ns]&#x27;)</pre></div></li><li class='xr-var-item'><div class='xr-var-name'><span class='xr-has-index'>prh_variables</span></div><div class='xr-var-dims'>(prh_variables)</div><div class='xr-var-dtype'>&lt;U7</div><div class='xr-var-preview xr-preview'>&#x27;pitch&#x27; &#x27;roll&#x27; &#x27;heading&#x27;</div><input id='attrs-c25e1eaa-7186-43f0-a187-5a9554545570' class='xr-var-attrs-in' type='checkbox' disabled><label for='attrs-c25e1eaa-7186-43f0-a187-5a9554545570' title='Show/Hide attributes'><svg class='icon xr-icon-file-text2'><use xlink:href='#icon-file-text2'></use></svg></label><input id='data-3489d23f-95f0-4cde-871d-d81a49690967' class='xr-var-data-in' type='checkbox'><label for='data-3489d23f-95f0-4cde-871d-d81a49690967' title='Show/Hide data repr'><svg class='icon xr-icon-database'><use xlink:href='#icon-database'></use></svg></label><div class='xr-var-attrs'><dl class='xr-attrs'></dl></div><div class='xr-var-data'><pre>array([&#x27;pitch&#x27;, &#x27;roll&#x27;, &#x27;heading&#x27;], dtype=&#x27;&lt;U7&#x27;)</pre></div></li><li class='xr-var-item'><div class='xr-var-name'><span class='xr-has-index'>corrected_acc_samples</span></div><div class='xr-var-dims'>(corrected_acc_samples)</div><div class='xr-var-dtype'>datetime64[ns]</div><div class='xr-var-preview xr-preview'>2023-10-18T21:20:12 ... 2023-10-...</div><input id='attrs-a5a0b725-ab97-42f7-8a92-82aa7fbb907c' class='xr-var-attrs-in' type='checkbox' disabled><label for='attrs-a5a0b725-ab97-42f7-8a92-82aa7fbb907c' title='Show/Hide attributes'><svg class='icon xr-icon-file-text2'><use xlink:href='#icon-file-text2'></use></svg></label><input id='data-067c6992-6453-4a40-b366-f1311779a625' class='xr-var-data-in' type='checkbox'><label for='data-067c6992-6453-4a40-b366-f1311779a625' title='Show/Hide data repr'><svg class='icon xr-icon-database'><use xlink:href='#icon-database'></use></svg></label><div class='xr-var-attrs'><dl class='xr-attrs'></dl></div><div class='xr-var-data'><pre>array([&#x27;2023-10-18T21:20:12.000000000&#x27;, &#x27;2023-10-18T21:20:12.002500000&#x27;,\n",
       "       &#x27;2023-10-18T21:20:12.005000000&#x27;, ..., &#x27;2023-10-18T21:28:40.995000000&#x27;,\n",
       "       &#x27;2023-10-18T21:28:40.997500000&#x27;, &#x27;2023-10-18T21:28:41.000000000&#x27;],\n",
       "      shape=(203601,), dtype=&#x27;datetime64[ns]&#x27;)</pre></div></li><li class='xr-var-item'><div class='xr-var-name'><span class='xr-has-index'>corrected_acc_variables</span></div><div class='xr-var-dims'>(corrected_acc_variables)</div><div class='xr-var-dtype'>&lt;U2</div><div class='xr-var-preview xr-preview'>&#x27;ax&#x27; &#x27;ay&#x27; &#x27;az&#x27;</div><input id='attrs-9451bf74-040c-4e4d-8af4-1625eeb8c981' class='xr-var-attrs-in' type='checkbox' disabled><label for='attrs-9451bf74-040c-4e4d-8af4-1625eeb8c981' title='Show/Hide attributes'><svg class='icon xr-icon-file-text2'><use xlink:href='#icon-file-text2'></use></svg></label><input id='data-6231ddb0-5cfb-4257-ad05-db7867b37e8f' class='xr-var-data-in' type='checkbox'><label for='data-6231ddb0-5cfb-4257-ad05-db7867b37e8f' title='Show/Hide data repr'><svg class='icon xr-icon-database'><use xlink:href='#icon-database'></use></svg></label><div class='xr-var-attrs'><dl class='xr-attrs'></dl></div><div class='xr-var-data'><pre>array([&#x27;ax&#x27;, &#x27;ay&#x27;, &#x27;az&#x27;], dtype=&#x27;&lt;U2&#x27;)</pre></div></li><li class='xr-var-item'><div class='xr-var-name'><span class='xr-has-index'>corrected_mag_samples</span></div><div class='xr-var-dims'>(corrected_mag_samples)</div><div class='xr-var-dtype'>datetime64[ns]</div><div class='xr-var-preview xr-preview'>2023-10-18T21:20:12 ... 2023-10-...</div><input id='attrs-08539f5f-361e-435b-818f-847565f4bc89' class='xr-var-attrs-in' type='checkbox' disabled><label for='attrs-08539f5f-361e-435b-818f-847565f4bc89' title='Show/Hide attributes'><svg class='icon xr-icon-file-text2'><use xlink:href='#icon-file-text2'></use></svg></label><input id='data-c65a57a4-fea0-4045-978b-3e9ea1b797bb' class='xr-var-data-in' type='checkbox'><label for='data-c65a57a4-fea0-4045-978b-3e9ea1b797bb' title='Show/Hide data repr'><svg class='icon xr-icon-database'><use xlink:href='#icon-database'></use></svg></label><div class='xr-var-attrs'><dl class='xr-attrs'></dl></div><div class='xr-var-data'><pre>array([&#x27;2023-10-18T21:20:12.000000000&#x27;, &#x27;2023-10-18T21:20:12.002500000&#x27;,\n",
       "       &#x27;2023-10-18T21:20:12.005000000&#x27;, ..., &#x27;2023-10-18T21:28:40.995000000&#x27;,\n",
       "       &#x27;2023-10-18T21:28:40.997500000&#x27;, &#x27;2023-10-18T21:28:41.000000000&#x27;],\n",
       "      shape=(203601,), dtype=&#x27;datetime64[ns]&#x27;)</pre></div></li><li class='xr-var-item'><div class='xr-var-name'><span class='xr-has-index'>corrected_mag_variables</span></div><div class='xr-var-dims'>(corrected_mag_variables)</div><div class='xr-var-dtype'>&lt;U2</div><div class='xr-var-preview xr-preview'>&#x27;mx&#x27; &#x27;my&#x27; &#x27;mz&#x27;</div><input id='attrs-cfec5e3b-e792-4769-a195-15123c274b62' class='xr-var-attrs-in' type='checkbox' disabled><label for='attrs-cfec5e3b-e792-4769-a195-15123c274b62' title='Show/Hide attributes'><svg class='icon xr-icon-file-text2'><use xlink:href='#icon-file-text2'></use></svg></label><input id='data-f576b71b-2047-4916-b481-8892eb24e260' class='xr-var-data-in' type='checkbox'><label for='data-f576b71b-2047-4916-b481-8892eb24e260' title='Show/Hide data repr'><svg class='icon xr-icon-database'><use xlink:href='#icon-database'></use></svg></label><div class='xr-var-attrs'><dl class='xr-attrs'></dl></div><div class='xr-var-data'><pre>array([&#x27;mx&#x27;, &#x27;my&#x27;, &#x27;mz&#x27;], dtype=&#x27;&lt;U2&#x27;)</pre></div></li><li class='xr-var-item'><div class='xr-var-name'><span class='xr-has-index'>corrected_gyr_samples</span></div><div class='xr-var-dims'>(corrected_gyr_samples)</div><div class='xr-var-dtype'>datetime64[ns]</div><div class='xr-var-preview xr-preview'>2023-10-18T21:20:12 ... 2023-10-...</div><input id='attrs-e403b40d-b703-42b9-8394-884430f8ec4d' class='xr-var-attrs-in' type='checkbox' disabled><label for='attrs-e403b40d-b703-42b9-8394-884430f8ec4d' title='Show/Hide attributes'><svg class='icon xr-icon-file-text2'><use xlink:href='#icon-file-text2'></use></svg></label><input id='data-888689aa-9c68-4b4d-836f-14aadd35a3d4' class='xr-var-data-in' type='checkbox'><label for='data-888689aa-9c68-4b4d-836f-14aadd35a3d4' title='Show/Hide data repr'><svg class='icon xr-icon-database'><use xlink:href='#icon-database'></use></svg></label><div class='xr-var-attrs'><dl class='xr-attrs'></dl></div><div class='xr-var-data'><pre>array([&#x27;2023-10-18T21:20:12.000000000&#x27;, &#x27;2023-10-18T21:20:12.002500000&#x27;,\n",
       "       &#x27;2023-10-18T21:20:12.005000000&#x27;, ..., &#x27;2023-10-18T21:28:40.995000000&#x27;,\n",
       "       &#x27;2023-10-18T21:28:40.997500000&#x27;, &#x27;2023-10-18T21:28:41.000000000&#x27;],\n",
       "      shape=(203601,), dtype=&#x27;datetime64[ns]&#x27;)</pre></div></li><li class='xr-var-item'><div class='xr-var-name'><span class='xr-has-index'>corrected_gyr_variables</span></div><div class='xr-var-dims'>(corrected_gyr_variables)</div><div class='xr-var-dtype'>&lt;U2</div><div class='xr-var-preview xr-preview'>&#x27;gx&#x27; &#x27;gy&#x27; &#x27;gz&#x27;</div><input id='attrs-e3935631-a37e-4850-b8dd-ed80e1cf989a' class='xr-var-attrs-in' type='checkbox' disabled><label for='attrs-e3935631-a37e-4850-b8dd-ed80e1cf989a' title='Show/Hide attributes'><svg class='icon xr-icon-file-text2'><use xlink:href='#icon-file-text2'></use></svg></label><input id='data-caf8f766-5315-4fb5-a4ff-23196117626d' class='xr-var-data-in' type='checkbox'><label for='data-caf8f766-5315-4fb5-a4ff-23196117626d' title='Show/Hide data repr'><svg class='icon xr-icon-database'><use xlink:href='#icon-database'></use></svg></label><div class='xr-var-attrs'><dl class='xr-attrs'></dl></div><div class='xr-var-data'><pre>array([&#x27;gx&#x27;, &#x27;gy&#x27;, &#x27;gz&#x27;], dtype=&#x27;&lt;U2&#x27;)</pre></div></li><li class='xr-var-item'><div class='xr-var-name'><span class='xr-has-index'>sr_smoothed_samples</span></div><div class='xr-var-dims'>(sr_smoothed_samples)</div><div class='xr-var-dtype'>datetime64[ns]</div><div class='xr-var-preview xr-preview'>2023-10-18T21:20:12 ... 2023-10-...</div><input id='attrs-5be3428e-3b8c-43de-b35e-de076d006efa' class='xr-var-attrs-in' type='checkbox' disabled><label for='attrs-5be3428e-3b8c-43de-b35e-de076d006efa' title='Show/Hide attributes'><svg class='icon xr-icon-file-text2'><use xlink:href='#icon-file-text2'></use></svg></label><input id='data-06275f14-3524-4ca1-98ec-3d4c01cba44f' class='xr-var-data-in' type='checkbox'><label for='data-06275f14-3524-4ca1-98ec-3d4c01cba44f' title='Show/Hide data repr'><svg class='icon xr-icon-database'><use xlink:href='#icon-database'></use></svg></label><div class='xr-var-attrs'><dl class='xr-attrs'></dl></div><div class='xr-var-data'><pre>array([&#x27;2023-10-18T21:20:12.000000000&#x27;, &#x27;2023-10-18T21:20:12.002500000&#x27;,\n",
       "       &#x27;2023-10-18T21:20:12.005000000&#x27;, ..., &#x27;2023-10-18T21:28:40.995000000&#x27;,\n",
       "       &#x27;2023-10-18T21:28:40.997500000&#x27;, &#x27;2023-10-18T21:28:41.000000000&#x27;],\n",
       "      shape=(203601,), dtype=&#x27;datetime64[ns]&#x27;)</pre></div></li><li class='xr-var-item'><div class='xr-var-name'><span class='xr-has-index'>stroke_rate_samples</span></div><div class='xr-var-dims'>(stroke_rate_samples)</div><div class='xr-var-dtype'>datetime64[ns]</div><div class='xr-var-preview xr-preview'>2023-10-18T21:20:12 ... 2023-10-...</div><input id='attrs-a6bd800d-249d-4a33-9008-495fcf166543' class='xr-var-attrs-in' type='checkbox' disabled><label for='attrs-a6bd800d-249d-4a33-9008-495fcf166543' title='Show/Hide attributes'><svg class='icon xr-icon-file-text2'><use xlink:href='#icon-file-text2'></use></svg></label><input id='data-d51bd655-3112-482d-9379-fd40b2a9c37a' class='xr-var-data-in' type='checkbox'><label for='data-d51bd655-3112-482d-9379-fd40b2a9c37a' title='Show/Hide data repr'><svg class='icon xr-icon-database'><use xlink:href='#icon-database'></use></svg></label><div class='xr-var-attrs'><dl class='xr-attrs'></dl></div><div class='xr-var-data'><pre>array([&#x27;2023-10-18T21:20:12.000000000&#x27;, &#x27;2023-10-18T21:20:12.002500000&#x27;,\n",
       "       &#x27;2023-10-18T21:20:12.005000000&#x27;, ..., &#x27;2023-10-18T21:28:40.995000000&#x27;,\n",
       "       &#x27;2023-10-18T21:28:40.997500000&#x27;, &#x27;2023-10-18T21:28:41.000000000&#x27;],\n",
       "      shape=(203601,), dtype=&#x27;datetime64[ns]&#x27;)</pre></div></li><li class='xr-var-item'><div class='xr-var-name'><span class='xr-has-index'>odba_samples</span></div><div class='xr-var-dims'>(odba_samples)</div><div class='xr-var-dtype'>datetime64[ns]</div><div class='xr-var-preview xr-preview'>2023-10-18T21:20:12 ... 2023-10-...</div><input id='attrs-37cc4641-c9d1-4a50-aa37-860228a4802c' class='xr-var-attrs-in' type='checkbox' disabled><label for='attrs-37cc4641-c9d1-4a50-aa37-860228a4802c' title='Show/Hide attributes'><svg class='icon xr-icon-file-text2'><use xlink:href='#icon-file-text2'></use></svg></label><input id='data-64690328-8fe3-41a7-8e86-4fd33cef1fc9' class='xr-var-data-in' type='checkbox'><label for='data-64690328-8fe3-41a7-8e86-4fd33cef1fc9' title='Show/Hide data repr'><svg class='icon xr-icon-database'><use xlink:href='#icon-database'></use></svg></label><div class='xr-var-attrs'><dl class='xr-attrs'></dl></div><div class='xr-var-data'><pre>array([&#x27;2023-10-18T21:20:12.000000000&#x27;, &#x27;2023-10-18T21:20:12.002500000&#x27;,\n",
       "       &#x27;2023-10-18T21:20:12.005000000&#x27;, ..., &#x27;2023-10-18T21:28:40.995000000&#x27;,\n",
       "       &#x27;2023-10-18T21:28:40.997500000&#x27;, &#x27;2023-10-18T21:28:41.000000000&#x27;],\n",
       "      shape=(203601,), dtype=&#x27;datetime64[ns]&#x27;)</pre></div></li><li class='xr-var-item'><div class='xr-var-name'><span class='xr-has-index'>hr_normalized_samples</span></div><div class='xr-var-dims'>(hr_normalized_samples)</div><div class='xr-var-dtype'>datetime64[ns]</div><div class='xr-var-preview xr-preview'>2023-10-18T21:20:12 ... 2023-10-...</div><input id='attrs-4bfd7329-8766-4e99-afcb-8753f5b0a656' class='xr-var-attrs-in' type='checkbox' disabled><label for='attrs-4bfd7329-8766-4e99-afcb-8753f5b0a656' title='Show/Hide attributes'><svg class='icon xr-icon-file-text2'><use xlink:href='#icon-file-text2'></use></svg></label><input id='data-80f194ea-b5fb-4481-9945-aa362d51cda6' class='xr-var-data-in' type='checkbox'><label for='data-80f194ea-b5fb-4481-9945-aa362d51cda6' title='Show/Hide data repr'><svg class='icon xr-icon-database'><use xlink:href='#icon-database'></use></svg></label><div class='xr-var-attrs'><dl class='xr-attrs'></dl></div><div class='xr-var-data'><pre>array([&#x27;2023-10-18T21:20:12.000000000&#x27;, &#x27;2023-10-18T21:20:12.010000000&#x27;,\n",
       "       &#x27;2023-10-18T21:20:12.020000000&#x27;, ..., &#x27;2023-10-18T21:28:40.980000000&#x27;,\n",
       "       &#x27;2023-10-18T21:28:40.990000000&#x27;, &#x27;2023-10-18T21:28:41.000000000&#x27;],\n",
       "      shape=(50901,), dtype=&#x27;datetime64[ns]&#x27;)</pre></div></li><li class='xr-var-item'><div class='xr-var-name'><span class='xr-has-index'>heart_rate_samples</span></div><div class='xr-var-dims'>(heart_rate_samples)</div><div class='xr-var-dtype'>datetime64[ns]</div><div class='xr-var-preview xr-preview'>2023-10-18T21:20:12 ... 2023-10-...</div><input id='attrs-0b6b5018-f632-4e7c-9f06-157f67c2a67b' class='xr-var-attrs-in' type='checkbox' disabled><label for='attrs-0b6b5018-f632-4e7c-9f06-157f67c2a67b' title='Show/Hide attributes'><svg class='icon xr-icon-file-text2'><use xlink:href='#icon-file-text2'></use></svg></label><input id='data-d5881130-5618-450c-8fc3-374c29d16711' class='xr-var-data-in' type='checkbox'><label for='data-d5881130-5618-450c-8fc3-374c29d16711' title='Show/Hide data repr'><svg class='icon xr-icon-database'><use xlink:href='#icon-database'></use></svg></label><div class='xr-var-attrs'><dl class='xr-attrs'></dl></div><div class='xr-var-data'><pre>array([&#x27;2023-10-18T21:20:12.000000000&#x27;, &#x27;2023-10-18T21:20:12.010000000&#x27;,\n",
       "       &#x27;2023-10-18T21:20:12.020000000&#x27;, ..., &#x27;2023-10-18T21:28:40.980000000&#x27;,\n",
       "       &#x27;2023-10-18T21:28:40.990000000&#x27;, &#x27;2023-10-18T21:28:41.000000000&#x27;],\n",
       "      shape=(50901,), dtype=&#x27;datetime64[ns]&#x27;)</pre></div></li><li class='xr-var-item'><div class='xr-var-name'><span class='xr-has-index'>event_data_samples</span></div><div class='xr-var-dims'>(event_data_samples)</div><div class='xr-var-dtype'>datetime64[ns]</div><div class='xr-var-preview xr-preview'>2023-10-18T21:20:00.290000 ... 2...</div><input id='attrs-5852500b-ea74-4a9b-b478-abef286fdfab' class='xr-var-attrs-in' type='checkbox' disabled><label for='attrs-5852500b-ea74-4a9b-b478-abef286fdfab' title='Show/Hide attributes'><svg class='icon xr-icon-file-text2'><use xlink:href='#icon-file-text2'></use></svg></label><input id='data-d9371d7e-faae-40a3-8eca-2ea83b82dfef' class='xr-var-data-in' type='checkbox'><label for='data-d9371d7e-faae-40a3-8eca-2ea83b82dfef' title='Show/Hide data repr'><svg class='icon xr-icon-database'><use xlink:href='#icon-database'></use></svg></label><div class='xr-var-attrs'><dl class='xr-attrs'></dl></div><div class='xr-var-data'><pre>array([&#x27;2023-10-18T21:20:00.290000000&#x27;, &#x27;2023-10-18T21:20:02.180000000&#x27;,\n",
       "       &#x27;2023-10-18T21:20:03.090000000&#x27;, ..., &#x27;2023-10-18T21:28:38.420000000&#x27;,\n",
       "       &#x27;2023-10-18T21:28:39.240000000&#x27;, &#x27;2023-10-18T21:28:40.080000000&#x27;],\n",
       "      shape=(1089,), dtype=&#x27;datetime64[ns]&#x27;)</pre></div></li></ul></div></li><li class='xr-section-item'><input id='section-c0317006-7781-4359-a585-b03d3286490f' class='xr-section-summary-in' type='checkbox'  ><label for='section-c0317006-7781-4359-a585-b03d3286490f' class='xr-section-summary' >Data variables: <span>(23)</span></label><div class='xr-section-inline-details'></div><div class='xr-section-details'><ul class='xr-var-list'><li class='xr-var-item'><div class='xr-var-name'><span>sensor_data_light</span></div><div class='xr-var-dims'>(light_samples)</div><div class='xr-var-dtype'>int64</div><div class='xr-var-preview xr-preview'>...</div><input id='attrs-97c7eba3-fc1e-4ded-9d49-ad59786193c3' class='xr-var-attrs-in' type='checkbox' ><label for='attrs-97c7eba3-fc1e-4ded-9d49-ad59786193c3' title='Show/Hide attributes'><svg class='icon xr-icon-file-text2'><use xlink:href='#icon-file-text2'></use></svg></label><input id='data-f8678632-eb50-4b23-9cee-1264bfc306d7' class='xr-var-data-in' type='checkbox'><label for='data-f8678632-eb50-4b23-9cee-1264bfc306d7' title='Show/Hide data repr'><svg class='icon xr-icon-database'><use xlink:href='#icon-database'></use></svg></label><div class='xr-var-attrs'><dl class='xr-attrs'><dt><span>variables :</span></dt><dd>light</dd></dl></div><div class='xr-var-data'><pre>[510 values with dtype=int64]</pre></div></li><li class='xr-var-item'><div class='xr-var-name'><span>sensor_data_magnetometer</span></div><div class='xr-var-dims'>(magnetometer_samples, magnetometer_variables)</div><div class='xr-var-dtype'>float64</div><div class='xr-var-preview xr-preview'>...</div><input id='attrs-a85f5ce3-9cae-4f33-ad16-863fd369888d' class='xr-var-attrs-in' type='checkbox' ><label for='attrs-a85f5ce3-9cae-4f33-ad16-863fd369888d' title='Show/Hide attributes'><svg class='icon xr-icon-file-text2'><use xlink:href='#icon-file-text2'></use></svg></label><input id='data-66ca6c58-421f-41ef-9b79-2340af7359ed' class='xr-var-data-in' type='checkbox'><label for='data-66ca6c58-421f-41ef-9b79-2340af7359ed' title='Show/Hide data repr'><svg class='icon xr-icon-database'><use xlink:href='#icon-database'></use></svg></label><div class='xr-var-attrs'><dl class='xr-attrs'><dt><span>variables :</span></dt><dd>[&#x27;mx&#x27;, &#x27;my&#x27;, &#x27;mz&#x27;]</dd></dl></div><div class='xr-var-data'><pre>[76353 values with dtype=float64]</pre></div></li><li class='xr-var-item'><div class='xr-var-name'><span>sensor_data_temperature</span></div><div class='xr-var-dims'>(temperature_samples)</div><div class='xr-var-dtype'>float64</div><div class='xr-var-preview xr-preview'>...</div><input id='attrs-7a4cb605-6b61-4254-ac06-57f03837347b' class='xr-var-attrs-in' type='checkbox' ><label for='attrs-7a4cb605-6b61-4254-ac06-57f03837347b' title='Show/Hide attributes'><svg class='icon xr-icon-file-text2'><use xlink:href='#icon-file-text2'></use></svg></label><input id='data-dbd6ca67-70a9-4e07-a196-c2f63e8607a2' class='xr-var-data-in' type='checkbox'><label for='data-dbd6ca67-70a9-4e07-a196-c2f63e8607a2' title='Show/Hide data repr'><svg class='icon xr-icon-database'><use xlink:href='#icon-database'></use></svg></label><div class='xr-var-attrs'><dl class='xr-attrs'><dt><span>variables :</span></dt><dd>temp</dd></dl></div><div class='xr-var-data'><pre>[510 values with dtype=float64]</pre></div></li><li class='xr-var-item'><div class='xr-var-name'><span>sensor_data_accelerometer</span></div><div class='xr-var-dims'>(accelerometer_samples, accelerometer_variables)</div><div class='xr-var-dtype'>float64</div><div class='xr-var-preview xr-preview'>...</div><input id='attrs-4632cdb9-c024-4d33-a04a-217f48c5b338' class='xr-var-attrs-in' type='checkbox' ><label for='attrs-4632cdb9-c024-4d33-a04a-217f48c5b338' title='Show/Hide attributes'><svg class='icon xr-icon-file-text2'><use xlink:href='#icon-file-text2'></use></svg></label><input id='data-1d021ac1-1ee4-4cf4-9f2e-f795ca86ad04' class='xr-var-data-in' type='checkbox'><label for='data-1d021ac1-1ee4-4cf4-9f2e-f795ca86ad04' title='Show/Hide data repr'><svg class='icon xr-icon-database'><use xlink:href='#icon-database'></use></svg></label><div class='xr-var-attrs'><dl class='xr-attrs'><dt><span>variables :</span></dt><dd>[&#x27;ax&#x27;, &#x27;ay&#x27;, &#x27;az&#x27;]</dd></dl></div><div class='xr-var-data'><pre>[610803 values with dtype=float64]</pre></div></li><li class='xr-var-item'><div class='xr-var-name'><span>sensor_data_pressure</span></div><div class='xr-var-dims'>(pressure_samples)</div><div class='xr-var-dtype'>float64</div><div class='xr-var-preview xr-preview'>...</div><input id='attrs-a929a018-0222-4071-89ab-b11027ac2d8c' class='xr-var-attrs-in' type='checkbox' ><label for='attrs-a929a018-0222-4071-89ab-b11027ac2d8c' title='Show/Hide attributes'><svg class='icon xr-icon-file-text2'><use xlink:href='#icon-file-text2'></use></svg></label><input id='data-cd6c20b2-215e-4d75-9931-b148fa892102' class='xr-var-data-in' type='checkbox'><label for='data-cd6c20b2-215e-4d75-9931-b148fa892102' title='Show/Hide data repr'><svg class='icon xr-icon-database'><use xlink:href='#icon-database'></use></svg></label><div class='xr-var-attrs'><dl class='xr-attrs'><dt><span>variables :</span></dt><dd>pressure</dd></dl></div><div class='xr-var-data'><pre>[25451 values with dtype=float64]</pre></div></li><li class='xr-var-item'><div class='xr-var-name'><span>sensor_data_gyroscope</span></div><div class='xr-var-dims'>(gyroscope_samples, gyroscope_variables)</div><div class='xr-var-dtype'>float64</div><div class='xr-var-preview xr-preview'>...</div><input id='attrs-dfe69daf-2b8d-43a4-8be3-13c6fcb8d3b2' class='xr-var-attrs-in' type='checkbox' ><label for='attrs-dfe69daf-2b8d-43a4-8be3-13c6fcb8d3b2' title='Show/Hide attributes'><svg class='icon xr-icon-file-text2'><use xlink:href='#icon-file-text2'></use></svg></label><input id='data-9d0d502e-b0a4-4410-8c0f-5bd8a349750c' class='xr-var-data-in' type='checkbox'><label for='data-9d0d502e-b0a4-4410-8c0f-5bd8a349750c' title='Show/Hide data repr'><svg class='icon xr-icon-database'><use xlink:href='#icon-database'></use></svg></label><div class='xr-var-attrs'><dl class='xr-attrs'><dt><span>variables :</span></dt><dd>[&#x27;gx&#x27;, &#x27;gy&#x27;, &#x27;gz&#x27;]</dd></dl></div><div class='xr-var-data'><pre>[76353 values with dtype=float64]</pre></div></li><li class='xr-var-item'><div class='xr-var-name'><span>sensor_data_ecg</span></div><div class='xr-var-dims'>(ecg_samples)</div><div class='xr-var-dtype'>int64</div><div class='xr-var-preview xr-preview'>...</div><input id='attrs-b2e05afe-b0ad-48cb-8760-635cac362597' class='xr-var-attrs-in' type='checkbox' ><label for='attrs-b2e05afe-b0ad-48cb-8760-635cac362597' title='Show/Hide attributes'><svg class='icon xr-icon-file-text2'><use xlink:href='#icon-file-text2'></use></svg></label><input id='data-2af1a3ed-31ad-4300-933c-873cdfbba728' class='xr-var-data-in' type='checkbox'><label for='data-2af1a3ed-31ad-4300-933c-873cdfbba728' title='Show/Hide data repr'><svg class='icon xr-icon-database'><use xlink:href='#icon-database'></use></svg></label><div class='xr-var-attrs'><dl class='xr-attrs'><dt><span>variables :</span></dt><dd>ecg</dd></dl></div><div class='xr-var-data'><pre>[50901 values with dtype=int64]</pre></div></li><li class='xr-var-item'><div class='xr-var-name'><span>derived_data_depth</span></div><div class='xr-var-dims'>(depth_samples)</div><div class='xr-var-dtype'>float64</div><div class='xr-var-preview xr-preview'>...</div><input id='attrs-20694025-b156-47ee-8c65-7d5553fd9d65' class='xr-var-attrs-in' type='checkbox' ><label for='attrs-20694025-b156-47ee-8c65-7d5553fd9d65' title='Show/Hide attributes'><svg class='icon xr-icon-file-text2'><use xlink:href='#icon-file-text2'></use></svg></label><input id='data-bceb3860-c3da-477e-97ec-e55070610709' class='xr-var-data-in' type='checkbox'><label for='data-bceb3860-c3da-477e-97ec-e55070610709' title='Show/Hide data repr'><svg class='icon xr-icon-database'><use xlink:href='#icon-database'></use></svg></label><div class='xr-var-attrs'><dl class='xr-attrs'><dt><span>variables :</span></dt><dd>depth</dd></dl></div><div class='xr-var-data'><pre>[510 values with dtype=float64]</pre></div></li><li class='xr-var-item'><div class='xr-var-name'><span>derived_data_prh</span></div><div class='xr-var-dims'>(prh_samples, prh_variables)</div><div class='xr-var-dtype'>float64</div><div class='xr-var-preview xr-preview'>...</div><input id='attrs-40c1f08f-8336-41d2-8d1e-536cf70f58e7' class='xr-var-attrs-in' type='checkbox' ><label for='attrs-40c1f08f-8336-41d2-8d1e-536cf70f58e7' title='Show/Hide attributes'><svg class='icon xr-icon-file-text2'><use xlink:href='#icon-file-text2'></use></svg></label><input id='data-ad7f053c-2160-4bba-a438-219f54b6f91d' class='xr-var-data-in' type='checkbox'><label for='data-ad7f053c-2160-4bba-a438-219f54b6f91d' title='Show/Hide data repr'><svg class='icon xr-icon-database'><use xlink:href='#icon-database'></use></svg></label><div class='xr-var-attrs'><dl class='xr-attrs'><dt><span>variables :</span></dt><dd>[&#x27;pitch&#x27;, &#x27;roll&#x27;, &#x27;heading&#x27;]</dd></dl></div><div class='xr-var-data'><pre>[610803 values with dtype=float64]</pre></div></li><li class='xr-var-item'><div class='xr-var-name'><span>derived_data_corrected_acc</span></div><div class='xr-var-dims'>(corrected_acc_samples, corrected_acc_variables)</div><div class='xr-var-dtype'>float64</div><div class='xr-var-preview xr-preview'>...</div><input id='attrs-6f38cd2a-16f6-4e03-a895-dc3cc6e63f78' class='xr-var-attrs-in' type='checkbox' ><label for='attrs-6f38cd2a-16f6-4e03-a895-dc3cc6e63f78' title='Show/Hide attributes'><svg class='icon xr-icon-file-text2'><use xlink:href='#icon-file-text2'></use></svg></label><input id='data-19e8f2d0-2b7a-423f-8272-cc67b367df0b' class='xr-var-data-in' type='checkbox'><label for='data-19e8f2d0-2b7a-423f-8272-cc67b367df0b' title='Show/Hide data repr'><svg class='icon xr-icon-database'><use xlink:href='#icon-database'></use></svg></label><div class='xr-var-attrs'><dl class='xr-attrs'><dt><span>variables :</span></dt><dd>[&#x27;ax&#x27;, &#x27;ay&#x27;, &#x27;az&#x27;]</dd></dl></div><div class='xr-var-data'><pre>[610803 values with dtype=float64]</pre></div></li><li class='xr-var-item'><div class='xr-var-name'><span>derived_data_corrected_mag</span></div><div class='xr-var-dims'>(corrected_mag_samples, corrected_mag_variables)</div><div class='xr-var-dtype'>float64</div><div class='xr-var-preview xr-preview'>...</div><input id='attrs-01dfee77-8b2b-40ab-b9b7-0f574f8be342' class='xr-var-attrs-in' type='checkbox' ><label for='attrs-01dfee77-8b2b-40ab-b9b7-0f574f8be342' title='Show/Hide attributes'><svg class='icon xr-icon-file-text2'><use xlink:href='#icon-file-text2'></use></svg></label><input id='data-36ff7dd5-94c7-4d22-b1a3-938406d6dbe6' class='xr-var-data-in' type='checkbox'><label for='data-36ff7dd5-94c7-4d22-b1a3-938406d6dbe6' title='Show/Hide data repr'><svg class='icon xr-icon-database'><use xlink:href='#icon-database'></use></svg></label><div class='xr-var-attrs'><dl class='xr-attrs'><dt><span>variables :</span></dt><dd>[&#x27;mx&#x27;, &#x27;my&#x27;, &#x27;mz&#x27;]</dd></dl></div><div class='xr-var-data'><pre>[610803 values with dtype=float64]</pre></div></li><li class='xr-var-item'><div class='xr-var-name'><span>derived_data_corrected_gyr</span></div><div class='xr-var-dims'>(corrected_gyr_samples, corrected_gyr_variables)</div><div class='xr-var-dtype'>float64</div><div class='xr-var-preview xr-preview'>...</div><input id='attrs-300eef98-ff70-4f5f-9e14-56575ce12e04' class='xr-var-attrs-in' type='checkbox' ><label for='attrs-300eef98-ff70-4f5f-9e14-56575ce12e04' title='Show/Hide attributes'><svg class='icon xr-icon-file-text2'><use xlink:href='#icon-file-text2'></use></svg></label><input id='data-579ff0ba-29d8-418f-816f-fb86831b8e50' class='xr-var-data-in' type='checkbox'><label for='data-579ff0ba-29d8-418f-816f-fb86831b8e50' title='Show/Hide data repr'><svg class='icon xr-icon-database'><use xlink:href='#icon-database'></use></svg></label><div class='xr-var-attrs'><dl class='xr-attrs'><dt><span>variables :</span></dt><dd>[&#x27;gx&#x27;, &#x27;gy&#x27;, &#x27;gz&#x27;]</dd></dl></div><div class='xr-var-data'><pre>[610803 values with dtype=float64]</pre></div></li><li class='xr-var-item'><div class='xr-var-name'><span>derived_data_sr_smoothed</span></div><div class='xr-var-dims'>(sr_smoothed_samples)</div><div class='xr-var-dtype'>float64</div><div class='xr-var-preview xr-preview'>...</div><input id='attrs-f10a10aa-1049-4add-929f-7e129ad1f65a' class='xr-var-attrs-in' type='checkbox' ><label for='attrs-f10a10aa-1049-4add-929f-7e129ad1f65a' title='Show/Hide attributes'><svg class='icon xr-icon-file-text2'><use xlink:href='#icon-file-text2'></use></svg></label><input id='data-3c3392de-f69c-4fab-af2d-93cb7734afb4' class='xr-var-data-in' type='checkbox'><label for='data-3c3392de-f69c-4fab-af2d-93cb7734afb4' title='Show/Hide data repr'><svg class='icon xr-icon-database'><use xlink:href='#icon-database'></use></svg></label><div class='xr-var-attrs'><dl class='xr-attrs'><dt><span>variables :</span></dt><dd>smoothed</dd></dl></div><div class='xr-var-data'><pre>[203601 values with dtype=float64]</pre></div></li><li class='xr-var-item'><div class='xr-var-name'><span>derived_data_stroke_rate</span></div><div class='xr-var-dims'>(stroke_rate_samples)</div><div class='xr-var-dtype'>float64</div><div class='xr-var-preview xr-preview'>...</div><input id='attrs-e0f5fe56-5dbe-4366-a32e-0988fe526fa2' class='xr-var-attrs-in' type='checkbox' ><label for='attrs-e0f5fe56-5dbe-4366-a32e-0988fe526fa2' title='Show/Hide attributes'><svg class='icon xr-icon-file-text2'><use xlink:href='#icon-file-text2'></use></svg></label><input id='data-d9ea363f-2958-4380-b5ed-8304a3630c5e' class='xr-var-data-in' type='checkbox'><label for='data-d9ea363f-2958-4380-b5ed-8304a3630c5e' title='Show/Hide data repr'><svg class='icon xr-icon-database'><use xlink:href='#icon-database'></use></svg></label><div class='xr-var-attrs'><dl class='xr-attrs'><dt><span>variables :</span></dt><dd>stroke_rate</dd></dl></div><div class='xr-var-data'><pre>[203601 values with dtype=float64]</pre></div></li><li class='xr-var-item'><div class='xr-var-name'><span>derived_data_odba</span></div><div class='xr-var-dims'>(odba_samples)</div><div class='xr-var-dtype'>float64</div><div class='xr-var-preview xr-preview'>...</div><input id='attrs-255fd874-78fd-4bbc-9b24-db2f187894c2' class='xr-var-attrs-in' type='checkbox' ><label for='attrs-255fd874-78fd-4bbc-9b24-db2f187894c2' title='Show/Hide attributes'><svg class='icon xr-icon-file-text2'><use xlink:href='#icon-file-text2'></use></svg></label><input id='data-4b241259-ce77-4023-9219-0e14d3b9203d' class='xr-var-data-in' type='checkbox'><label for='data-4b241259-ce77-4023-9219-0e14d3b9203d' title='Show/Hide data repr'><svg class='icon xr-icon-database'><use xlink:href='#icon-database'></use></svg></label><div class='xr-var-attrs'><dl class='xr-attrs'><dt><span>variables :</span></dt><dd>odba</dd></dl></div><div class='xr-var-data'><pre>[203601 values with dtype=float64]</pre></div></li><li class='xr-var-item'><div class='xr-var-name'><span>derived_data_hr_normalized</span></div><div class='xr-var-dims'>(hr_normalized_samples)</div><div class='xr-var-dtype'>float64</div><div class='xr-var-preview xr-preview'>...</div><input id='attrs-6c54b657-cf3f-4ce7-aee0-e3728d893659' class='xr-var-attrs-in' type='checkbox' ><label for='attrs-6c54b657-cf3f-4ce7-aee0-e3728d893659' title='Show/Hide attributes'><svg class='icon xr-icon-file-text2'><use xlink:href='#icon-file-text2'></use></svg></label><input id='data-154a6ac8-dbfb-4901-a9d0-d473e2e8a702' class='xr-var-data-in' type='checkbox'><label for='data-154a6ac8-dbfb-4901-a9d0-d473e2e8a702' title='Show/Hide data repr'><svg class='icon xr-icon-database'><use xlink:href='#icon-database'></use></svg></label><div class='xr-var-attrs'><dl class='xr-attrs'><dt><span>variables :</span></dt><dd>normalized</dd></dl></div><div class='xr-var-data'><pre>[50901 values with dtype=float64]</pre></div></li><li class='xr-var-item'><div class='xr-var-name'><span>derived_data_heart_rate</span></div><div class='xr-var-dims'>(heart_rate_samples)</div><div class='xr-var-dtype'>float64</div><div class='xr-var-preview xr-preview'>...</div><input id='attrs-3ae53c1f-5fe4-4612-9056-d38ebf49f33b' class='xr-var-attrs-in' type='checkbox' ><label for='attrs-3ae53c1f-5fe4-4612-9056-d38ebf49f33b' title='Show/Hide attributes'><svg class='icon xr-icon-file-text2'><use xlink:href='#icon-file-text2'></use></svg></label><input id='data-e5edff51-4072-4522-ba52-d6aaa8a6a631' class='xr-var-data-in' type='checkbox'><label for='data-e5edff51-4072-4522-ba52-d6aaa8a6a631' title='Show/Hide data repr'><svg class='icon xr-icon-database'><use xlink:href='#icon-database'></use></svg></label><div class='xr-var-attrs'><dl class='xr-attrs'><dt><span>variables :</span></dt><dd>heart_rate</dd></dl></div><div class='xr-var-data'><pre>[50901 values with dtype=float64]</pre></div></li><li class='xr-var-item'><div class='xr-var-name'><span>event_data_type</span></div><div class='xr-var-dims'>(event_data_samples)</div><div class='xr-var-dtype'>&lt;U5</div><div class='xr-var-preview xr-preview'>...</div><input id='attrs-3c82b726-64f7-4483-9ac1-c01ecfd48da0' class='xr-var-attrs-in' type='checkbox' ><label for='attrs-3c82b726-64f7-4483-9ac1-c01ecfd48da0' title='Show/Hide attributes'><svg class='icon xr-icon-file-text2'><use xlink:href='#icon-file-text2'></use></svg></label><input id='data-70f50513-5706-4af7-b84a-900965beffce' class='xr-var-data-in' type='checkbox'><label for='data-70f50513-5706-4af7-b84a-900965beffce' title='Show/Hide data repr'><svg class='icon xr-icon-database'><use xlink:href='#icon-database'></use></svg></label><div class='xr-var-attrs'><dl class='xr-attrs'><dt><span>variable :</span></dt><dd>type</dd></dl></div><div class='xr-var-data'><pre>[1089 values with dtype=&lt;U5]</pre></div></li><li class='xr-var-item'><div class='xr-var-name'><span>event_data_key</span></div><div class='xr-var-dims'>(event_data_samples)</div><div class='xr-var-dtype'>&lt;U31</div><div class='xr-var-preview xr-preview'>...</div><input id='attrs-7f272ba3-580e-4eb0-8574-d1190cb0626e' class='xr-var-attrs-in' type='checkbox' ><label for='attrs-7f272ba3-580e-4eb0-8574-d1190cb0626e' title='Show/Hide attributes'><svg class='icon xr-icon-file-text2'><use xlink:href='#icon-file-text2'></use></svg></label><input id='data-2903b84c-a5a3-48ed-adfe-ed7da848eb93' class='xr-var-data-in' type='checkbox'><label for='data-2903b84c-a5a3-48ed-adfe-ed7da848eb93' title='Show/Hide data repr'><svg class='icon xr-icon-database'><use xlink:href='#icon-database'></use></svg></label><div class='xr-var-attrs'><dl class='xr-attrs'><dt><span>variable :</span></dt><dd>key</dd></dl></div><div class='xr-var-data'><pre>[1089 values with dtype=&lt;U31]</pre></div></li><li class='xr-var-item'><div class='xr-var-name'><span>event_data_value</span></div><div class='xr-var-dims'>(event_data_samples)</div><div class='xr-var-dtype'>float64</div><div class='xr-var-preview xr-preview'>...</div><input id='attrs-f9b2145c-df6e-4079-a0a7-4a398d47fc87' class='xr-var-attrs-in' type='checkbox' ><label for='attrs-f9b2145c-df6e-4079-a0a7-4a398d47fc87' title='Show/Hide attributes'><svg class='icon xr-icon-file-text2'><use xlink:href='#icon-file-text2'></use></svg></label><input id='data-4b522ba1-c7ed-4ce6-a8fe-017a8f7d4fd0' class='xr-var-data-in' type='checkbox'><label for='data-4b522ba1-c7ed-4ce6-a8fe-017a8f7d4fd0' title='Show/Hide data repr'><svg class='icon xr-icon-database'><use xlink:href='#icon-database'></use></svg></label><div class='xr-var-attrs'><dl class='xr-attrs'><dt><span>variable :</span></dt><dd>value</dd></dl></div><div class='xr-var-data'><pre>[1089 values with dtype=float64]</pre></div></li><li class='xr-var-item'><div class='xr-var-name'><span>event_data_duration</span></div><div class='xr-var-dims'>(event_data_samples)</div><div class='xr-var-dtype'>float64</div><div class='xr-var-preview xr-preview'>...</div><input id='attrs-b1defb48-a966-4ec8-b906-0518eafab7ba' class='xr-var-attrs-in' type='checkbox' ><label for='attrs-b1defb48-a966-4ec8-b906-0518eafab7ba' title='Show/Hide attributes'><svg class='icon xr-icon-file-text2'><use xlink:href='#icon-file-text2'></use></svg></label><input id='data-f259c262-f64c-4b8f-9210-f6bf06806ca5' class='xr-var-data-in' type='checkbox'><label for='data-f259c262-f64c-4b8f-9210-f6bf06806ca5' title='Show/Hide data repr'><svg class='icon xr-icon-database'><use xlink:href='#icon-database'></use></svg></label><div class='xr-var-attrs'><dl class='xr-attrs'><dt><span>variable :</span></dt><dd>duration</dd></dl></div><div class='xr-var-data'><pre>[1089 values with dtype=float64]</pre></div></li><li class='xr-var-item'><div class='xr-var-name'><span>event_data_short_description</span></div><div class='xr-var-dims'>(event_data_samples)</div><div class='xr-var-dtype'>&lt;U42</div><div class='xr-var-preview xr-preview'>...</div><input id='attrs-7eee439c-de0d-4191-8256-5485e138b10c' class='xr-var-attrs-in' type='checkbox' ><label for='attrs-7eee439c-de0d-4191-8256-5485e138b10c' title='Show/Hide attributes'><svg class='icon xr-icon-file-text2'><use xlink:href='#icon-file-text2'></use></svg></label><input id='data-0d283e43-97e5-44b8-8835-63fc5e8530f8' class='xr-var-data-in' type='checkbox'><label for='data-0d283e43-97e5-44b8-8835-63fc5e8530f8' title='Show/Hide data repr'><svg class='icon xr-icon-database'><use xlink:href='#icon-database'></use></svg></label><div class='xr-var-attrs'><dl class='xr-attrs'><dt><span>variable :</span></dt><dd>short_description</dd></dl></div><div class='xr-var-data'><pre>[1089 values with dtype=&lt;U42]</pre></div></li><li class='xr-var-item'><div class='xr-var-name'><span>event_data_long_description</span></div><div class='xr-var-dims'>(event_data_samples)</div><div class='xr-var-dtype'>float64</div><div class='xr-var-preview xr-preview'>...</div><input id='attrs-44a08c09-3ad0-4735-989d-f84db1c5f13e' class='xr-var-attrs-in' type='checkbox' ><label for='attrs-44a08c09-3ad0-4735-989d-f84db1c5f13e' title='Show/Hide attributes'><svg class='icon xr-icon-file-text2'><use xlink:href='#icon-file-text2'></use></svg></label><input id='data-fec3b818-0a38-4aaa-bdc5-597a125de24b' class='xr-var-data-in' type='checkbox'><label for='data-fec3b818-0a38-4aaa-bdc5-597a125de24b' title='Show/Hide data repr'><svg class='icon xr-icon-database'><use xlink:href='#icon-database'></use></svg></label><div class='xr-var-attrs'><dl class='xr-attrs'><dt><span>variable :</span></dt><dd>long_description</dd></dl></div><div class='xr-var-data'><pre>[1089 values with dtype=float64]</pre></div></li></ul></div></li><li class='xr-section-item'><input id='section-6a4875e6-dd34-4a27-b55f-d8e8a61192e6' class='xr-section-summary-in' type='checkbox'  ><label for='section-6a4875e6-dd34-4a27-b55f-d8e8a61192e6' class='xr-section-summary' >Indexes: <span>(25)</span></label><div class='xr-section-inline-details'></div><div class='xr-section-details'><ul class='xr-var-list'><li class='xr-var-item'><div class='xr-index-name'><div>light_samples</div></div><div class='xr-index-preview'>PandasIndex</div><input type='checkbox' disabled/><label></label><input id='index-0b5ee809-cd46-4e44-910b-b047119fdc19' class='xr-index-data-in' type='checkbox'/><label for='index-0b5ee809-cd46-4e44-910b-b047119fdc19' title='Show/Hide index repr'><svg class='icon xr-icon-database'><use xlink:href='#icon-database'></use></svg></label><div class='xr-index-data'><pre>PandasIndex(DatetimeIndex([&#x27;2023-10-18 21:20:12&#x27;, &#x27;2023-10-18 21:20:13&#x27;,\n",
       "               &#x27;2023-10-18 21:20:14&#x27;, &#x27;2023-10-18 21:20:15&#x27;,\n",
       "               &#x27;2023-10-18 21:20:16&#x27;, &#x27;2023-10-18 21:20:17&#x27;,\n",
       "               &#x27;2023-10-18 21:20:18&#x27;, &#x27;2023-10-18 21:20:19&#x27;,\n",
       "               &#x27;2023-10-18 21:20:20&#x27;, &#x27;2023-10-18 21:20:21&#x27;,\n",
       "               ...\n",
       "               &#x27;2023-10-18 21:28:32&#x27;, &#x27;2023-10-18 21:28:33&#x27;,\n",
       "               &#x27;2023-10-18 21:28:34&#x27;, &#x27;2023-10-18 21:28:35&#x27;,\n",
       "               &#x27;2023-10-18 21:28:36&#x27;, &#x27;2023-10-18 21:28:37&#x27;,\n",
       "               &#x27;2023-10-18 21:28:38&#x27;, &#x27;2023-10-18 21:28:39&#x27;,\n",
       "               &#x27;2023-10-18 21:28:40&#x27;, &#x27;2023-10-18 21:28:41&#x27;],\n",
       "              dtype=&#x27;datetime64[ns]&#x27;, name=&#x27;light_samples&#x27;, length=510, freq=None))</pre></div></li><li class='xr-var-item'><div class='xr-index-name'><div>magnetometer_samples</div></div><div class='xr-index-preview'>PandasIndex</div><input type='checkbox' disabled/><label></label><input id='index-1eaf0758-c318-4bf2-a194-fd467093e3fc' class='xr-index-data-in' type='checkbox'/><label for='index-1eaf0758-c318-4bf2-a194-fd467093e3fc' title='Show/Hide index repr'><svg class='icon xr-icon-database'><use xlink:href='#icon-database'></use></svg></label><div class='xr-index-data'><pre>PandasIndex(DatetimeIndex([       &#x27;2023-10-18 21:20:12&#x27;, &#x27;2023-10-18 21:20:12.020000&#x27;,\n",
       "               &#x27;2023-10-18 21:20:12.040000&#x27;, &#x27;2023-10-18 21:20:12.060000&#x27;,\n",
       "               &#x27;2023-10-18 21:20:12.080000&#x27;, &#x27;2023-10-18 21:20:12.100000&#x27;,\n",
       "               &#x27;2023-10-18 21:20:12.120000&#x27;, &#x27;2023-10-18 21:20:12.140000&#x27;,\n",
       "               &#x27;2023-10-18 21:20:12.160000&#x27;, &#x27;2023-10-18 21:20:12.180000&#x27;,\n",
       "               ...\n",
       "               &#x27;2023-10-18 21:28:40.820000&#x27;, &#x27;2023-10-18 21:28:40.840000&#x27;,\n",
       "               &#x27;2023-10-18 21:28:40.860000&#x27;, &#x27;2023-10-18 21:28:40.880000&#x27;,\n",
       "               &#x27;2023-10-18 21:28:40.900000&#x27;, &#x27;2023-10-18 21:28:40.920000&#x27;,\n",
       "               &#x27;2023-10-18 21:28:40.940000&#x27;, &#x27;2023-10-18 21:28:40.960000&#x27;,\n",
       "               &#x27;2023-10-18 21:28:40.980000&#x27;,        &#x27;2023-10-18 21:28:41&#x27;],\n",
       "              dtype=&#x27;datetime64[ns]&#x27;, name=&#x27;magnetometer_samples&#x27;, length=25451, freq=None))</pre></div></li><li class='xr-var-item'><div class='xr-index-name'><div>magnetometer_variables</div></div><div class='xr-index-preview'>PandasIndex</div><input type='checkbox' disabled/><label></label><input id='index-a20cd94b-11a0-4a81-bd43-0538a45be90d' class='xr-index-data-in' type='checkbox'/><label for='index-a20cd94b-11a0-4a81-bd43-0538a45be90d' title='Show/Hide index repr'><svg class='icon xr-icon-database'><use xlink:href='#icon-database'></use></svg></label><div class='xr-index-data'><pre>PandasIndex(Index([&#x27;mx&#x27;, &#x27;my&#x27;, &#x27;mz&#x27;], dtype=&#x27;object&#x27;, name=&#x27;magnetometer_variables&#x27;))</pre></div></li><li class='xr-var-item'><div class='xr-index-name'><div>temperature_samples</div></div><div class='xr-index-preview'>PandasIndex</div><input type='checkbox' disabled/><label></label><input id='index-6ea00876-96b1-47e4-ac84-5289172348a6' class='xr-index-data-in' type='checkbox'/><label for='index-6ea00876-96b1-47e4-ac84-5289172348a6' title='Show/Hide index repr'><svg class='icon xr-icon-database'><use xlink:href='#icon-database'></use></svg></label><div class='xr-index-data'><pre>PandasIndex(DatetimeIndex([&#x27;2023-10-18 21:20:12&#x27;, &#x27;2023-10-18 21:20:13&#x27;,\n",
       "               &#x27;2023-10-18 21:20:14&#x27;, &#x27;2023-10-18 21:20:15&#x27;,\n",
       "               &#x27;2023-10-18 21:20:16&#x27;, &#x27;2023-10-18 21:20:17&#x27;,\n",
       "               &#x27;2023-10-18 21:20:18&#x27;, &#x27;2023-10-18 21:20:19&#x27;,\n",
       "               &#x27;2023-10-18 21:20:20&#x27;, &#x27;2023-10-18 21:20:21&#x27;,\n",
       "               ...\n",
       "               &#x27;2023-10-18 21:28:32&#x27;, &#x27;2023-10-18 21:28:33&#x27;,\n",
       "               &#x27;2023-10-18 21:28:34&#x27;, &#x27;2023-10-18 21:28:35&#x27;,\n",
       "               &#x27;2023-10-18 21:28:36&#x27;, &#x27;2023-10-18 21:28:37&#x27;,\n",
       "               &#x27;2023-10-18 21:28:38&#x27;, &#x27;2023-10-18 21:28:39&#x27;,\n",
       "               &#x27;2023-10-18 21:28:40&#x27;, &#x27;2023-10-18 21:28:41&#x27;],\n",
       "              dtype=&#x27;datetime64[ns]&#x27;, name=&#x27;temperature_samples&#x27;, length=510, freq=None))</pre></div></li><li class='xr-var-item'><div class='xr-index-name'><div>accelerometer_samples</div></div><div class='xr-index-preview'>PandasIndex</div><input type='checkbox' disabled/><label></label><input id='index-f853d625-3f11-4b25-a4e6-2ab15acc3207' class='xr-index-data-in' type='checkbox'/><label for='index-f853d625-3f11-4b25-a4e6-2ab15acc3207' title='Show/Hide index repr'><svg class='icon xr-icon-database'><use xlink:href='#icon-database'></use></svg></label><div class='xr-index-data'><pre>PandasIndex(DatetimeIndex([       &#x27;2023-10-18 21:20:12&#x27;, &#x27;2023-10-18 21:20:12.002500&#x27;,\n",
       "               &#x27;2023-10-18 21:20:12.005000&#x27;, &#x27;2023-10-18 21:20:12.007500&#x27;,\n",
       "               &#x27;2023-10-18 21:20:12.010000&#x27;, &#x27;2023-10-18 21:20:12.012500&#x27;,\n",
       "               &#x27;2023-10-18 21:20:12.015000&#x27;, &#x27;2023-10-18 21:20:12.017500&#x27;,\n",
       "               &#x27;2023-10-18 21:20:12.020000&#x27;, &#x27;2023-10-18 21:20:12.022500&#x27;,\n",
       "               ...\n",
       "               &#x27;2023-10-18 21:28:40.977500&#x27;, &#x27;2023-10-18 21:28:40.980000&#x27;,\n",
       "               &#x27;2023-10-18 21:28:40.982500&#x27;, &#x27;2023-10-18 21:28:40.985000&#x27;,\n",
       "               &#x27;2023-10-18 21:28:40.987500&#x27;, &#x27;2023-10-18 21:28:40.990000&#x27;,\n",
       "               &#x27;2023-10-18 21:28:40.992500&#x27;, &#x27;2023-10-18 21:28:40.995000&#x27;,\n",
       "               &#x27;2023-10-18 21:28:40.997500&#x27;,        &#x27;2023-10-18 21:28:41&#x27;],\n",
       "              dtype=&#x27;datetime64[ns]&#x27;, name=&#x27;accelerometer_samples&#x27;, length=203601, freq=None))</pre></div></li><li class='xr-var-item'><div class='xr-index-name'><div>accelerometer_variables</div></div><div class='xr-index-preview'>PandasIndex</div><input type='checkbox' disabled/><label></label><input id='index-5f058d69-5c62-4b96-bea2-397549f38dc6' class='xr-index-data-in' type='checkbox'/><label for='index-5f058d69-5c62-4b96-bea2-397549f38dc6' title='Show/Hide index repr'><svg class='icon xr-icon-database'><use xlink:href='#icon-database'></use></svg></label><div class='xr-index-data'><pre>PandasIndex(Index([&#x27;ax&#x27;, &#x27;ay&#x27;, &#x27;az&#x27;], dtype=&#x27;object&#x27;, name=&#x27;accelerometer_variables&#x27;))</pre></div></li><li class='xr-var-item'><div class='xr-index-name'><div>pressure_samples</div></div><div class='xr-index-preview'>PandasIndex</div><input type='checkbox' disabled/><label></label><input id='index-ad4b5d26-c94e-4e17-b49b-fa14cbe8da40' class='xr-index-data-in' type='checkbox'/><label for='index-ad4b5d26-c94e-4e17-b49b-fa14cbe8da40' title='Show/Hide index repr'><svg class='icon xr-icon-database'><use xlink:href='#icon-database'></use></svg></label><div class='xr-index-data'><pre>PandasIndex(DatetimeIndex([       &#x27;2023-10-18 21:20:12&#x27;, &#x27;2023-10-18 21:20:12.020000&#x27;,\n",
       "               &#x27;2023-10-18 21:20:12.040000&#x27;, &#x27;2023-10-18 21:20:12.060000&#x27;,\n",
       "               &#x27;2023-10-18 21:20:12.080000&#x27;, &#x27;2023-10-18 21:20:12.100000&#x27;,\n",
       "               &#x27;2023-10-18 21:20:12.120000&#x27;, &#x27;2023-10-18 21:20:12.140000&#x27;,\n",
       "               &#x27;2023-10-18 21:20:12.160000&#x27;, &#x27;2023-10-18 21:20:12.180000&#x27;,\n",
       "               ...\n",
       "               &#x27;2023-10-18 21:28:40.820000&#x27;, &#x27;2023-10-18 21:28:40.840000&#x27;,\n",
       "               &#x27;2023-10-18 21:28:40.860000&#x27;, &#x27;2023-10-18 21:28:40.880000&#x27;,\n",
       "               &#x27;2023-10-18 21:28:40.900000&#x27;, &#x27;2023-10-18 21:28:40.920000&#x27;,\n",
       "               &#x27;2023-10-18 21:28:40.940000&#x27;, &#x27;2023-10-18 21:28:40.960000&#x27;,\n",
       "               &#x27;2023-10-18 21:28:40.980000&#x27;,        &#x27;2023-10-18 21:28:41&#x27;],\n",
       "              dtype=&#x27;datetime64[ns]&#x27;, name=&#x27;pressure_samples&#x27;, length=25451, freq=None))</pre></div></li><li class='xr-var-item'><div class='xr-index-name'><div>gyroscope_samples</div></div><div class='xr-index-preview'>PandasIndex</div><input type='checkbox' disabled/><label></label><input id='index-46a89b53-1fa2-4133-8f93-32a23828b345' class='xr-index-data-in' type='checkbox'/><label for='index-46a89b53-1fa2-4133-8f93-32a23828b345' title='Show/Hide index repr'><svg class='icon xr-icon-database'><use xlink:href='#icon-database'></use></svg></label><div class='xr-index-data'><pre>PandasIndex(DatetimeIndex([       &#x27;2023-10-18 21:20:12&#x27;, &#x27;2023-10-18 21:20:12.020000&#x27;,\n",
       "               &#x27;2023-10-18 21:20:12.040000&#x27;, &#x27;2023-10-18 21:20:12.060000&#x27;,\n",
       "               &#x27;2023-10-18 21:20:12.080000&#x27;, &#x27;2023-10-18 21:20:12.100000&#x27;,\n",
       "               &#x27;2023-10-18 21:20:12.120000&#x27;, &#x27;2023-10-18 21:20:12.140000&#x27;,\n",
       "               &#x27;2023-10-18 21:20:12.160000&#x27;, &#x27;2023-10-18 21:20:12.180000&#x27;,\n",
       "               ...\n",
       "               &#x27;2023-10-18 21:28:40.820000&#x27;, &#x27;2023-10-18 21:28:40.840000&#x27;,\n",
       "               &#x27;2023-10-18 21:28:40.860000&#x27;, &#x27;2023-10-18 21:28:40.880000&#x27;,\n",
       "               &#x27;2023-10-18 21:28:40.900000&#x27;, &#x27;2023-10-18 21:28:40.920000&#x27;,\n",
       "               &#x27;2023-10-18 21:28:40.940000&#x27;, &#x27;2023-10-18 21:28:40.960000&#x27;,\n",
       "               &#x27;2023-10-18 21:28:40.980000&#x27;,        &#x27;2023-10-18 21:28:41&#x27;],\n",
       "              dtype=&#x27;datetime64[ns]&#x27;, name=&#x27;gyroscope_samples&#x27;, length=25451, freq=None))</pre></div></li><li class='xr-var-item'><div class='xr-index-name'><div>gyroscope_variables</div></div><div class='xr-index-preview'>PandasIndex</div><input type='checkbox' disabled/><label></label><input id='index-65405f55-557b-4afa-8d61-809db77def31' class='xr-index-data-in' type='checkbox'/><label for='index-65405f55-557b-4afa-8d61-809db77def31' title='Show/Hide index repr'><svg class='icon xr-icon-database'><use xlink:href='#icon-database'></use></svg></label><div class='xr-index-data'><pre>PandasIndex(Index([&#x27;gx&#x27;, &#x27;gy&#x27;, &#x27;gz&#x27;], dtype=&#x27;object&#x27;, name=&#x27;gyroscope_variables&#x27;))</pre></div></li><li class='xr-var-item'><div class='xr-index-name'><div>ecg_samples</div></div><div class='xr-index-preview'>PandasIndex</div><input type='checkbox' disabled/><label></label><input id='index-f7dbda39-00cc-4194-bdcb-40e6e5512384' class='xr-index-data-in' type='checkbox'/><label for='index-f7dbda39-00cc-4194-bdcb-40e6e5512384' title='Show/Hide index repr'><svg class='icon xr-icon-database'><use xlink:href='#icon-database'></use></svg></label><div class='xr-index-data'><pre>PandasIndex(DatetimeIndex([       &#x27;2023-10-18 21:20:12&#x27;, &#x27;2023-10-18 21:20:12.010000&#x27;,\n",
       "               &#x27;2023-10-18 21:20:12.020000&#x27;, &#x27;2023-10-18 21:20:12.030000&#x27;,\n",
       "               &#x27;2023-10-18 21:20:12.040000&#x27;, &#x27;2023-10-18 21:20:12.050000&#x27;,\n",
       "               &#x27;2023-10-18 21:20:12.060000&#x27;, &#x27;2023-10-18 21:20:12.070000&#x27;,\n",
       "               &#x27;2023-10-18 21:20:12.080000&#x27;, &#x27;2023-10-18 21:20:12.090000&#x27;,\n",
       "               ...\n",
       "               &#x27;2023-10-18 21:28:40.910000&#x27;, &#x27;2023-10-18 21:28:40.920000&#x27;,\n",
       "               &#x27;2023-10-18 21:28:40.930000&#x27;, &#x27;2023-10-18 21:28:40.940000&#x27;,\n",
       "               &#x27;2023-10-18 21:28:40.950000&#x27;, &#x27;2023-10-18 21:28:40.960000&#x27;,\n",
       "               &#x27;2023-10-18 21:28:40.970000&#x27;, &#x27;2023-10-18 21:28:40.980000&#x27;,\n",
       "               &#x27;2023-10-18 21:28:40.990000&#x27;,        &#x27;2023-10-18 21:28:41&#x27;],\n",
       "              dtype=&#x27;datetime64[ns]&#x27;, name=&#x27;ecg_samples&#x27;, length=50901, freq=None))</pre></div></li><li class='xr-var-item'><div class='xr-index-name'><div>depth_samples</div></div><div class='xr-index-preview'>PandasIndex</div><input type='checkbox' disabled/><label></label><input id='index-fab1e5ee-a8b7-4327-9133-7f5cc7a968a1' class='xr-index-data-in' type='checkbox'/><label for='index-fab1e5ee-a8b7-4327-9133-7f5cc7a968a1' title='Show/Hide index repr'><svg class='icon xr-icon-database'><use xlink:href='#icon-database'></use></svg></label><div class='xr-index-data'><pre>PandasIndex(DatetimeIndex([&#x27;2023-10-18 21:20:12&#x27;, &#x27;2023-10-18 21:20:13&#x27;,\n",
       "               &#x27;2023-10-18 21:20:14&#x27;, &#x27;2023-10-18 21:20:15&#x27;,\n",
       "               &#x27;2023-10-18 21:20:16&#x27;, &#x27;2023-10-18 21:20:17&#x27;,\n",
       "               &#x27;2023-10-18 21:20:18&#x27;, &#x27;2023-10-18 21:20:19&#x27;,\n",
       "               &#x27;2023-10-18 21:20:20&#x27;, &#x27;2023-10-18 21:20:21&#x27;,\n",
       "               ...\n",
       "               &#x27;2023-10-18 21:28:32&#x27;, &#x27;2023-10-18 21:28:33&#x27;,\n",
       "               &#x27;2023-10-18 21:28:34&#x27;, &#x27;2023-10-18 21:28:35&#x27;,\n",
       "               &#x27;2023-10-18 21:28:36&#x27;, &#x27;2023-10-18 21:28:37&#x27;,\n",
       "               &#x27;2023-10-18 21:28:38&#x27;, &#x27;2023-10-18 21:28:39&#x27;,\n",
       "               &#x27;2023-10-18 21:28:40&#x27;, &#x27;2023-10-18 21:28:41&#x27;],\n",
       "              dtype=&#x27;datetime64[ns]&#x27;, name=&#x27;depth_samples&#x27;, length=510, freq=None))</pre></div></li><li class='xr-var-item'><div class='xr-index-name'><div>prh_samples</div></div><div class='xr-index-preview'>PandasIndex</div><input type='checkbox' disabled/><label></label><input id='index-6bf7ce4e-3aa5-42c2-a246-50218b0c5295' class='xr-index-data-in' type='checkbox'/><label for='index-6bf7ce4e-3aa5-42c2-a246-50218b0c5295' title='Show/Hide index repr'><svg class='icon xr-icon-database'><use xlink:href='#icon-database'></use></svg></label><div class='xr-index-data'><pre>PandasIndex(DatetimeIndex([       &#x27;2023-10-18 21:20:12&#x27;, &#x27;2023-10-18 21:20:12.002500&#x27;,\n",
       "               &#x27;2023-10-18 21:20:12.005000&#x27;, &#x27;2023-10-18 21:20:12.007500&#x27;,\n",
       "               &#x27;2023-10-18 21:20:12.010000&#x27;, &#x27;2023-10-18 21:20:12.012500&#x27;,\n",
       "               &#x27;2023-10-18 21:20:12.015000&#x27;, &#x27;2023-10-18 21:20:12.017500&#x27;,\n",
       "               &#x27;2023-10-18 21:20:12.020000&#x27;, &#x27;2023-10-18 21:20:12.022500&#x27;,\n",
       "               ...\n",
       "               &#x27;2023-10-18 21:28:40.977500&#x27;, &#x27;2023-10-18 21:28:40.980000&#x27;,\n",
       "               &#x27;2023-10-18 21:28:40.982500&#x27;, &#x27;2023-10-18 21:28:40.985000&#x27;,\n",
       "               &#x27;2023-10-18 21:28:40.987500&#x27;, &#x27;2023-10-18 21:28:40.990000&#x27;,\n",
       "               &#x27;2023-10-18 21:28:40.992500&#x27;, &#x27;2023-10-18 21:28:40.995000&#x27;,\n",
       "               &#x27;2023-10-18 21:28:40.997500&#x27;,        &#x27;2023-10-18 21:28:41&#x27;],\n",
       "              dtype=&#x27;datetime64[ns]&#x27;, name=&#x27;prh_samples&#x27;, length=203601, freq=None))</pre></div></li><li class='xr-var-item'><div class='xr-index-name'><div>prh_variables</div></div><div class='xr-index-preview'>PandasIndex</div><input type='checkbox' disabled/><label></label><input id='index-e681a26b-051b-4fd2-9abe-a4bc99a4913c' class='xr-index-data-in' type='checkbox'/><label for='index-e681a26b-051b-4fd2-9abe-a4bc99a4913c' title='Show/Hide index repr'><svg class='icon xr-icon-database'><use xlink:href='#icon-database'></use></svg></label><div class='xr-index-data'><pre>PandasIndex(Index([&#x27;pitch&#x27;, &#x27;roll&#x27;, &#x27;heading&#x27;], dtype=&#x27;object&#x27;, name=&#x27;prh_variables&#x27;))</pre></div></li><li class='xr-var-item'><div class='xr-index-name'><div>corrected_acc_samples</div></div><div class='xr-index-preview'>PandasIndex</div><input type='checkbox' disabled/><label></label><input id='index-15dada57-f248-4e31-a539-e8fa66caeb0f' class='xr-index-data-in' type='checkbox'/><label for='index-15dada57-f248-4e31-a539-e8fa66caeb0f' title='Show/Hide index repr'><svg class='icon xr-icon-database'><use xlink:href='#icon-database'></use></svg></label><div class='xr-index-data'><pre>PandasIndex(DatetimeIndex([       &#x27;2023-10-18 21:20:12&#x27;, &#x27;2023-10-18 21:20:12.002500&#x27;,\n",
       "               &#x27;2023-10-18 21:20:12.005000&#x27;, &#x27;2023-10-18 21:20:12.007500&#x27;,\n",
       "               &#x27;2023-10-18 21:20:12.010000&#x27;, &#x27;2023-10-18 21:20:12.012500&#x27;,\n",
       "               &#x27;2023-10-18 21:20:12.015000&#x27;, &#x27;2023-10-18 21:20:12.017500&#x27;,\n",
       "               &#x27;2023-10-18 21:20:12.020000&#x27;, &#x27;2023-10-18 21:20:12.022500&#x27;,\n",
       "               ...\n",
       "               &#x27;2023-10-18 21:28:40.977500&#x27;, &#x27;2023-10-18 21:28:40.980000&#x27;,\n",
       "               &#x27;2023-10-18 21:28:40.982500&#x27;, &#x27;2023-10-18 21:28:40.985000&#x27;,\n",
       "               &#x27;2023-10-18 21:28:40.987500&#x27;, &#x27;2023-10-18 21:28:40.990000&#x27;,\n",
       "               &#x27;2023-10-18 21:28:40.992500&#x27;, &#x27;2023-10-18 21:28:40.995000&#x27;,\n",
       "               &#x27;2023-10-18 21:28:40.997500&#x27;,        &#x27;2023-10-18 21:28:41&#x27;],\n",
       "              dtype=&#x27;datetime64[ns]&#x27;, name=&#x27;corrected_acc_samples&#x27;, length=203601, freq=None))</pre></div></li><li class='xr-var-item'><div class='xr-index-name'><div>corrected_acc_variables</div></div><div class='xr-index-preview'>PandasIndex</div><input type='checkbox' disabled/><label></label><input id='index-d690317c-ec5c-4fd9-832e-c5f65a05e4f4' class='xr-index-data-in' type='checkbox'/><label for='index-d690317c-ec5c-4fd9-832e-c5f65a05e4f4' title='Show/Hide index repr'><svg class='icon xr-icon-database'><use xlink:href='#icon-database'></use></svg></label><div class='xr-index-data'><pre>PandasIndex(Index([&#x27;ax&#x27;, &#x27;ay&#x27;, &#x27;az&#x27;], dtype=&#x27;object&#x27;, name=&#x27;corrected_acc_variables&#x27;))</pre></div></li><li class='xr-var-item'><div class='xr-index-name'><div>corrected_mag_samples</div></div><div class='xr-index-preview'>PandasIndex</div><input type='checkbox' disabled/><label></label><input id='index-c85c72e6-f41e-43a6-923d-fa87d699c0da' class='xr-index-data-in' type='checkbox'/><label for='index-c85c72e6-f41e-43a6-923d-fa87d699c0da' title='Show/Hide index repr'><svg class='icon xr-icon-database'><use xlink:href='#icon-database'></use></svg></label><div class='xr-index-data'><pre>PandasIndex(DatetimeIndex([       &#x27;2023-10-18 21:20:12&#x27;, &#x27;2023-10-18 21:20:12.002500&#x27;,\n",
       "               &#x27;2023-10-18 21:20:12.005000&#x27;, &#x27;2023-10-18 21:20:12.007500&#x27;,\n",
       "               &#x27;2023-10-18 21:20:12.010000&#x27;, &#x27;2023-10-18 21:20:12.012500&#x27;,\n",
       "               &#x27;2023-10-18 21:20:12.015000&#x27;, &#x27;2023-10-18 21:20:12.017500&#x27;,\n",
       "               &#x27;2023-10-18 21:20:12.020000&#x27;, &#x27;2023-10-18 21:20:12.022500&#x27;,\n",
       "               ...\n",
       "               &#x27;2023-10-18 21:28:40.977500&#x27;, &#x27;2023-10-18 21:28:40.980000&#x27;,\n",
       "               &#x27;2023-10-18 21:28:40.982500&#x27;, &#x27;2023-10-18 21:28:40.985000&#x27;,\n",
       "               &#x27;2023-10-18 21:28:40.987500&#x27;, &#x27;2023-10-18 21:28:40.990000&#x27;,\n",
       "               &#x27;2023-10-18 21:28:40.992500&#x27;, &#x27;2023-10-18 21:28:40.995000&#x27;,\n",
       "               &#x27;2023-10-18 21:28:40.997500&#x27;,        &#x27;2023-10-18 21:28:41&#x27;],\n",
       "              dtype=&#x27;datetime64[ns]&#x27;, name=&#x27;corrected_mag_samples&#x27;, length=203601, freq=None))</pre></div></li><li class='xr-var-item'><div class='xr-index-name'><div>corrected_mag_variables</div></div><div class='xr-index-preview'>PandasIndex</div><input type='checkbox' disabled/><label></label><input id='index-b0a1af7f-7704-46ab-8790-7dd30be15398' class='xr-index-data-in' type='checkbox'/><label for='index-b0a1af7f-7704-46ab-8790-7dd30be15398' title='Show/Hide index repr'><svg class='icon xr-icon-database'><use xlink:href='#icon-database'></use></svg></label><div class='xr-index-data'><pre>PandasIndex(Index([&#x27;mx&#x27;, &#x27;my&#x27;, &#x27;mz&#x27;], dtype=&#x27;object&#x27;, name=&#x27;corrected_mag_variables&#x27;))</pre></div></li><li class='xr-var-item'><div class='xr-index-name'><div>corrected_gyr_samples</div></div><div class='xr-index-preview'>PandasIndex</div><input type='checkbox' disabled/><label></label><input id='index-3fc37020-263b-431e-b4c9-9719202aa270' class='xr-index-data-in' type='checkbox'/><label for='index-3fc37020-263b-431e-b4c9-9719202aa270' title='Show/Hide index repr'><svg class='icon xr-icon-database'><use xlink:href='#icon-database'></use></svg></label><div class='xr-index-data'><pre>PandasIndex(DatetimeIndex([       &#x27;2023-10-18 21:20:12&#x27;, &#x27;2023-10-18 21:20:12.002500&#x27;,\n",
       "               &#x27;2023-10-18 21:20:12.005000&#x27;, &#x27;2023-10-18 21:20:12.007500&#x27;,\n",
       "               &#x27;2023-10-18 21:20:12.010000&#x27;, &#x27;2023-10-18 21:20:12.012500&#x27;,\n",
       "               &#x27;2023-10-18 21:20:12.015000&#x27;, &#x27;2023-10-18 21:20:12.017500&#x27;,\n",
       "               &#x27;2023-10-18 21:20:12.020000&#x27;, &#x27;2023-10-18 21:20:12.022500&#x27;,\n",
       "               ...\n",
       "               &#x27;2023-10-18 21:28:40.977500&#x27;, &#x27;2023-10-18 21:28:40.980000&#x27;,\n",
       "               &#x27;2023-10-18 21:28:40.982500&#x27;, &#x27;2023-10-18 21:28:40.985000&#x27;,\n",
       "               &#x27;2023-10-18 21:28:40.987500&#x27;, &#x27;2023-10-18 21:28:40.990000&#x27;,\n",
       "               &#x27;2023-10-18 21:28:40.992500&#x27;, &#x27;2023-10-18 21:28:40.995000&#x27;,\n",
       "               &#x27;2023-10-18 21:28:40.997500&#x27;,        &#x27;2023-10-18 21:28:41&#x27;],\n",
       "              dtype=&#x27;datetime64[ns]&#x27;, name=&#x27;corrected_gyr_samples&#x27;, length=203601, freq=None))</pre></div></li><li class='xr-var-item'><div class='xr-index-name'><div>corrected_gyr_variables</div></div><div class='xr-index-preview'>PandasIndex</div><input type='checkbox' disabled/><label></label><input id='index-987abd8a-6e77-49ea-a3a1-c27f6be0a541' class='xr-index-data-in' type='checkbox'/><label for='index-987abd8a-6e77-49ea-a3a1-c27f6be0a541' title='Show/Hide index repr'><svg class='icon xr-icon-database'><use xlink:href='#icon-database'></use></svg></label><div class='xr-index-data'><pre>PandasIndex(Index([&#x27;gx&#x27;, &#x27;gy&#x27;, &#x27;gz&#x27;], dtype=&#x27;object&#x27;, name=&#x27;corrected_gyr_variables&#x27;))</pre></div></li><li class='xr-var-item'><div class='xr-index-name'><div>sr_smoothed_samples</div></div><div class='xr-index-preview'>PandasIndex</div><input type='checkbox' disabled/><label></label><input id='index-294fe76c-cbcd-4529-b52e-cbdc015c9a23' class='xr-index-data-in' type='checkbox'/><label for='index-294fe76c-cbcd-4529-b52e-cbdc015c9a23' title='Show/Hide index repr'><svg class='icon xr-icon-database'><use xlink:href='#icon-database'></use></svg></label><div class='xr-index-data'><pre>PandasIndex(DatetimeIndex([       &#x27;2023-10-18 21:20:12&#x27;, &#x27;2023-10-18 21:20:12.002500&#x27;,\n",
       "               &#x27;2023-10-18 21:20:12.005000&#x27;, &#x27;2023-10-18 21:20:12.007500&#x27;,\n",
       "               &#x27;2023-10-18 21:20:12.010000&#x27;, &#x27;2023-10-18 21:20:12.012500&#x27;,\n",
       "               &#x27;2023-10-18 21:20:12.015000&#x27;, &#x27;2023-10-18 21:20:12.017500&#x27;,\n",
       "               &#x27;2023-10-18 21:20:12.020000&#x27;, &#x27;2023-10-18 21:20:12.022500&#x27;,\n",
       "               ...\n",
       "               &#x27;2023-10-18 21:28:40.977500&#x27;, &#x27;2023-10-18 21:28:40.980000&#x27;,\n",
       "               &#x27;2023-10-18 21:28:40.982500&#x27;, &#x27;2023-10-18 21:28:40.985000&#x27;,\n",
       "               &#x27;2023-10-18 21:28:40.987500&#x27;, &#x27;2023-10-18 21:28:40.990000&#x27;,\n",
       "               &#x27;2023-10-18 21:28:40.992500&#x27;, &#x27;2023-10-18 21:28:40.995000&#x27;,\n",
       "               &#x27;2023-10-18 21:28:40.997500&#x27;,        &#x27;2023-10-18 21:28:41&#x27;],\n",
       "              dtype=&#x27;datetime64[ns]&#x27;, name=&#x27;sr_smoothed_samples&#x27;, length=203601, freq=None))</pre></div></li><li class='xr-var-item'><div class='xr-index-name'><div>stroke_rate_samples</div></div><div class='xr-index-preview'>PandasIndex</div><input type='checkbox' disabled/><label></label><input id='index-3f079eb1-afd3-46a1-b096-1293c1862394' class='xr-index-data-in' type='checkbox'/><label for='index-3f079eb1-afd3-46a1-b096-1293c1862394' title='Show/Hide index repr'><svg class='icon xr-icon-database'><use xlink:href='#icon-database'></use></svg></label><div class='xr-index-data'><pre>PandasIndex(DatetimeIndex([       &#x27;2023-10-18 21:20:12&#x27;, &#x27;2023-10-18 21:20:12.002500&#x27;,\n",
       "               &#x27;2023-10-18 21:20:12.005000&#x27;, &#x27;2023-10-18 21:20:12.007500&#x27;,\n",
       "               &#x27;2023-10-18 21:20:12.010000&#x27;, &#x27;2023-10-18 21:20:12.012500&#x27;,\n",
       "               &#x27;2023-10-18 21:20:12.015000&#x27;, &#x27;2023-10-18 21:20:12.017500&#x27;,\n",
       "               &#x27;2023-10-18 21:20:12.020000&#x27;, &#x27;2023-10-18 21:20:12.022500&#x27;,\n",
       "               ...\n",
       "               &#x27;2023-10-18 21:28:40.977500&#x27;, &#x27;2023-10-18 21:28:40.980000&#x27;,\n",
       "               &#x27;2023-10-18 21:28:40.982500&#x27;, &#x27;2023-10-18 21:28:40.985000&#x27;,\n",
       "               &#x27;2023-10-18 21:28:40.987500&#x27;, &#x27;2023-10-18 21:28:40.990000&#x27;,\n",
       "               &#x27;2023-10-18 21:28:40.992500&#x27;, &#x27;2023-10-18 21:28:40.995000&#x27;,\n",
       "               &#x27;2023-10-18 21:28:40.997500&#x27;,        &#x27;2023-10-18 21:28:41&#x27;],\n",
       "              dtype=&#x27;datetime64[ns]&#x27;, name=&#x27;stroke_rate_samples&#x27;, length=203601, freq=None))</pre></div></li><li class='xr-var-item'><div class='xr-index-name'><div>odba_samples</div></div><div class='xr-index-preview'>PandasIndex</div><input type='checkbox' disabled/><label></label><input id='index-5f39ae9f-99cc-44ec-bca9-098ad7fe9751' class='xr-index-data-in' type='checkbox'/><label for='index-5f39ae9f-99cc-44ec-bca9-098ad7fe9751' title='Show/Hide index repr'><svg class='icon xr-icon-database'><use xlink:href='#icon-database'></use></svg></label><div class='xr-index-data'><pre>PandasIndex(DatetimeIndex([       &#x27;2023-10-18 21:20:12&#x27;, &#x27;2023-10-18 21:20:12.002500&#x27;,\n",
       "               &#x27;2023-10-18 21:20:12.005000&#x27;, &#x27;2023-10-18 21:20:12.007500&#x27;,\n",
       "               &#x27;2023-10-18 21:20:12.010000&#x27;, &#x27;2023-10-18 21:20:12.012500&#x27;,\n",
       "               &#x27;2023-10-18 21:20:12.015000&#x27;, &#x27;2023-10-18 21:20:12.017500&#x27;,\n",
       "               &#x27;2023-10-18 21:20:12.020000&#x27;, &#x27;2023-10-18 21:20:12.022500&#x27;,\n",
       "               ...\n",
       "               &#x27;2023-10-18 21:28:40.977500&#x27;, &#x27;2023-10-18 21:28:40.980000&#x27;,\n",
       "               &#x27;2023-10-18 21:28:40.982500&#x27;, &#x27;2023-10-18 21:28:40.985000&#x27;,\n",
       "               &#x27;2023-10-18 21:28:40.987500&#x27;, &#x27;2023-10-18 21:28:40.990000&#x27;,\n",
       "               &#x27;2023-10-18 21:28:40.992500&#x27;, &#x27;2023-10-18 21:28:40.995000&#x27;,\n",
       "               &#x27;2023-10-18 21:28:40.997500&#x27;,        &#x27;2023-10-18 21:28:41&#x27;],\n",
       "              dtype=&#x27;datetime64[ns]&#x27;, name=&#x27;odba_samples&#x27;, length=203601, freq=None))</pre></div></li><li class='xr-var-item'><div class='xr-index-name'><div>hr_normalized_samples</div></div><div class='xr-index-preview'>PandasIndex</div><input type='checkbox' disabled/><label></label><input id='index-3908c474-d3c1-44a4-91f2-f9e524877689' class='xr-index-data-in' type='checkbox'/><label for='index-3908c474-d3c1-44a4-91f2-f9e524877689' title='Show/Hide index repr'><svg class='icon xr-icon-database'><use xlink:href='#icon-database'></use></svg></label><div class='xr-index-data'><pre>PandasIndex(DatetimeIndex([       &#x27;2023-10-18 21:20:12&#x27;, &#x27;2023-10-18 21:20:12.010000&#x27;,\n",
       "               &#x27;2023-10-18 21:20:12.020000&#x27;, &#x27;2023-10-18 21:20:12.030000&#x27;,\n",
       "               &#x27;2023-10-18 21:20:12.040000&#x27;, &#x27;2023-10-18 21:20:12.050000&#x27;,\n",
       "               &#x27;2023-10-18 21:20:12.060000&#x27;, &#x27;2023-10-18 21:20:12.070000&#x27;,\n",
       "               &#x27;2023-10-18 21:20:12.080000&#x27;, &#x27;2023-10-18 21:20:12.090000&#x27;,\n",
       "               ...\n",
       "               &#x27;2023-10-18 21:28:40.910000&#x27;, &#x27;2023-10-18 21:28:40.920000&#x27;,\n",
       "               &#x27;2023-10-18 21:28:40.930000&#x27;, &#x27;2023-10-18 21:28:40.940000&#x27;,\n",
       "               &#x27;2023-10-18 21:28:40.950000&#x27;, &#x27;2023-10-18 21:28:40.960000&#x27;,\n",
       "               &#x27;2023-10-18 21:28:40.970000&#x27;, &#x27;2023-10-18 21:28:40.980000&#x27;,\n",
       "               &#x27;2023-10-18 21:28:40.990000&#x27;,        &#x27;2023-10-18 21:28:41&#x27;],\n",
       "              dtype=&#x27;datetime64[ns]&#x27;, name=&#x27;hr_normalized_samples&#x27;, length=50901, freq=None))</pre></div></li><li class='xr-var-item'><div class='xr-index-name'><div>heart_rate_samples</div></div><div class='xr-index-preview'>PandasIndex</div><input type='checkbox' disabled/><label></label><input id='index-ba3b58f5-f18c-4b39-8e2f-78198e9b2d3d' class='xr-index-data-in' type='checkbox'/><label for='index-ba3b58f5-f18c-4b39-8e2f-78198e9b2d3d' title='Show/Hide index repr'><svg class='icon xr-icon-database'><use xlink:href='#icon-database'></use></svg></label><div class='xr-index-data'><pre>PandasIndex(DatetimeIndex([       &#x27;2023-10-18 21:20:12&#x27;, &#x27;2023-10-18 21:20:12.010000&#x27;,\n",
       "               &#x27;2023-10-18 21:20:12.020000&#x27;, &#x27;2023-10-18 21:20:12.030000&#x27;,\n",
       "               &#x27;2023-10-18 21:20:12.040000&#x27;, &#x27;2023-10-18 21:20:12.050000&#x27;,\n",
       "               &#x27;2023-10-18 21:20:12.060000&#x27;, &#x27;2023-10-18 21:20:12.070000&#x27;,\n",
       "               &#x27;2023-10-18 21:20:12.080000&#x27;, &#x27;2023-10-18 21:20:12.090000&#x27;,\n",
       "               ...\n",
       "               &#x27;2023-10-18 21:28:40.910000&#x27;, &#x27;2023-10-18 21:28:40.920000&#x27;,\n",
       "               &#x27;2023-10-18 21:28:40.930000&#x27;, &#x27;2023-10-18 21:28:40.940000&#x27;,\n",
       "               &#x27;2023-10-18 21:28:40.950000&#x27;, &#x27;2023-10-18 21:28:40.960000&#x27;,\n",
       "               &#x27;2023-10-18 21:28:40.970000&#x27;, &#x27;2023-10-18 21:28:40.980000&#x27;,\n",
       "               &#x27;2023-10-18 21:28:40.990000&#x27;,        &#x27;2023-10-18 21:28:41&#x27;],\n",
       "              dtype=&#x27;datetime64[ns]&#x27;, name=&#x27;heart_rate_samples&#x27;, length=50901, freq=None))</pre></div></li><li class='xr-var-item'><div class='xr-index-name'><div>event_data_samples</div></div><div class='xr-index-preview'>PandasIndex</div><input type='checkbox' disabled/><label></label><input id='index-64bec54e-a29a-49a3-9705-28d641a54d87' class='xr-index-data-in' type='checkbox'/><label for='index-64bec54e-a29a-49a3-9705-28d641a54d87' title='Show/Hide index repr'><svg class='icon xr-icon-database'><use xlink:href='#icon-database'></use></svg></label><div class='xr-index-data'><pre>PandasIndex(DatetimeIndex([&#x27;2023-10-18 21:20:00.290000&#x27;, &#x27;2023-10-18 21:20:02.180000&#x27;,\n",
       "               &#x27;2023-10-18 21:20:03.090000&#x27;, &#x27;2023-10-18 21:20:03.990000&#x27;,\n",
       "               &#x27;2023-10-18 21:20:04.870000&#x27;, &#x27;2023-10-18 21:20:05.750000&#x27;,\n",
       "               &#x27;2023-10-18 21:20:06.620000&#x27;, &#x27;2023-10-18 21:20:07.480000&#x27;,\n",
       "               &#x27;2023-10-18 21:20:08.350000&#x27;, &#x27;2023-10-18 21:20:09.210000&#x27;,\n",
       "               ...\n",
       "               &#x27;2023-10-18 21:28:32.670000&#x27;, &#x27;2023-10-18 21:28:33.490000&#x27;,\n",
       "               &#x27;2023-10-18 21:28:34.310000&#x27;, &#x27;2023-10-18 21:28:35.140000&#x27;,\n",
       "               &#x27;2023-10-18 21:28:35.960000&#x27;, &#x27;2023-10-18 21:28:36.780000&#x27;,\n",
       "               &#x27;2023-10-18 21:28:37.600000&#x27;, &#x27;2023-10-18 21:28:38.420000&#x27;,\n",
       "               &#x27;2023-10-18 21:28:39.240000&#x27;, &#x27;2023-10-18 21:28:40.080000&#x27;],\n",
       "              dtype=&#x27;datetime64[ns]&#x27;, name=&#x27;event_data_samples&#x27;, length=1089, freq=None))</pre></div></li></ul></div></li><li class='xr-section-item'><input id='section-a1bec888-5059-4fc9-a1b0-e8bc07f92a06' class='xr-section-summary-in' type='checkbox'  ><label for='section-a1bec888-5059-4fc9-a1b0-e8bc07f92a06' class='xr-section-summary' >Attributes: <span>(26)</span></label><div class='xr-section-inline-details'></div><div class='xr-section-details'><dl class='xr-attrs'><dt><span>deployment_info_Deployment Date :</span></dt><dd>2023-10-18</dd><dt><span>deployment_info_Deployment Latitude :</span></dt><dd>32.764655</dd><dt><span>deployment_info_Deployment Longitude :</span></dt><dd>-117.228585</dd><dt><span>deployment_info_Time Zone :</span></dt><dd>America/Los_Angeles</dd><dt><span>animal_info_Animal_ID :</span></dt><dd>oror-001</dd><dt><span>dataset_info_Dataset_ID :</span></dt><dd>oror-adult-orca_hr-sr-vid_sw_JKB-PP</dd><dt><span>sensor_info_light_channels_0 :</span></dt><dd>light</dd><dt><span>sensor_info_light_original_units_0 :</span></dt><dd>raw</dd><dt><span>sensor_info_magnetometer_channels_0 :</span></dt><dd>mx</dd><dt><span>sensor_info_magnetometer_channels_1 :</span></dt><dd>my</dd><dt><span>sensor_info_magnetometer_channels_2 :</span></dt><dd>mz</dd><dt><span>sensor_info_magnetometer_original_units_0 :</span></dt><dd>µt</dd><dt><span>sensor_info_temperature_channels_0 :</span></dt><dd>temp</dd><dt><span>sensor_info_temperature_original_units_0 :</span></dt><dd>imu</dd><dt><span>sensor_info_accelerometer_channels_0 :</span></dt><dd>ax</dd><dt><span>sensor_info_accelerometer_channels_1 :</span></dt><dd>ay</dd><dt><span>sensor_info_accelerometer_channels_2 :</span></dt><dd>az</dd><dt><span>sensor_info_accelerometer_original_units_0 :</span></dt><dd>m/s²</dd><dt><span>sensor_info_pressure_channels_0 :</span></dt><dd>pressure</dd><dt><span>sensor_info_pressure_original_units_0 :</span></dt><dd>100bar_1</dd><dt><span>sensor_info_gyroscope_channels_0 :</span></dt><dd>gx</dd><dt><span>sensor_info_gyroscope_channels_1 :</span></dt><dd>gy</dd><dt><span>sensor_info_gyroscope_channels_2 :</span></dt><dd>gz</dd><dt><span>sensor_info_gyroscope_original_units_0 :</span></dt><dd>mrad/s</dd><dt><span>sensor_info_ecg_channels_0 :</span></dt><dd>ecg</dd><dt><span>sensor_info_ecg_original_units_0 :</span></dt><dd>unknown</dd></dl></div></li></ul></div></div>"
      ],
      "text/plain": [
       "<xarray.Dataset> Size: 47MB\n",
       "Dimensions:                       (light_samples: 510,\n",
       "                                   magnetometer_samples: 25451,\n",
       "                                   magnetometer_variables: 3,\n",
       "                                   temperature_samples: 510,\n",
       "                                   accelerometer_samples: 203601,\n",
       "                                   accelerometer_variables: 3,\n",
       "                                   ...\n",
       "                                   sr_smoothed_samples: 203601,\n",
       "                                   stroke_rate_samples: 203601,\n",
       "                                   odba_samples: 203601,\n",
       "                                   hr_normalized_samples: 50901,\n",
       "                                   heart_rate_samples: 50901,\n",
       "                                   event_data_samples: 1089)\n",
       "Coordinates: (12/25)\n",
       "  * light_samples                 (light_samples) datetime64[ns] 4kB 2023-10-...\n",
       "  * magnetometer_samples          (magnetometer_samples) datetime64[ns] 204kB ...\n",
       "  * magnetometer_variables        (magnetometer_variables) <U2 24B 'mx' ... 'mz'\n",
       "  * temperature_samples           (temperature_samples) datetime64[ns] 4kB 20...\n",
       "  * accelerometer_samples         (accelerometer_samples) datetime64[ns] 2MB ...\n",
       "  * accelerometer_variables       (accelerometer_variables) <U2 24B 'ax' ... ...\n",
       "    ...                            ...\n",
       "  * sr_smoothed_samples           (sr_smoothed_samples) datetime64[ns] 2MB 20...\n",
       "  * stroke_rate_samples           (stroke_rate_samples) datetime64[ns] 2MB 20...\n",
       "  * odba_samples                  (odba_samples) datetime64[ns] 2MB 2023-10-1...\n",
       "  * hr_normalized_samples         (hr_normalized_samples) datetime64[ns] 407kB ...\n",
       "  * heart_rate_samples            (heart_rate_samples) datetime64[ns] 407kB 2...\n",
       "  * event_data_samples            (event_data_samples) datetime64[ns] 9kB 202...\n",
       "Data variables: (12/23)\n",
       "    sensor_data_light             (light_samples) int64 4kB ...\n",
       "    sensor_data_magnetometer      (magnetometer_samples, magnetometer_variables) float64 611kB ...\n",
       "    sensor_data_temperature       (temperature_samples) float64 4kB ...\n",
       "    sensor_data_accelerometer     (accelerometer_samples, accelerometer_variables) float64 5MB ...\n",
       "    sensor_data_pressure          (pressure_samples) float64 204kB ...\n",
       "    sensor_data_gyroscope         (gyroscope_samples, gyroscope_variables) float64 611kB ...\n",
       "    ...                            ...\n",
       "    event_data_type               (event_data_samples) <U5 22kB ...\n",
       "    event_data_key                (event_data_samples) <U31 135kB ...\n",
       "    event_data_value              (event_data_samples) float64 9kB ...\n",
       "    event_data_duration           (event_data_samples) float64 9kB ...\n",
       "    event_data_short_description  (event_data_samples) <U42 183kB ...\n",
       "    event_data_long_description   (event_data_samples) float64 9kB ...\n",
       "Attributes: (12/26)\n",
       "    deployment_info_Deployment Date:             2023-10-18\n",
       "    deployment_info_Deployment Latitude:         32.764655\n",
       "    deployment_info_Deployment Longitude:        -117.228585\n",
       "    deployment_info_Time Zone:                   America/Los_Angeles\n",
       "    animal_info_Animal_ID:                       oror-001\n",
       "    dataset_info_Dataset_ID:                     oror-adult-orca_hr-sr-vid_sw...\n",
       "    ...                                          ...\n",
       "    sensor_info_gyroscope_channels_0:            gx\n",
       "    sensor_info_gyroscope_channels_1:            gy\n",
       "    sensor_info_gyroscope_channels_2:            gz\n",
       "    sensor_info_gyroscope_original_units_0:      mrad/s\n",
       "    sensor_info_ecg_channels_0:                  ecg\n",
       "    sensor_info_ecg_original_units_0:            unknown"
      ]
     },
     "metadata": {},
     "output_type": "display_data"
    }
   ],
   "source": [
    "import xarray as xr\n",
    "\n",
    "# Define the path to the NetCDF file\n",
    "netcdf_path = os.path.join(deployment_folder, 'outputs', f'{deployment_id}_output.nc')\n",
    "\n",
    "# Open the NetCDF file\n",
    "data = xr.open_dataset(netcdf_path)\n",
    "\n",
    "# Display the contents of the NetCDF file\n",
    "display(data)"
   ]
  },
  {
   "cell_type": "markdown",
   "metadata": {},
   "source": [
    "## Example uploading netCDF file to DiveDB"
   ]
  },
  {
   "cell_type": "markdown",
   "metadata": {},
   "source": []
  },
  {
   "cell_type": "code",
   "execution_count": 8,
   "metadata": {},
   "outputs": [
    {
     "name": "stdout",
     "output_type": "stream",
     "text": [
      "No OpenStack credentials found. SwiftClient will not be initialized.\n"
     ]
    }
   ],
   "source": [
    "LOCAL_DELTA_LAKE = config['paths']['delta_lake']['local']\n",
    "logger_ids = '_'.join(data_pkl.logger_info.keys())\n",
    "\n",
    "from DiveDB.services.data_uploader import DataUploader\n",
    "from DiveDB.services.duck_pond import DuckPond\n",
    "\n",
    "duckpond = DuckPond(LOCAL_DELTA_LAKE, connect_to_postgres=False)\n",
    "data_uploader = DataUploader(duckpond=duckpond)\n",
    "\n",
    "metadata = {\n",
    "            \"animal\": animal_id,\n",
    "            \"deployment\": deployment_id,\n",
    "            \"recording\": f\"{deployment_id}_{animal_id}_{logger_ids}\"\n",
    "        }"
   ]
  },
  {
   "cell_type": "code",
   "execution_count": 9,
   "metadata": {},
   "outputs": [
    {
     "name": "stdout",
     "output_type": "stream",
     "text": [
      "Creating file record for 2023-10-18_oror-001_output.nc and uploading to OpenStack...\n",
      "Processing ['light_samples', 'magnetometer_samples', 'temperature_samples', 'accelerometer_samples', 'pressure_samples', 'gyroscope_samples', 'ecg_samples', 'depth_samples', 'prh_samples', 'corrected_acc_samples', 'corrected_mag_samples', 'corrected_gyr_samples', 'sr_smoothed_samples', 'stroke_rate_samples', 'odba_samples', 'hr_normalized_samples', 'heart_rate_samples'] datasets in the netCDF file.\n"
     ]
    },
    {
     "name": "stderr",
     "output_type": "stream",
     "text": [
      "Processing variables: 100%|██████████| 17/17 [00:06<00:00,  2.70it/s]"
     ]
    },
    {
     "name": "stdout",
     "output_type": "stream",
     "text": [
      "Upload complete.\n"
     ]
    },
    {
     "name": "stderr",
     "output_type": "stream",
     "text": [
      "\n"
     ]
    }
   ],
   "source": [
    "data_uploader.upload_netcdf(netcdf_path, metadata)"
   ]
  },
  {
   "cell_type": "code",
   "execution_count": 10,
   "metadata": {},
   "outputs": [
    {
     "data": {
      "application/vnd.microsoft.datawrangler.viewer.v0+json": {
       "columns": [
        {
         "name": "index",
         "rawType": "int64",
         "type": "integer"
        },
        {
         "name": "count_star()",
         "rawType": "int64",
         "type": "integer"
        }
       ],
       "conversionMethod": "pd.DataFrame",
       "ref": "ae611233-82e2-40b6-ad8b-97bd281e294f",
       "rows": [
        [
         "0",
         "224828020"
        ]
       ],
       "shape": {
        "columns": 1,
        "rows": 1
       }
      },
      "text/html": [
       "<div>\n",
       "<style scoped>\n",
       "    .dataframe tbody tr th:only-of-type {\n",
       "        vertical-align: middle;\n",
       "    }\n",
       "\n",
       "    .dataframe tbody tr th {\n",
       "        vertical-align: top;\n",
       "    }\n",
       "\n",
       "    .dataframe thead th {\n",
       "        text-align: right;\n",
       "    }\n",
       "</style>\n",
       "<table border=\"1\" class=\"dataframe\">\n",
       "  <thead>\n",
       "    <tr style=\"text-align: right;\">\n",
       "      <th></th>\n",
       "      <th>count_star()</th>\n",
       "    </tr>\n",
       "  </thead>\n",
       "  <tbody>\n",
       "    <tr>\n",
       "      <th>0</th>\n",
       "      <td>224828020</td>\n",
       "    </tr>\n",
       "  </tbody>\n",
       "</table>\n",
       "</div>"
      ],
      "text/plain": [
       "   count_star()\n",
       "0     224828020"
      ]
     },
     "metadata": {},
     "output_type": "display_data"
    }
   ],
   "source": [
    "conn = duckpond.conn.sql(\"SELECT count(*) FROM DataLake\").df()\n",
    "\n",
    "display(conn)"
   ]
  },
  {
   "cell_type": "code",
   "execution_count": 11,
   "metadata": {},
   "outputs": [
    {
     "data": {
      "application/vnd.microsoft.datawrangler.viewer.v0+json": {
       "columns": [
        {
         "name": "index",
         "rawType": "int64",
         "type": "integer"
        },
        {
         "name": "datetime",
         "rawType": "datetime64[us, UTC]",
         "type": "unknown"
        },
        {
         "name": "derived_data_depth",
         "rawType": "float64",
         "type": "float"
        }
       ],
       "conversionMethod": "pd.DataFrame",
       "ref": "6e84bcdb-edcc-4e22-b7d5-fb229bfbac7e",
       "rows": [
        [
         "0",
         "2023-10-18 21:20:12+00:00",
         "0.0"
        ],
        [
         "1",
         "2023-10-18 21:20:13+00:00",
         "0.0"
        ],
        [
         "2",
         "2023-10-18 21:20:14+00:00",
         "0.0"
        ],
        [
         "3",
         "2023-10-18 21:20:15+00:00",
         "0.0"
        ],
        [
         "4",
         "2023-10-18 21:20:16+00:00",
         "0.0"
        ],
        [
         "5",
         "2023-10-18 21:20:17+00:00",
         "0.0"
        ],
        [
         "6",
         "2023-10-18 21:20:18+00:00",
         "0.0"
        ],
        [
         "7",
         "2023-10-18 21:20:19+00:00",
         "0.0"
        ],
        [
         "8",
         "2023-10-18 21:20:20+00:00",
         "0.0"
        ],
        [
         "9",
         "2023-10-18 21:20:21+00:00",
         "0.0"
        ],
        [
         "10",
         "2023-10-18 21:20:22+00:00",
         "0.0"
        ],
        [
         "11",
         "2023-10-18 21:20:23+00:00",
         "0.0"
        ],
        [
         "12",
         "2023-10-18 21:20:24+00:00",
         "0.0"
        ],
        [
         "13",
         "2023-10-18 21:20:25+00:00",
         "0.0"
        ],
        [
         "14",
         "2023-10-18 21:20:26+00:00",
         "0.0"
        ],
        [
         "15",
         "2023-10-18 21:20:27+00:00",
         "0.0"
        ],
        [
         "16",
         "2023-10-18 21:20:28+00:00",
         "0.0"
        ],
        [
         "17",
         "2023-10-18 21:20:29+00:00",
         "0.0"
        ],
        [
         "18",
         "2023-10-18 21:20:30+00:00",
         "0.0"
        ],
        [
         "19",
         "2023-10-18 21:20:31+00:00",
         "0.0"
        ],
        [
         "20",
         "2023-10-18 21:20:32+00:00",
         "0.0"
        ],
        [
         "21",
         "2023-10-18 21:20:33+00:00",
         "0.0"
        ],
        [
         "22",
         "2023-10-18 21:20:34+00:00",
         "0.0"
        ],
        [
         "23",
         "2023-10-18 21:20:35+00:00",
         "0.0"
        ],
        [
         "24",
         "2023-10-18 21:20:36+00:00",
         "0.0"
        ],
        [
         "25",
         "2023-10-18 21:20:37+00:00",
         "0.0"
        ],
        [
         "26",
         "2023-10-18 21:20:38+00:00",
         "0.0"
        ],
        [
         "27",
         "2023-10-18 21:20:39+00:00",
         "0.0"
        ],
        [
         "28",
         "2023-10-18 21:20:40+00:00",
         "0.0"
        ],
        [
         "29",
         "2023-10-18 21:20:41+00:00",
         "0.0"
        ],
        [
         "30",
         "2023-10-18 21:20:42+00:00",
         "0.0"
        ],
        [
         "31",
         "2023-10-18 21:20:43+00:00",
         "0.0"
        ],
        [
         "32",
         "2023-10-18 21:20:44+00:00",
         "0.0"
        ],
        [
         "33",
         "2023-10-18 21:20:45+00:00",
         "0.0"
        ],
        [
         "34",
         "2023-10-18 21:20:46+00:00",
         "0.0"
        ],
        [
         "35",
         "2023-10-18 21:20:47+00:00",
         "0.0"
        ],
        [
         "36",
         "2023-10-18 21:20:48+00:00",
         "0.0"
        ],
        [
         "37",
         "2023-10-18 21:20:49+00:00",
         "0.0"
        ],
        [
         "38",
         "2023-10-18 21:20:50+00:00",
         "0.0"
        ],
        [
         "39",
         "2023-10-18 21:20:51+00:00",
         "0.0"
        ],
        [
         "40",
         "2023-10-18 21:20:52+00:00",
         "0.0"
        ],
        [
         "41",
         "2023-10-18 21:20:53+00:00",
         "0.0"
        ],
        [
         "42",
         "2023-10-18 21:20:54+00:00",
         "0.0"
        ],
        [
         "43",
         "2023-10-18 21:20:55+00:00",
         "0.0"
        ],
        [
         "44",
         "2023-10-18 21:20:56+00:00",
         "0.0"
        ],
        [
         "45",
         "2023-10-18 21:20:57+00:00",
         "0.0"
        ],
        [
         "46",
         "2023-10-18 21:20:58+00:00",
         "0.0"
        ],
        [
         "47",
         "2023-10-18 21:20:59+00:00",
         "0.0"
        ],
        [
         "48",
         "2023-10-18 21:21:00+00:00",
         "0.0"
        ],
        [
         "49",
         "2023-10-18 21:21:01+00:00",
         "0.0"
        ]
       ],
       "shape": {
        "columns": 2,
        "rows": 510
       }
      },
      "text/html": [
       "<div>\n",
       "<style scoped>\n",
       "    .dataframe tbody tr th:only-of-type {\n",
       "        vertical-align: middle;\n",
       "    }\n",
       "\n",
       "    .dataframe tbody tr th {\n",
       "        vertical-align: top;\n",
       "    }\n",
       "\n",
       "    .dataframe thead th {\n",
       "        text-align: right;\n",
       "    }\n",
       "</style>\n",
       "<table border=\"1\" class=\"dataframe\">\n",
       "  <thead>\n",
       "    <tr style=\"text-align: right;\">\n",
       "      <th></th>\n",
       "      <th>datetime</th>\n",
       "      <th>derived_data_depth</th>\n",
       "    </tr>\n",
       "  </thead>\n",
       "  <tbody>\n",
       "    <tr>\n",
       "      <th>0</th>\n",
       "      <td>2023-10-18 21:20:12+00:00</td>\n",
       "      <td>0.0</td>\n",
       "    </tr>\n",
       "    <tr>\n",
       "      <th>1</th>\n",
       "      <td>2023-10-18 21:20:13+00:00</td>\n",
       "      <td>0.0</td>\n",
       "    </tr>\n",
       "    <tr>\n",
       "      <th>2</th>\n",
       "      <td>2023-10-18 21:20:14+00:00</td>\n",
       "      <td>0.0</td>\n",
       "    </tr>\n",
       "    <tr>\n",
       "      <th>3</th>\n",
       "      <td>2023-10-18 21:20:15+00:00</td>\n",
       "      <td>0.0</td>\n",
       "    </tr>\n",
       "    <tr>\n",
       "      <th>4</th>\n",
       "      <td>2023-10-18 21:20:16+00:00</td>\n",
       "      <td>0.0</td>\n",
       "    </tr>\n",
       "    <tr>\n",
       "      <th>...</th>\n",
       "      <td>...</td>\n",
       "      <td>...</td>\n",
       "    </tr>\n",
       "    <tr>\n",
       "      <th>505</th>\n",
       "      <td>2023-10-18 21:28:37+00:00</td>\n",
       "      <td>0.0</td>\n",
       "    </tr>\n",
       "    <tr>\n",
       "      <th>506</th>\n",
       "      <td>2023-10-18 21:28:38+00:00</td>\n",
       "      <td>0.0</td>\n",
       "    </tr>\n",
       "    <tr>\n",
       "      <th>507</th>\n",
       "      <td>2023-10-18 21:28:39+00:00</td>\n",
       "      <td>0.0</td>\n",
       "    </tr>\n",
       "    <tr>\n",
       "      <th>508</th>\n",
       "      <td>2023-10-18 21:28:40+00:00</td>\n",
       "      <td>0.0</td>\n",
       "    </tr>\n",
       "    <tr>\n",
       "      <th>509</th>\n",
       "      <td>2023-10-18 21:28:41+00:00</td>\n",
       "      <td>0.0</td>\n",
       "    </tr>\n",
       "  </tbody>\n",
       "</table>\n",
       "<p>510 rows × 2 columns</p>\n",
       "</div>"
      ],
      "text/plain": [
       "                     datetime  derived_data_depth\n",
       "0   2023-10-18 21:20:12+00:00                 0.0\n",
       "1   2023-10-18 21:20:13+00:00                 0.0\n",
       "2   2023-10-18 21:20:14+00:00                 0.0\n",
       "3   2023-10-18 21:20:15+00:00                 0.0\n",
       "4   2023-10-18 21:20:16+00:00                 0.0\n",
       "..                        ...                 ...\n",
       "505 2023-10-18 21:28:37+00:00                 0.0\n",
       "506 2023-10-18 21:28:38+00:00                 0.0\n",
       "507 2023-10-18 21:28:39+00:00                 0.0\n",
       "508 2023-10-18 21:28:40+00:00                 0.0\n",
       "509 2023-10-18 21:28:41+00:00                 0.0\n",
       "\n",
       "[510 rows x 2 columns]"
      ]
     },
     "execution_count": 11,
     "metadata": {},
     "output_type": "execute_result"
    }
   ],
   "source": [
    "duckpond.get_delta_data(\n",
    "    labels=[\"derived_data_depth\"],\n",
    "    animal_ids = animal_id,\n",
    "    frequency = 1,\n",
    ")"
   ]
  },
  {
   "cell_type": "code",
   "execution_count": 12,
   "metadata": {},
   "outputs": [
    {
     "data": {
      "application/vnd.microsoft.datawrangler.viewer.v0+json": {
       "columns": [
        {
         "name": "index",
         "rawType": "int64",
         "type": "integer"
        },
        {
         "name": "label",
         "rawType": "object",
         "type": "string"
        },
        {
         "name": "mean_data",
         "rawType": "float64",
         "type": "float"
        }
       ],
       "conversionMethod": "pd.DataFrame",
       "ref": "1eeb16c7-931a-4f24-bf47-77b531e24644",
       "rows": [
        [
         "0",
         "sensor_data_light",
         "0.0"
        ],
        [
         "1",
         "sensor_data_temperature",
         "34.43905882352937"
        ]
       ],
       "shape": {
        "columns": 2,
        "rows": 2
       }
      },
      "text/html": [
       "<div>\n",
       "<style scoped>\n",
       "    .dataframe tbody tr th:only-of-type {\n",
       "        vertical-align: middle;\n",
       "    }\n",
       "\n",
       "    .dataframe tbody tr th {\n",
       "        vertical-align: top;\n",
       "    }\n",
       "\n",
       "    .dataframe thead th {\n",
       "        text-align: right;\n",
       "    }\n",
       "</style>\n",
       "<table border=\"1\" class=\"dataframe\">\n",
       "  <thead>\n",
       "    <tr style=\"text-align: right;\">\n",
       "      <th></th>\n",
       "      <th>label</th>\n",
       "      <th>mean_data</th>\n",
       "    </tr>\n",
       "  </thead>\n",
       "  <tbody>\n",
       "    <tr>\n",
       "      <th>0</th>\n",
       "      <td>sensor_data_light</td>\n",
       "      <td>0.000000</td>\n",
       "    </tr>\n",
       "    <tr>\n",
       "      <th>1</th>\n",
       "      <td>sensor_data_temperature</td>\n",
       "      <td>34.439059</td>\n",
       "    </tr>\n",
       "  </tbody>\n",
       "</table>\n",
       "</div>"
      ],
      "text/plain": [
       "                     label  mean_data\n",
       "0        sensor_data_light   0.000000\n",
       "1  sensor_data_temperature  34.439059"
      ]
     },
     "metadata": {},
     "output_type": "display_data"
    }
   ],
   "source": [
    "df = duckpond.conn.sql(f\"\"\"\n",
    "    SELECT label, avg(value) as mean_data\n",
    "    FROM (\n",
    "        SELECT label, value.float as value\n",
    "        FROM DataLake\n",
    "        WHERE label = 'sensor_data_light'\n",
    "        OR label = 'sensor_data_temperature'\n",
    "    )\n",
    "    GROUP BY label\n",
    "\"\"\").df()\n",
    "\n",
    "display(df)"
   ]
  },
  {
   "cell_type": "code",
   "execution_count": 13,
   "metadata": {},
   "outputs": [
    {
     "data": {
      "application/vnd.microsoft.datawrangler.viewer.v0+json": {
       "columns": [
        {
         "name": "index",
         "rawType": "int64",
         "type": "integer"
        },
        {
         "name": "datetime",
         "rawType": "datetime64[us, UTC]",
         "type": "unknown"
        }
       ],
       "conversionMethod": "pd.DataFrame",
       "ref": "597c452c-adcb-450d-b350-cf9b7ea35cd9",
       "rows": [],
       "shape": {
        "columns": 1,
        "rows": 0
       }
      },
      "text/html": [
       "<div>\n",
       "<style scoped>\n",
       "    .dataframe tbody tr th:only-of-type {\n",
       "        vertical-align: middle;\n",
       "    }\n",
       "\n",
       "    .dataframe tbody tr th {\n",
       "        vertical-align: top;\n",
       "    }\n",
       "\n",
       "    .dataframe thead th {\n",
       "        text-align: right;\n",
       "    }\n",
       "</style>\n",
       "<table border=\"1\" class=\"dataframe\">\n",
       "  <thead>\n",
       "    <tr style=\"text-align: right;\">\n",
       "      <th></th>\n",
       "      <th>datetime</th>\n",
       "    </tr>\n",
       "  </thead>\n",
       "  <tbody>\n",
       "  </tbody>\n",
       "</table>\n",
       "</div>"
      ],
      "text/plain": [
       "Empty DataFrame\n",
       "Columns: [datetime]\n",
       "Index: []"
      ]
     },
     "metadata": {},
     "output_type": "display_data"
    }
   ],
   "source": [
    "# Get the filtered data\n",
    "filtered_data = duckpond.get_delta_data(    \n",
    "    animal_ids=\"apfo-001a\",\n",
    "    # Resample values to 10 Hz and make sure each signal has the same time intervals\n",
    "    frequency=10,\n",
    "    # Aggregation of events (think state events - behaviors) type: state (has state and end dates)\n",
    "    classes=\"sensor_data_accelerometer\",\n",
    "    \n",
    ")\n",
    "\n",
    "display(filtered_data)"
   ]
  },
  {
   "cell_type": "code",
   "execution_count": 14,
   "metadata": {},
   "outputs": [
    {
     "data": {
      "application/vnd.microsoft.datawrangler.viewer.v0+json": {
       "columns": [
        {
         "name": "index",
         "rawType": "int64",
         "type": "integer"
        },
        {
         "name": "label",
         "rawType": "object",
         "type": "string"
        },
        {
         "name": "mean_data",
         "rawType": "float64",
         "type": "float"
        }
       ],
       "conversionMethod": "pd.DataFrame",
       "ref": "b4188fbd-b242-43ba-a0af-5f11fea17862",
       "rows": [
        [
         "0",
         "sensor_data_temperature",
         "34.43905882352937"
        ]
       ],
       "shape": {
        "columns": 2,
        "rows": 1
       }
      },
      "text/html": [
       "<div>\n",
       "<style scoped>\n",
       "    .dataframe tbody tr th:only-of-type {\n",
       "        vertical-align: middle;\n",
       "    }\n",
       "\n",
       "    .dataframe tbody tr th {\n",
       "        vertical-align: top;\n",
       "    }\n",
       "\n",
       "    .dataframe thead th {\n",
       "        text-align: right;\n",
       "    }\n",
       "</style>\n",
       "<table border=\"1\" class=\"dataframe\">\n",
       "  <thead>\n",
       "    <tr style=\"text-align: right;\">\n",
       "      <th></th>\n",
       "      <th>label</th>\n",
       "      <th>mean_data</th>\n",
       "    </tr>\n",
       "  </thead>\n",
       "  <tbody>\n",
       "    <tr>\n",
       "      <th>0</th>\n",
       "      <td>sensor_data_temperature</td>\n",
       "      <td>34.439059</td>\n",
       "    </tr>\n",
       "  </tbody>\n",
       "</table>\n",
       "</div>"
      ],
      "text/plain": [
       "                     label  mean_data\n",
       "0  sensor_data_temperature  34.439059"
      ]
     },
     "metadata": {},
     "output_type": "display_data"
    }
   ],
   "source": [
    "label = \"sensor_data_temperature\"\n",
    "df = duckpond.conn.execute(f\"\"\"\n",
    "    SELECT label, avg(value) as mean_data\n",
    "    FROM (\n",
    "        SELECT label, value.float as value\n",
    "        FROM DataLake\n",
    "        WHERE label = $1\n",
    "    )\n",
    "    GROUP BY label\n",
    "\"\"\", [label]).df()\n",
    "\n",
    "display(df)"
   ]
  },
  {
   "cell_type": "markdown",
   "metadata": {},
   "source": [
    "## Example Export to EDF\n",
    "\n",
    "When it's easier to work with EDF files, we can export the data to an EDF file. This is useful for working with the data in other software packages.\n",
    "\n",
    "Calling `export_to_edf(output_dir)` on a `DiveData` object creates one output EDF file for each recording in the `DiveData` relation, saved to `output_dir` with filename `<recording_id>.edf`. \n",
    "\n",
    "*Note: it currently requires a lot of memory. Can be improved.*<br/>\n",
    "*Note: it's lacking support for most info fields in the EDF file.*\n",
    "\n",
    "##### Example:"
   ]
  },
  {
   "cell_type": "code",
   "execution_count": 17,
   "metadata": {},
   "outputs": [
    {
     "ename": "ModuleNotFoundError",
     "evalue": "No module named 'DiveDB.services.dive_data'",
     "output_type": "error",
     "traceback": [
      "\u001b[31m---------------------------------------------------------------------------\u001b[39m",
      "\u001b[31mModuleNotFoundError\u001b[39m                       Traceback (most recent call last)",
      "\u001b[36mCell\u001b[39m\u001b[36m \u001b[39m\u001b[32mIn[17]\u001b[39m\u001b[32m, line 4\u001b[39m\n\u001b[32m      2\u001b[39m \u001b[38;5;28;01mimport\u001b[39;00m\u001b[38;5;250m \u001b[39m\u001b[34;01mimportlib\u001b[39;00m\n\u001b[32m      3\u001b[39m \u001b[38;5;28;01mimport\u001b[39;00m\u001b[38;5;250m \u001b[39m\u001b[34;01mDiveDB\u001b[39;00m\u001b[34;01m.\u001b[39;00m\u001b[34;01mservices\u001b[39;00m\u001b[34;01m.\u001b[39;00m\u001b[34;01mduck_pond\u001b[39;00m\n\u001b[32m----> \u001b[39m\u001b[32m4\u001b[39m \u001b[38;5;28;01mimport\u001b[39;00m\u001b[38;5;250m \u001b[39m\u001b[34;01mDiveDB\u001b[39;00m\u001b[34;01m.\u001b[39;00m\u001b[34;01mservices\u001b[39;00m\u001b[34;01m.\u001b[39;00m\u001b[34;01mdive_data\u001b[39;00m\n\u001b[32m      5\u001b[39m importlib.reload(DiveDB.services.duck_pond)\n\u001b[32m      6\u001b[39m importlib.reload(DiveDB.services.dive_data)\n",
      "\u001b[31mModuleNotFoundError\u001b[39m: No module named 'DiveDB.services.dive_data'"
     ]
    }
   ],
   "source": [
    "import os\n",
    "import importlib\n",
    "import DiveDB.services.duck_pond\n",
    "import DiveDB.services.dive_data\n",
    "importlib.reload(DiveDB.services.duck_pond)\n",
    "importlib.reload(DiveDB.services.dive_data)\n",
    "\n",
    "duckpond = DuckPond(LOCAL_DELTA_LAKE, connect_to_postgres=False)\n",
    "\n",
    "dive_data = duckpond.get_delta_data(    \n",
    "    animal_ids=\"apfo-001a\",\n",
    "    labels=[\"sensor_data_temperature\", \"derived_data_depth\"],\n",
    "    limit=1000000,\n",
    ")\n",
    "\n",
    "output_edf_paths = dive_data.export_to_edf(\".tmp/my_output_dir/\")\n",
    "display(output_edf_paths)"
   ]
  },
  {
   "cell_type": "markdown",
   "metadata": {},
   "source": [
    "## Example importing NetCDF data"
   ]
  },
  {
   "cell_type": "code",
   "execution_count": null,
   "metadata": {},
   "outputs": [],
   "source": [
    "import xarray as xr\n",
    "#import netcdf4\n",
    "\n",
    "# Load the NetCDF file\n",
    "file_path = f\"{data_dir}/2004001_TrackTDR_RawCurated.nc\"\n",
    "dataset = xr.open_dataset(file_path)\n",
    "\n",
    "# Print the dataset information\n",
    "print(dataset)"
   ]
  }
 ],
 "metadata": {
  "kernelspec": {
   "display_name": "venv",
   "language": "python",
   "name": "python3"
  },
  "language_info": {
   "codemirror_mode": {
    "name": "ipython",
    "version": 3
   },
   "file_extension": ".py",
   "mimetype": "text/x-python",
   "name": "python",
   "nbconvert_exporter": "python",
   "pygments_lexer": "ipython3",
   "version": "3.12.3"
  }
 },
 "nbformat": 4,
 "nbformat_minor": 2
}
