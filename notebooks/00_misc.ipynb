{
 "cells": [
  {
   "cell_type": "code",
   "execution_count": 1,
   "metadata": {},
   "outputs": [
    {
     "name": "stdout",
     "output_type": "stream",
     "text": [
      "Current working directory: /Users/jessiekb/Documents/GitHub/pyologger\n",
      "<xarray.Dataset>\n",
      "Dimensions:  ()\n",
      "Data variables:\n",
      "    *empty*\n",
      "Attributes: (12/64)\n",
      "    File_Creation_Date:                21-Jun-2024 20:31:18\n",
      "    File_MATLAB_Version:               9.14.0.2489007 (R2023a) Update 6\n",
      "    File_R_Version:                    4.2.1\n",
      "    File_aniMotum_Version:             1.1-04\n",
      "    File_IKNOS_DA-ZOC_Version:         2.3/1.2\n",
      "    File_Contents:                     This file contains processed biologgin...\n",
      "    ...                                ...\n",
      "    Tags_TDR2_ID:                      \n",
      "    Tags_TDR2_Comments:                \n",
      "    Tags_TDR3_Manufacturer:            \n",
      "    Tags_TDR3_Model:                   \n",
      "    Tags_TDR3_ID:                      \n",
      "    Tags_TDR3_Comments:                \n"
     ]
    }
   ],
   "source": [
    "# Import libraries and set working directory (adjust to fit your preferences)\n",
    "import os\n",
    "import pickle\n",
    "from pyologger.load_data.datareader import DataReader\n",
    "from pyologger.load_data.metadata import Metadata\n",
    "from pyologger.plot_data.plotter import *\n",
    "from pyologger.calibrate_data.calibrate_acc_mag import *\n",
    "\n",
    "# Change the current working directory to the root directory\n",
    "# os.chdir(\"/Users/fbar/Documents/GitHub/pyologger\")\n",
    "os.chdir(\"/Users/jessiekb/Documents/GitHub/pyologger\")\n",
    "\n",
    "root_dir = os.getcwd()\n",
    "data_dir = os.path.join(root_dir, \"data\")\n",
    "\n",
    "# Verify the current working directory\n",
    "print(f\"Current working directory: {root_dir}\")\n",
    "import xarray as xr\n",
    "\n",
    "# Path to your NetCDF file\n",
    "file_path = os.path.join(data_dir, 'sample_netcdf_files', 'NESE_TrackingDiving_Data','2004001_TrackTDR_Processed.nc')\n",
    "\n",
    "# Load the NetCDF file into an xarray Dataset\n",
    "ds = xr.open_dataset(file_path)\n",
    "\n",
    "# Display the contents of the Dataset\n",
    "print(ds)\n"
   ]
  },
  {
   "cell_type": "code",
   "execution_count": 2,
   "metadata": {},
   "outputs": [
    {
     "name": "stdout",
     "output_type": "stream",
     "text": [
      "xarray.Dataset {\n",
      "dimensions:\n",
      "\n",
      "variables:\n",
      "\n",
      "// global attributes:\n",
      "\t:File_Creation_Date = 21-Jun-2024 20:31:18 ;\n",
      "\t:File_MATLAB_Version = 9.14.0.2489007 (R2023a) Update 6 ;\n",
      "\t:File_R_Version = 4.2.1 ;\n",
      "\t:File_aniMotum_Version = 1.1-04 ;\n",
      "\t:File_IKNOS_DA-ZOC_Version = 2.3/1.2 ;\n",
      "\t:File_Contents = This file contains processed biologging data from one deployment (single individual,single trip). Both tracking data (processed with aniMotum) and dive statistics(processed with custom code) are provided if available. Dive statistics from the native sampling rate of the instrument (e.g. TDR1) and at 8 second (or 0.125 Hz) sampling intervals (TDR1_8S) are provided. For additional processing details please see the associated paper (Costa et al., 2023).Raw data are also available at https://doi.org/10.7291/D10D61 ;\n",
      "\t:Data_Owner = Daniel Costa ;\n",
      "\t:Data_Public = Yes: data can be used freely as long as data owner is properly cited. We strongly recommend reaching out to the data owner or another of the coauthors (D.Crocker, R.Holser, P.Robinson) for additional information about the study system. Offers of coauthorship would be appreciated, especially given the unique natural history of this organism and the considerable effort required to collect these data. ;\n",
      "\t:Citation_Paper = Costa, D.P., Holser, R.R., et al. (2024), Two Decades of Three-Dimensional Movement Data from Adult Female Northern Elephant Seals. Scientific Data. ;\n",
      "\t:Citation_Paper_DOI =  ;\n",
      "\t:Citation_Dataset = Costa, D.P., Holser, R.R., et al. (2024), Northern Elephant Seal Tracking and Diving Data - Processed, Dryad, Dataset, https://doi.org/10.7291/D18D7W ;\n",
      "\t:Citation_Dataset_DOI = 10.7291/D18D7W ;\n",
      "\t:Data_Type = Tracking and diving time-series data ;\n",
      "\t:Data_Assembly_By = UCSC/Rachel Holser ;\n",
      "\t:Data_Timezone = UTC ;\n",
      "\t:Animal_ID = R881 ;\n",
      "\t:Animal_Species = Mirounga angustirostris ;\n",
      "\t:Animal_Species_CommonName = northern elephant seal ;\n",
      "\t:Animal_Sex = F ;\n",
      "\t:Animal_AgeClass = Adult ;\n",
      "\t:Animal_BirthYear = 2000.0 ;\n",
      "\t:Animal_HadPup = N/A ;\n",
      "\t:Animal_OtherDeployments = 2004001 ;\n",
      "\t:Deployment_ID = 2004001.0 ;\n",
      "\t:Deployment_Year = 2004.0 ;\n",
      "\t:Deployment_Trip = PB ;\n",
      "\t:Deployment_InstrumentsRecovered? = Y ;\n",
      "\t:Deployment_Manipulation? = N ;\n",
      "\t:Deployment_ManipulationType =  ;\n",
      "\t:Deployment_Departure_Location = ANNU ;\n",
      "\t:Deployment_Departure_Lat = 37.116396 ;\n",
      "\t:Deployment_Departure_Lon = -122.330756 ;\n",
      "\t:Deployment_Departure_Datetime = 02/23/2004 09:45 ;\n",
      "\t:Deployment_Arrival_Location = ANNU ;\n",
      "\t:Deployment_Arrival_Lat = 37.116396 ;\n",
      "\t:Deployment_Arrival_Lon = -122.330756 ;\n",
      "\t:Deployment_Arrival_Datetime = 05/07/2004 23:00 ;\n",
      "\t:Data_Track_QCFlag = 1.0 ;\n",
      "\t:Data_TDR1_QCFlag = 1.0 ;\n",
      "\t:Data_TDR2_QCFlag = 5.0 ;\n",
      "\t:Data_TDR3_QCFlag = 5.0 ;\n",
      "\t:Data_TDR1_SamplingFrequency_Hz = nan ;\n",
      "\t:Data_TDR1_DepthResolution_m = nan ;\n",
      "\t:Data_TDR2_SamplingFrequency_Hz = nan ;\n",
      "\t:Data_TDR2_DepthResolution_m = nan ;\n",
      "\t:Data_TDR3_SamplingFrequency_Hz = nan ;\n",
      "\t:Data_TDR3_DepthResolution_m = nan ;\n",
      "\t:Tags_SatTag_Manufacturer = SMRU ;\n",
      "\t:Tags_SatTag_Model =  ;\n",
      "\t:Tags_SatTag_ID =  ;\n",
      "\t:Tags_PTT = 37594.0 ;\n",
      "\t:Tags_SatTag_Comments =  ;\n",
      "\t:Tags_TDR1_Manufacturer = Wildlife Computers ;\n",
      "\t:Tags_TDR1_Model = Mk9 ;\n",
      "\t:Tags_TDR1_ID = 390832 ;\n",
      "\t:Tags_TDR1_Comments =  ;\n",
      "\t:Tags_TDR2_Manufacturer =  ;\n",
      "\t:Tags_TDR2_Model =  ;\n",
      "\t:Tags_TDR2_ID =  ;\n",
      "\t:Tags_TDR2_Comments =  ;\n",
      "\t:Tags_TDR3_Manufacturer =  ;\n",
      "\t:Tags_TDR3_Model =  ;\n",
      "\t:Tags_TDR3_ID =  ;\n",
      "\t:Tags_TDR3_Comments =  ;\n",
      "}"
     ]
    }
   ],
   "source": [
    "ds.info()"
   ]
  },
  {
   "cell_type": "code",
   "execution_count": 3,
   "metadata": {},
   "outputs": [
    {
     "data": {
      "text/plain": [
       "[]"
      ]
     },
     "execution_count": 3,
     "metadata": {},
     "output_type": "execute_result"
    }
   ],
   "source": [
    "list(ds.variables)"
   ]
  },
  {
   "cell_type": "code",
   "execution_count": null,
   "metadata": {},
   "outputs": [],
   "source": [
    "import xarray as xr\n",
    "\n",
    "# Path to your NetCDF file\n",
    "file_path = os.path.join(data_dir, 'sample_netcdf_files', 'TESTTEMPLATE_deployment_data.nc')\n",
    "\n",
    "# Load the NetCDF file into an xarray Dataset\n",
    "ds = xr.open_dataset(file_path)\n",
    "\n",
    "# Display the contents of the Dataset\n",
    "print(ds)"
   ]
  },
  {
   "cell_type": "code",
   "execution_count": null,
   "metadata": {},
   "outputs": [],
   "source": [
    "import xarray as xr\n",
    "\n",
    "# Path to your NetCDF file\n",
    "file_path = os.path.join(data_dir, 'sample_netcdf_files', '2024-01-16_oror-002a.nc')\n",
    "\n",
    "# Load the NetCDF file into an xarray Dataset\n",
    "ds = xr.open_dataset(file_path)\n",
    "\n",
    "# Display the contents of the Dataset\n",
    "print(ds)"
   ]
  },
  {
   "cell_type": "code",
   "execution_count": null,
   "metadata": {},
   "outputs": [],
   "source": [
    "ds.info()"
   ]
  },
  {
   "cell_type": "code",
   "execution_count": null,
   "metadata": {},
   "outputs": [],
   "source": [
    "ds.sensor_data_ecg\n",
    "# Plotting the sensor_data_ecg variable\n",
    "ds.sensor_data_ecg.plot()"
   ]
  },
  {
   "cell_type": "code",
   "execution_count": null,
   "metadata": {},
   "outputs": [],
   "source": [
    "ds.event_data"
   ]
  },
  {
   "cell_type": "code",
   "execution_count": null,
   "metadata": {},
   "outputs": [],
   "source": [
    "# Convert the string attribute back to a dictionary\n",
    "sensor_data_str = ds.attrs['sensor_data']\n",
    "sensor_data = json.loads(sensor_data_str)\n",
    "\n",
    "# Access the gyroscope DataFrame\n",
    "gyroscope_df = pd.DataFrame(sensor_data['gyroscope'])"
   ]
  },
  {
   "cell_type": "code",
   "execution_count": null,
   "metadata": {},
   "outputs": [],
   "source": [
    "list(ds.attrs)"
   ]
  },
  {
   "cell_type": "code",
   "execution_count": null,
   "metadata": {},
   "outputs": [],
   "source": [
    "ds.dephist_deploy_method"
   ]
  },
  {
   "cell_type": "code",
   "execution_count": null,
   "metadata": {},
   "outputs": [],
   "source": [
    "list(ds.variables)"
   ]
  }
 ],
 "metadata": {
  "kernelspec": {
   "display_name": "finescale_env",
   "language": "python",
   "name": "python3"
  },
  "language_info": {
   "codemirror_mode": {
    "name": "ipython",
    "version": 3
   },
   "file_extension": ".py",
   "mimetype": "text/x-python",
   "name": "python",
   "nbconvert_exporter": "python",
   "pygments_lexer": "ipython3",
   "version": "3.12.5"
  }
 },
 "nbformat": 4,
 "nbformat_minor": 2
}
