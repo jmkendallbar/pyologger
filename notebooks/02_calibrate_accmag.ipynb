{
 "cells": [
  {
   "cell_type": "markdown",
   "metadata": {},
   "source": [
    "# Correcting field intensity: calibrating accelerometer and magnetometer"
   ]
  },
  {
   "cell_type": "markdown",
   "metadata": {},
   "source": [
    "## Load and inspect data\n",
    "Load pickle file and inspect contents"
   ]
  },
  {
   "cell_type": "code",
   "execution_count": null,
   "metadata": {},
   "outputs": [],
   "source": [
    "import os\n",
    "import pickle\n",
    "\n",
    "# Import necessary pyologger utilities\n",
    "from pyologger.load_data.datareader import DataReader\n",
    "from pyologger.load_data.metadata import Metadata\n",
    "from pyologger.plot_data.plotter import *\n",
    "from pyologger.process_data.sampling import *\n",
    "from pyologger.calibrate_data.zoc import *\n",
    "from pyologger.plot_data.plotter import plot_depth_correction\n",
    "from pyologger.calibrate_data.calibrate_acc_mag import *\n",
    "\n",
    "# Change the current working directory to the root directory\n",
    "# os.chdir(\"/Users/fbar/Documents/GitHub/pyologger\")\n",
    "os.chdir(\"/Users/jessiekb/Documents/GitHub/pyologger\")\n",
    "\n",
    "root_dir = os.getcwd()\n",
    "data_dir = os.path.join(root_dir, \"data\")\n",
    "color_mapping_path = os.path.join(root_dir, \"color_mappings.json\")\n",
    "\n",
    "# Verify the current working directory\n",
    "print(f\"Current working directory: {root_dir}\")"
   ]
  },
  {
   "cell_type": "code",
   "execution_count": null,
   "metadata": {},
   "outputs": [],
   "source": [
    "# Initialize the info class\n",
    "metadata = Metadata()\n",
    "metadata.fetch_databases(verbose=False)\n",
    "\n",
    "# Save databases\n",
    "deployment_db = metadata.get_metadata(\"deployment_DB\")\n",
    "logger_db = metadata.get_metadata(\"logger_DB\")\n",
    "recording_db = metadata.get_metadata(\"recording_DB\")\n",
    "animal_db = metadata.get_metadata(\"animal_DB\")\n",
    "\n",
    "# Assuming you have the metadata and deployment_db loaded:\n",
    "datareader = DataReader()\n",
    "deployment_folder = datareader.check_deployment_folder(deployment_db, data_dir)"
   ]
  },
  {
   "cell_type": "code",
   "execution_count": null,
   "metadata": {},
   "outputs": [],
   "source": [
    "# Load the data_reader object from the pickle file\n",
    "pkl_path = os.path.join(deployment_folder, 'outputs', 'data.pkl')\n",
    "\n",
    "with open(pkl_path, 'rb') as file:\n",
    "    data_pkl = pickle.load(file)\n",
    "\n",
    "for logger_id, info in data_pkl.logger_info.items():\n",
    "    sampling_frequency = info.get('datetime_metadata', {}).get('fs', None)\n",
    "    if sampling_frequency is not None:\n",
    "        # Format the sampling frequency to 5 significant digits\n",
    "        print(f\"Sampling frequency for {logger_id}: {sampling_frequency} Hz\")\n",
    "    else:\n",
    "        print(f\"No sampling frequency available for {logger_id}\")"
   ]
  },
  {
   "cell_type": "markdown",
   "metadata": {},
   "source": [
    "## Calibrate ACC & MAG"
   ]
  },
  {
   "cell_type": "code",
   "execution_count": null,
   "metadata": {},
   "outputs": [],
   "source": [
    "# Check sampling frequencies of accelerometer and magnetometer\n",
    "acc_fs = data_pkl.sensor_info['accelerometer']['sampling_frequency']\n",
    "acc_fs\n",
    "mag_fs = data_pkl.sensor_info['magnetometer']['sampling_frequency']\n",
    "mag_fs\n",
    "print(f\"Sampling frequency of Accelerometer is {acc_fs/mag_fs}X of Magnetometer.\")"
   ]
  },
  {
   "cell_type": "code",
   "execution_count": null,
   "metadata": {},
   "outputs": [],
   "source": [
    "data_pkl.sensor_data['magnetometer'][['mx', 'my', 'mz']]"
   ]
  },
  {
   "cell_type": "code",
   "execution_count": null,
   "metadata": {},
   "outputs": [],
   "source": [
    "acc_data = data_pkl.sensor_data['accelerometer'][['ax','ay','az']]\n",
    "mag_data = data_pkl.sensor_data['magnetometer'][['mx', 'my', 'mz']]\n",
    "\n",
    "upsampled_columns = []\n",
    "for col in mag_data.columns:\n",
    "    upsampled_col = upsample(mag_data[col].values, acc_fs / mag_fs, len(acc_data))  # Apply upsample to each column\n",
    "    upsampled_columns.append(upsampled_col)  # Append the upsampled column to the list\n",
    "\n",
    "# Combine the upsampled columns back into a NumPy array\n",
    "mag_data_upsampled = np.column_stack(upsampled_columns)\n",
    "mag_data = mag_data_upsampled\n",
    "\n",
    "acc_data = acc_data.values\n",
    "\n",
    "# Assuming acc_data and mag_data_upsampled are NumPy arrays\n",
    "print(f\"Magnetometer upsampled to match accelerometer length: acc_data shape= {acc_data.shape}, upsampled mag_data shape = {mag_data.shape}\")\n",
    "sampling_rate = acc_fs"
   ]
  },
  {
   "cell_type": "code",
   "execution_count": null,
   "metadata": {},
   "outputs": [],
   "source": [
    "acc_data.shape\n",
    "mag_data.shape"
   ]
  },
  {
   "cell_type": "code",
   "execution_count": null,
   "metadata": {},
   "outputs": [],
   "source": [
    "# Call the check_AM function\n",
    "AMcheck = compute_field_intensity_and_inclination(acc_data, mag_data, sampling_rate)\n",
    "\n",
    "# Access the field intensity and inclination angle\n",
    "field_intensity_acc = AMcheck['field_intensity'][:, 0]  # Field intensity of accelerometer data\n",
    "field_intensity_mag = AMcheck['field_intensity'][:, 1]  # Field intensity of magnetometer data\n",
    "inclination_angle = AMcheck['inclination_angle']\n",
    "\n",
    "# Print results\n",
    "print(\"Field Intensity:\\n\", field_intensity_acc)\n",
    "print(\"Field Intensity:\\n\", field_intensity_mag)\n",
    "print(\"Inclination Angle (degrees):\\n\", inclination_angle)"
   ]
  },
  {
   "cell_type": "markdown",
   "metadata": {},
   "source": [
    "## Add interim data to pickle"
   ]
  },
  {
   "cell_type": "code",
   "execution_count": 9,
   "metadata": {},
   "outputs": [],
   "source": [
    "# Split into calibration_acc, calibration_mag, and inclination_angle\n",
    "\n",
    "# Calibration for Accelerometer (field_intensity_acc)\n",
    "calibration_acc = pd.DataFrame({\n",
    "    'datetime': data_pkl.sensor_data['accelerometer']['datetime'],\n",
    "    'field_intensity_acc': field_intensity_acc\n",
    "})\n",
    "data_pkl.derived_data['calibration_acc'] = calibration_acc\n",
    "data_pkl.derived_info['calibration_acc'] = {\n",
    "    \"channels\": [\"field_intensity_acc\"],\n",
    "    \"metadata\": {\n",
    "        'field_intensity_acc': {'original_name': 'Field Intensity Acc (m/s^2)',\n",
    "                                'unit': 'm/s^2',\n",
    "                                'sensor': 'accelerometer'}\n",
    "    },\n",
    "    \"derived_from_sensors\": [\"accelerometer\"],\n",
    "    \"transformation_log\": [\"checked_field_intensity\"]\n",
    "}\n",
    "\n",
    "# Calibration for Magnetometer (field_intensity_mag)\n",
    "calibration_mag = pd.DataFrame({\n",
    "    'datetime': data_pkl.sensor_data['accelerometer']['datetime'],\n",
    "    'field_intensity_mag': field_intensity_mag\n",
    "})\n",
    "data_pkl.derived_data['calibration_mag'] = calibration_mag\n",
    "data_pkl.derived_info['calibration_mag'] = {\n",
    "    \"channels\": [\"field_intensity_mag\"],\n",
    "    \"metadata\": {\n",
    "        'field_intensity_mag': {'original_name': 'Field Intensity Mag (uT)',\n",
    "                                'unit': 'uT',\n",
    "                                'sensor': 'magnetometer'}\n",
    "    },\n",
    "    \"derived_from_sensors\": [\"magnetometer\"],\n",
    "    \"transformation_log\": [\"checked_field_intensity\"]\n",
    "}\n",
    "\n",
    "# Inclination Angle\n",
    "inclination_angle_df = pd.DataFrame({\n",
    "    'datetime': data_pkl.sensor_data['accelerometer']['datetime'],\n",
    "    'inclination_angle': inclination_angle\n",
    "})\n",
    "data_pkl.derived_data['inclination_angle'] = inclination_angle_df\n",
    "data_pkl.derived_info['inclination_angle'] = {\n",
    "    \"channels\": [\"inclination_angle\"],\n",
    "    \"metadata\": {\n",
    "        'inclination_angle': {'original_name': 'Inclination Angle (deg)',\n",
    "                              'unit': 'deg',\n",
    "                              'sensor': 'extra'}\n",
    "    },\n",
    "    \"derived_from_sensors\": [\"accelerometer\", \"magnetometer\"],\n",
    "    \"transformation_log\": [\"calculated_inclination_angle\"]\n",
    "}\n"
   ]
  },
  {
   "cell_type": "markdown",
   "metadata": {},
   "source": [
    "## Add interim data to pickle"
   ]
  },
  {
   "cell_type": "code",
   "execution_count": null,
   "metadata": {},
   "outputs": [],
   "source": [
    "OVERLAP_START_TIME = '2024-01-16 09:30:00'  # Start time for plotting\n",
    "OVERLAP_END_TIME = '2024-01-16 10:30:00'  # End time for plotting\n",
    "ZOOM_START_TIME = '2024-01-16 10:00:00'  # Start time for zooming\n",
    "ZOOM_END_TIME = '2024-01-16 10:02:30'  # End time for zooming\n",
    "TARGET_SAMPLING_RATE = 10\n",
    "\n",
    "notes_to_plot = {\n",
    "    'heartbeat_manual_ok': {'sensor': 'ecg', 'symbol': 'triangle-down', 'color': 'blue'},\n",
    "    'heartbeat_auto_detect_accepted': {'sensor': 'ecg', 'symbol': 'triangle-up', 'color': 'green'},\n",
    "    'heartbeat_auto_detect_rejected': {'sensor': 'ecg', 'symbol': 'triangle-up', 'color': 'red'}\n",
    "}\n",
    "\n",
    "fig = plot_tag_data_interactive5(\n",
    "    data_pkl=data_pkl,\n",
    "    sensors=['ecg', 'accelerometer', 'magnetometer'],\n",
    "    derived_data_signals=['depth', 'calibration_acc', 'calibration_mag', 'inclination_angle'],\n",
    "    channels={},\n",
    "    time_range=(OVERLAP_START_TIME, OVERLAP_END_TIME),\n",
    "    note_annotations=notes_to_plot,\n",
    "    color_mapping_path=color_mapping_path,\n",
    "    target_sampling_rate=TARGET_SAMPLING_RATE,\n",
    "    zoom_start_time=ZOOM_START_TIME,\n",
    "    zoom_end_time=ZOOM_END_TIME,\n",
    "    zoom_range_selector_channel='depth',\n",
    "    plot_event_values=[],\n",
    ")"
   ]
  },
  {
   "cell_type": "code",
   "execution_count": null,
   "metadata": {},
   "outputs": [],
   "source": [
    "acc_data.shape"
   ]
  },
  {
   "cell_type": "markdown",
   "metadata": {},
   "source": [
    "### Apply adjustments - pick up here"
   ]
  },
  {
   "cell_type": "code",
   "execution_count": null,
   "metadata": {},
   "outputs": [],
   "source": [
    "# Apply the fix_offset_3d function to adjust accelerometer data\n",
    "result = estimate_offset_triaxial(acc_data)\n",
    "\n",
    "# Extract the adjusted data and calibration info\n",
    "adjusted_data_acc = result['X']\n",
    "calibration_info_acc = result['G']\n",
    "\n",
    "print(\"Adjusted Data:\\n\", adjusted_data_acc)\n",
    "print(\"Calibration Info:\\n\", calibration_info_acc)"
   ]
  },
  {
   "cell_type": "code",
   "execution_count": null,
   "metadata": {},
   "outputs": [],
   "source": [
    "adjusted_data_acc[:,0]"
   ]
  },
  {
   "cell_type": "code",
   "execution_count": 34,
   "metadata": {},
   "outputs": [],
   "source": [
    "# Calibration for Accelerometer (field_intensity_acc and ax, ay, az)\n",
    "calibration_acc = pd.DataFrame({\n",
    "    'datetime': data_pkl.sensor_data['accelerometer']['datetime'],\n",
    "    'ax': adjusted_data_acc[:,0],\n",
    "    'ay': adjusted_data_acc[:,1],\n",
    "    'az': adjusted_data_acc[:,2]\n",
    "})\n",
    "\n",
    "data_pkl.derived_data['calibrated_acc'] = calibration_acc\n",
    "data_pkl.derived_info['calibrated_acc'] = {\n",
    "    \"channels\": [\"ax\", \"ay\", \"az\"],\n",
    "    \"metadata\": {\n",
    "        'ax': {'original_name': 'Acceleration X (m/s^2)',\n",
    "               'unit': 'm/s^2',\n",
    "               'sensor': 'accelerometer'},\n",
    "        'ay': {'original_name': 'Acceleration Y (m/s^2)',\n",
    "               'unit': 'm/s^2',\n",
    "               'sensor': 'accelerometer'},\n",
    "        'az': {'original_name': 'Acceleration Z (m/s^2)',\n",
    "               'unit': 'm/s^2',\n",
    "               'sensor': 'accelerometer'}\n",
    "    },\n",
    "    \"derived_from_sensors\": [\"accelerometer\"],\n",
    "    \"transformation_log\": [\"estimated_offset_triaxial\"]\n",
    "}"
   ]
  },
  {
   "cell_type": "code",
   "execution_count": null,
   "metadata": {},
   "outputs": [],
   "source": [
    "# Apply the fix_offset_3d function to adjust magnetometer data\n",
    "result = estimate_offset_triaxial(mag_data)\n",
    "\n",
    "# Extract the adjusted data and calibration info\n",
    "adjusted_data_mag = result['X']\n",
    "calibration_info_mag = result['G']\n",
    "\n",
    "print(\"Adjusted Data:\\n\", adjusted_data_mag)\n",
    "print(\"Calibration Info:\\n\", calibration_info_mag)"
   ]
  },
  {
   "cell_type": "markdown",
   "metadata": {},
   "source": [
    "### Re-run check AM. \n",
    "Re-run the field intensity and inclination angle calculations to see if now the values are closer to expected."
   ]
  },
  {
   "cell_type": "code",
   "execution_count": 36,
   "metadata": {},
   "outputs": [],
   "source": [
    "# Calibration for Magnetometer (field_intensity_mag and mx, my, mz)\n",
    "calibration_mag = pd.DataFrame({\n",
    "    'datetime': data_pkl.sensor_data['accelerometer']['datetime'],\n",
    "    'mx': adjusted_data_mag[:,0],\n",
    "    'my': adjusted_data_mag[:,1],\n",
    "    'mz': adjusted_data_mag[:,2]\n",
    "})\n",
    "\n",
    "data_pkl.derived_data['calibrated_mag'] = calibration_mag\n",
    "data_pkl.derived_info['calibrated_mag'] = {\n",
    "    \"channels\": [\"mx\", \"my\", \"mz\"],\n",
    "    \"metadata\": {\n",
    "        'mx': {'original_name': 'Magnetometer (uT)',\n",
    "               'unit': 'uT',\n",
    "               'sensor': 'magnetometer'},\n",
    "        'my': {'original_name': 'Magnetometer (uT)',\n",
    "               'unit': 'uT',\n",
    "               'sensor': 'magnetometer'},\n",
    "        'mz': {'original_name': 'Magnetometer (uT)',\n",
    "               'unit': 'uT',\n",
    "               'sensor': 'magnetometer'}\n",
    "    },\n",
    "    \"derived_from_sensors\": [\"magnetometer\"],\n",
    "    \"transformation_log\": [\"estimated_offset_triaxial\"]\n",
    "}"
   ]
  },
  {
   "cell_type": "code",
   "execution_count": 37,
   "metadata": {},
   "outputs": [],
   "source": [
    "# Assuming acc_data and mag_data are extracted from the calibrated accelerometer and magnetometer data\n",
    "acc_data = data_pkl.derived_data['calibrated_acc'][['ax', 'ay', 'az']].values\n",
    "mag_data = data_pkl.derived_data['calibrated_mag'][['mx', 'my', 'mz']].values\n",
    "sampling_rate = 100  # Adjust this to the correct sampling rate of your data\n",
    "\n",
    "# Call the check_AM function\n",
    "AMcheck = compute_field_intensity_and_inclination(acc_data, mag_data, sampling_rate)\n",
    "\n",
    "# Access the field intensity and inclination angle\n",
    "field_intensity_acc = AMcheck['field_intensity'][:, 0]  # Field intensity of accelerometer data\n",
    "field_intensity_mag = AMcheck['field_intensity'][:, 1]  # Field intensity of magnetometer data\n",
    "inclination_angle = AMcheck['inclination_angle']\n",
    "\n",
    "# Append the new field intensity and inclination angle to calibration_acc and calibration_mag\n",
    "\n",
    "# Calibration for Accelerometer (append field_intensity_acc)\n",
    "data_pkl.derived_data['calibration_acc']['calibrated_field_intensity_acc'] = field_intensity_acc\n",
    "\n",
    "# Calibration for Magnetometer (append field_intensity_mag)\n",
    "data_pkl.derived_data['calibration_mag']['calibrated_field_intensity_mag'] = field_intensity_mag\n",
    "\n",
    "# Inclination Angle (append inclination_angle)\n",
    "data_pkl.derived_data['inclination_angle']['calibrated_inclination_angle'] = inclination_angle\n",
    "\n",
    "# Update the derived_info to reflect the new columns for accelerometer and magnetometer\n",
    "data_pkl.derived_info['calibration_acc'][\"channels\"].append(\"calibrated_field_intensity_acc\")\n",
    "data_pkl.derived_info['calibration_acc'][\"metadata\"]['calibrated_field_intensity_acc'] = {\n",
    "    'original_name': 'Calibrated Field Intensity Acc (m/s^2)',\n",
    "    'unit': 'm/s^2',\n",
    "    'sensor': 'accelerometer'\n",
    "}\n",
    "\n",
    "data_pkl.derived_info['calibration_mag'][\"channels\"].append(\"calibrated_field_intensity_mag\")\n",
    "data_pkl.derived_info['calibration_mag'][\"metadata\"]['calibrated_field_intensity_mag'] = {\n",
    "    'original_name': 'Calibrated Field Intensity Mag (uT)',\n",
    "    'unit': 'uT',\n",
    "    'sensor': 'magnetometer'\n",
    "}\n",
    "\n",
    "# Update the derived_info for inclination_angle\n",
    "data_pkl.derived_info['inclination_angle'][\"channels\"].append(\"calibrated_inclination_angle\")\n",
    "data_pkl.derived_info['inclination_angle'][\"metadata\"]['calibrated_inclination_angle'] = {\n",
    "    'original_name': 'Calibrated Inclination Angle (deg)',\n",
    "    'unit': 'deg',\n",
    "    'sensor': 'accelerometer, magnetometer'\n",
    "}\n"
   ]
  },
  {
   "cell_type": "code",
   "execution_count": null,
   "metadata": {},
   "outputs": [],
   "source": [
    "fig = plot_tag_data_interactive5(\n",
    "    data_pkl=data_pkl,\n",
    "    sensors=['ecg', 'accelerometer', 'magnetometer'],\n",
    "    derived_data_signals=['depth', 'calibrated_acc', 'calibrated_mag', 'inclination_angle', 'calibration_acc', 'calibration_mag'],\n",
    "    channels={},\n",
    "    time_range=(OVERLAP_START_TIME, OVERLAP_END_TIME),\n",
    "    note_annotations=notes_to_plot,\n",
    "    color_mapping_path=color_mapping_path,\n",
    "    target_sampling_rate=TARGET_SAMPLING_RATE,\n",
    "    zoom_start_time=ZOOM_START_TIME,\n",
    "    zoom_end_time=ZOOM_END_TIME,\n",
    "    zoom_range_selector_channel='depth',\n",
    "    plot_event_values=[],\n",
    ")"
   ]
  },
  {
   "cell_type": "markdown",
   "metadata": {},
   "source": [
    "### Fix inclination angle\n",
    "Here is where you would fix the axes of triaxial sensor data (if the sensor axis differs from the tag axis)"
   ]
  },
  {
   "cell_type": "code",
   "execution_count": null,
   "metadata": {},
   "outputs": [],
   "source": [
    "data_pkl.sensor_info['pressure']"
   ]
  },
  {
   "cell_type": "markdown",
   "metadata": {},
   "source": [
    "### Save data"
   ]
  },
  {
   "cell_type": "code",
   "execution_count": 42,
   "metadata": {},
   "outputs": [],
   "source": [
    "# Save the new added data to the data structure\n",
    "with open(pkl_path, 'wb') as file:\n",
    "        pickle.dump(data_pkl, file)"
   ]
  }
 ],
 "metadata": {
  "kernelspec": {
   "display_name": "finescale_env",
   "language": "python",
   "name": "python3"
  },
  "language_info": {
   "codemirror_mode": {
    "name": "ipython",
    "version": 3
   },
   "file_extension": ".py",
   "mimetype": "text/x-python",
   "name": "python",
   "nbconvert_exporter": "python",
   "pygments_lexer": "ipython3",
   "version": "3.12.5"
  }
 },
 "nbformat": 4,
 "nbformat_minor": 2
}
