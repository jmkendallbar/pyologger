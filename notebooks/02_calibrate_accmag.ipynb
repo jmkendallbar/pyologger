{
 "cells": [
  {
   "cell_type": "markdown",
   "metadata": {},
   "source": [
    "# Correcting field intensity: calibrating accelerometer and magnetometer"
   ]
  },
  {
   "cell_type": "markdown",
   "metadata": {},
   "source": [
    "## Load and inspect data\n",
    "Load pickle file and inspect contents"
   ]
  },
  {
   "cell_type": "code",
   "execution_count": null,
   "metadata": {},
   "outputs": [],
   "source": [
    "# Import necessary pyologger utilities\n",
    "from pyologger.utils.folder_manager import *\n",
    "from pyologger.utils.event_manager import *\n",
    "from pyologger.plot_data.plotter import *\n",
    "from pyologger.io_operations.base_exporter import *\n",
    "from pyologger.utils.data_manager import *\n",
    "from pyologger.calibrate_data.calibrate_acc_mag import *\n",
    "\n",
    "# Load important file paths and configurations\n",
    "config, data_dir, color_mapping_path, channel_mapping_path = load_configuration()\n",
    "# Streamlit load data\n",
    "animal_id, dataset_id, deployment_id, dataset_folder, deployment_folder, data_pkl, config_manager = select_and_load_deployment(data_dir, dataset_id=\"oror-adult-orca_hr-sr-vid_sw_JKB-PP\", deployment_id=\"2024-01-16_oror-002\")\n",
    "pkl_path = os.path.join(deployment_folder, 'outputs', 'data.pkl')"
   ]
  },
  {
   "cell_type": "code",
   "execution_count": null,
   "metadata": {},
   "outputs": [],
   "source": [
    "current_processing_step = \"Processing Step 02 IN PROGRESS.\"\n",
    "config_manager.add_to_config(\"current_processing_step\", current_processing_step)"
   ]
  },
  {
   "cell_type": "markdown",
   "metadata": {},
   "source": [
    "## Calibrate ACC & MAG"
   ]
  },
  {
   "cell_type": "code",
   "execution_count": null,
   "metadata": {},
   "outputs": [],
   "source": [
    "# Check sampling frequencies of accelerometer and magnetometer\n",
    "acc_fs = data_pkl.sensor_info['accelerometer']['sampling_frequency']\n",
    "acc_fs\n",
    "mag_fs = data_pkl.sensor_info['magnetometer']['sampling_frequency']\n",
    "mag_fs\n",
    "print(f\"Sampling frequency of Accelerometer is {acc_fs/mag_fs}X of Magnetometer.\")"
   ]
  },
  {
   "cell_type": "code",
   "execution_count": null,
   "metadata": {},
   "outputs": [],
   "source": [
    "data_pkl.sensor_data['magnetometer'][['mx', 'my', 'mz']]"
   ]
  },
  {
   "cell_type": "code",
   "execution_count": null,
   "metadata": {},
   "outputs": [],
   "source": [
    "acc_data = data_pkl.sensor_data['accelerometer'][['ax','ay','az']]\n",
    "mag_data = data_pkl.sensor_data['magnetometer'][['mx', 'my', 'mz']]\n",
    "\n",
    "upsampled_columns = []\n",
    "for col in mag_data.columns:\n",
    "    upsampled_col = upsample(mag_data[col].values, acc_fs / mag_fs, len(acc_data))  # Apply upsample to each column\n",
    "    upsampled_columns.append(upsampled_col)  # Append the upsampled column to the list\n",
    "\n",
    "# Combine the upsampled columns back into a NumPy array\n",
    "mag_data_upsampled = np.column_stack(upsampled_columns)\n",
    "mag_data = mag_data_upsampled\n",
    "\n",
    "acc_data = acc_data.values\n",
    "\n",
    "# Assuming acc_data and mag_data_upsampled are NumPy arrays\n",
    "print(f\"Magnetometer upsampled to match accelerometer length: acc_data shape= {acc_data.shape}, upsampled mag_data shape = {mag_data.shape}\")\n",
    "sampling_rate = acc_fs"
   ]
  },
  {
   "cell_type": "code",
   "execution_count": null,
   "metadata": {},
   "outputs": [],
   "source": [
    "acc_data.shape\n",
    "mag_data.shape"
   ]
  },
  {
   "cell_type": "code",
   "execution_count": null,
   "metadata": {},
   "outputs": [],
   "source": [
    "# Call the check_AM function\n",
    "AMcheck = compute_field_intensity_and_inclination(acc_data, mag_data, sampling_rate)\n",
    "\n",
    "# Access the field intensity and inclination angle\n",
    "field_intensity_acc = AMcheck['field_intensity'][:, 0]  # Field intensity of accelerometer data\n",
    "field_intensity_mag = AMcheck['field_intensity'][:, 1]  # Field intensity of magnetometer data\n",
    "inclination_angle = AMcheck['inclination_angle']\n",
    "\n",
    "# Print results\n",
    "print(\"Field Intensity:\\n\", field_intensity_acc)\n",
    "print(\"Field Intensity:\\n\", field_intensity_mag)\n",
    "print(\"Inclination Angle (degrees):\\n\", inclination_angle)"
   ]
  },
  {
   "cell_type": "markdown",
   "metadata": {},
   "source": [
    "## Add interim data to pickle"
   ]
  },
  {
   "cell_type": "code",
   "execution_count": null,
   "metadata": {},
   "outputs": [],
   "source": [
    "# Split into calibration_acc, calibration_mag, and inclination_angle\n",
    "\n",
    "# Calibration for Accelerometer (field_intensity_acc)\n",
    "calibration_acc = pd.DataFrame({\n",
    "    'datetime': data_pkl.sensor_data['accelerometer']['datetime'],\n",
    "    'field_intensity_acc': field_intensity_acc\n",
    "})\n",
    "data_pkl.derived_data['calibration_acc'] = calibration_acc\n",
    "data_pkl.derived_info['calibration_acc'] = {\n",
    "    \"channels\": [\"field_intensity_acc\"],\n",
    "    \"metadata\": {\n",
    "        'field_intensity_acc': {'original_name': 'Field Intensity Acc (m/s^2)',\n",
    "                                'unit': 'm/s^2',\n",
    "                                'sensor': 'accelerometer'}\n",
    "    },\n",
    "    \"derived_from_sensors\": [\"accelerometer\"],\n",
    "    \"transformation_log\": [\"checked_field_intensity\"]\n",
    "}\n",
    "\n",
    "# Calibration for Magnetometer (field_intensity_mag)\n",
    "calibration_mag = pd.DataFrame({\n",
    "    'datetime': data_pkl.sensor_data['accelerometer']['datetime'],\n",
    "    'field_intensity_mag': field_intensity_mag\n",
    "})\n",
    "data_pkl.derived_data['calibration_mag'] = calibration_mag\n",
    "data_pkl.derived_info['calibration_mag'] = {\n",
    "    \"channels\": [\"field_intensity_mag\"],\n",
    "    \"metadata\": {\n",
    "        'field_intensity_mag': {'original_name': 'Field Intensity Mag (uT)',\n",
    "                                'unit': 'uT',\n",
    "                                'sensor': 'magnetometer'}\n",
    "    },\n",
    "    \"derived_from_sensors\": [\"magnetometer\"],\n",
    "    \"transformation_log\": [\"checked_field_intensity\"]\n",
    "}\n",
    "\n",
    "# Inclination Angle\n",
    "inclination_angle_df = pd.DataFrame({\n",
    "    'datetime': data_pkl.sensor_data['accelerometer']['datetime'],\n",
    "    'inclination_angle': inclination_angle\n",
    "})\n",
    "data_pkl.derived_data['inclination_angle'] = inclination_angle_df\n",
    "data_pkl.derived_info['inclination_angle'] = {\n",
    "    \"channels\": [\"inclination_angle\"],\n",
    "    \"metadata\": {\n",
    "        'inclination_angle': {'original_name': 'Inclination Angle (deg)',\n",
    "                              'unit': 'deg',\n",
    "                              'sensor': 'extra'}\n",
    "    },\n",
    "    \"derived_from_sensors\": [\"accelerometer\", \"magnetometer\"],\n",
    "    \"transformation_log\": [\"calculated_inclination_angle\"]\n",
    "}\n"
   ]
  },
  {
   "cell_type": "markdown",
   "metadata": {},
   "source": [
    "## Find deployment-specific start time and end time to use for plotting"
   ]
  },
  {
   "cell_type": "code",
   "execution_count": null,
   "metadata": {},
   "outputs": [],
   "source": [
    "# Retrieve necessary time settings from the settings section\n",
    "time_settings = config_manager.get_from_config(\n",
    "    [\"earliest_common_start_time\", \"latest_common_end_time\", \"zoom_window_start_time\", \"zoom_window_end_time\"],\n",
    "    section=\"settings\"\n",
    ")\n",
    "\n",
    "# Assign retrieved values to variables\n",
    "OVERLAP_START_TIME = time_settings.get(\"earliest_common_start_time\")\n",
    "OVERLAP_END_TIME = time_settings.get(\"latest_common_end_time\")\n",
    "ZOOM_START_TIME = time_settings.get(\"zoom_window_start_time\")\n",
    "ZOOM_END_TIME = time_settings.get(\"zoom_window_end_time\")\n",
    "\n",
    "# Confirm the values or raise an error if any are missing\n",
    "if None in {OVERLAP_START_TIME, OVERLAP_END_TIME, ZOOM_START_TIME, ZOOM_END_TIME}:\n",
    "    raise ValueError(\"One or more required time values were not found in the config file.\")\n",
    "\n",
    "# Display the loaded values\n",
    "print(\"OVERLAP_START_TIME:\", OVERLAP_START_TIME)\n",
    "print(\"OVERLAP_END_TIME:\", OVERLAP_END_TIME)\n",
    "print(\"ZOOM_START_TIME:\", ZOOM_START_TIME)\n",
    "print(\"ZOOM_END_TIME:\", ZOOM_END_TIME)"
   ]
  },
  {
   "cell_type": "markdown",
   "metadata": {},
   "source": [
    "## Visualize interim data"
   ]
  },
  {
   "cell_type": "code",
   "execution_count": null,
   "metadata": {},
   "outputs": [],
   "source": [
    "TARGET_SAMPLING_RATE = int(10)\n",
    "\n",
    "notes_to_plot = {\n",
    "    'heartbeat_manual_ok': {'signal': 'ecg', 'symbol': 'triangle-down', 'color': 'blue'},\n",
    "    'heartbeat_auto_detect_accepted': {'signal': 'ecg', 'symbol': 'triangle-up', 'color': 'green'},\n",
    "    'heartbeat_auto_detect_rejected': {'signal': 'ecg', 'symbol': 'triangle-up', 'color': 'red'}\n",
    "}\n",
    "\n",
    "fig = plot_tag_data_interactive(\n",
    "    data_pkl=data_pkl,\n",
    "    sensors=['ecg','accelerometer', 'magnetometer'],\n",
    "    derived_data_signals=['depth', 'calibration_acc', 'calibration_mag', 'inclination_angle'],\n",
    "    channels={},\n",
    "    time_range=(OVERLAP_START_TIME, OVERLAP_END_TIME),\n",
    "    note_annotations=notes_to_plot,\n",
    "    color_mapping_path=color_mapping_path,\n",
    "    target_sampling_rate=TARGET_SAMPLING_RATE,\n",
    "    zoom_start_time=ZOOM_START_TIME,\n",
    "    zoom_end_time=ZOOM_END_TIME,\n",
    "    zoom_range_selector_channel='depth',\n",
    "    plot_event_values=[],\n",
    ")\n",
    "\n",
    "fig.show()"
   ]
  },
  {
   "cell_type": "code",
   "execution_count": null,
   "metadata": {},
   "outputs": [],
   "source": [
    "acc_data.shape"
   ]
  },
  {
   "cell_type": "markdown",
   "metadata": {},
   "source": [
    "### Apply calibration adjustments"
   ]
  },
  {
   "cell_type": "code",
   "execution_count": null,
   "metadata": {},
   "outputs": [],
   "source": [
    "# Apply the fix_offset_3d function to adjust accelerometer data\n",
    "result = estimate_offset_triaxial(acc_data)\n",
    "\n",
    "# Extract the adjusted data and calibration info\n",
    "adjusted_data_acc = result['X']\n",
    "calibration_info_acc = result['G']\n",
    "\n",
    "print(\"Adjusted Data:\\n\", adjusted_data_acc)\n",
    "print(\"Calibration Info:\\n\", calibration_info_acc)"
   ]
  },
  {
   "cell_type": "code",
   "execution_count": null,
   "metadata": {},
   "outputs": [],
   "source": [
    "adjusted_data_acc[:,0]"
   ]
  },
  {
   "cell_type": "code",
   "execution_count": null,
   "metadata": {},
   "outputs": [],
   "source": [
    "# Calibration for Accelerometer (field_intensity_acc and ax, ay, az)\n",
    "calibration_acc = pd.DataFrame({\n",
    "    'datetime': data_pkl.sensor_data['accelerometer']['datetime'],\n",
    "    'ax': adjusted_data_acc[:,0],\n",
    "    'ay': adjusted_data_acc[:,1],\n",
    "    'az': adjusted_data_acc[:,2]\n",
    "})\n",
    "\n",
    "data_pkl.derived_data['calibrated_acc'] = calibration_acc\n",
    "data_pkl.derived_info['calibrated_acc'] = {\n",
    "    \"channels\": [\"ax\", \"ay\", \"az\"],\n",
    "    \"metadata\": {\n",
    "        'ax': {'original_name': 'Acceleration X (m/s^2)',\n",
    "               'unit': 'm/s^2',\n",
    "               'sensor': 'accelerometer'},\n",
    "        'ay': {'original_name': 'Acceleration Y (m/s^2)',\n",
    "               'unit': 'm/s^2',\n",
    "               'sensor': 'accelerometer'},\n",
    "        'az': {'original_name': 'Acceleration Z (m/s^2)',\n",
    "               'unit': 'm/s^2',\n",
    "               'sensor': 'accelerometer'}\n",
    "    },\n",
    "    \"derived_from_sensors\": [\"accelerometer\"],\n",
    "    \"transformation_log\": [\"estimated_offset_triaxial\"]\n",
    "}"
   ]
  },
  {
   "cell_type": "code",
   "execution_count": null,
   "metadata": {},
   "outputs": [],
   "source": [
    "# Apply the fix_offset_3d function to adjust magnetometer data\n",
    "result = estimate_offset_triaxial(mag_data)\n",
    "\n",
    "# Extract the adjusted data and calibration info\n",
    "adjusted_data_mag = result['X']\n",
    "calibration_info_mag = result['G']\n",
    "\n",
    "print(\"Adjusted Data:\\n\", adjusted_data_mag)\n",
    "print(\"Calibration Info:\\n\", calibration_info_mag)"
   ]
  },
  {
   "cell_type": "markdown",
   "metadata": {},
   "source": [
    "### Re-run check AM. \n",
    "Re-run the field intensity and inclination angle calculations to see if now the values are closer to expected."
   ]
  },
  {
   "cell_type": "code",
   "execution_count": null,
   "metadata": {},
   "outputs": [],
   "source": [
    "# Calibration for Magnetometer (field_intensity_mag and mx, my, mz)\n",
    "calibration_mag = pd.DataFrame({\n",
    "    'datetime': data_pkl.sensor_data['accelerometer']['datetime'],\n",
    "    'mx': adjusted_data_mag[:,0],\n",
    "    'my': adjusted_data_mag[:,1],\n",
    "    'mz': adjusted_data_mag[:,2]\n",
    "})\n",
    "\n",
    "data_pkl.derived_data['calibrated_mag'] = calibration_mag\n",
    "data_pkl.derived_info['calibrated_mag'] = {\n",
    "    \"channels\": [\"mx\", \"my\", \"mz\"],\n",
    "    \"metadata\": {\n",
    "        'mx': {'original_name': 'Magnetometer (uT)',\n",
    "               'unit': 'uT',\n",
    "               'sensor': 'magnetometer'},\n",
    "        'my': {'original_name': 'Magnetometer (uT)',\n",
    "               'unit': 'uT',\n",
    "               'sensor': 'magnetometer'},\n",
    "        'mz': {'original_name': 'Magnetometer (uT)',\n",
    "               'unit': 'uT',\n",
    "               'sensor': 'magnetometer'}\n",
    "    },\n",
    "    \"derived_from_sensors\": [\"magnetometer\"],\n",
    "    \"transformation_log\": [\"estimated_offset_triaxial\"]\n",
    "}"
   ]
  },
  {
   "cell_type": "code",
   "execution_count": null,
   "metadata": {},
   "outputs": [],
   "source": [
    "# Assuming acc_data and mag_data are extracted from the calibrated accelerometer and magnetometer data\n",
    "acc_data = data_pkl.derived_data['calibrated_acc'][['ax', 'ay', 'az']].values\n",
    "mag_data = data_pkl.derived_data['calibrated_mag'][['mx', 'my', 'mz']].values\n",
    "sampling_rate = 100  # Adjust this to the correct sampling rate of your data\n",
    "\n",
    "# Call the check_AM function\n",
    "AMcheck = compute_field_intensity_and_inclination(acc_data, mag_data, sampling_rate)\n",
    "\n",
    "# Access the field intensity and inclination angle\n",
    "field_intensity_acc = AMcheck['field_intensity'][:, 0]  # Field intensity of accelerometer data\n",
    "field_intensity_mag = AMcheck['field_intensity'][:, 1]  # Field intensity of magnetometer data\n",
    "inclination_angle = AMcheck['inclination_angle']\n",
    "\n",
    "# Append the new field intensity and inclination angle to calibration_acc and calibration_mag\n",
    "\n",
    "# Calibration for Accelerometer (append field_intensity_acc)\n",
    "data_pkl.derived_data['calibration_acc']['calibrated_field_intensity_acc'] = field_intensity_acc\n",
    "\n",
    "# Calibration for Magnetometer (append field_intensity_mag)\n",
    "data_pkl.derived_data['calibration_mag']['calibrated_field_intensity_mag'] = field_intensity_mag\n",
    "\n",
    "# Inclination Angle (append inclination_angle)\n",
    "data_pkl.derived_data['inclination_angle']['calibrated_inclination_angle'] = inclination_angle\n",
    "\n",
    "# Update the derived_info to reflect the new columns for accelerometer and magnetometer\n",
    "data_pkl.derived_info['calibration_acc'][\"channels\"].append(\"calibrated_field_intensity_acc\")\n",
    "data_pkl.derived_info['calibration_acc'][\"metadata\"]['calibrated_field_intensity_acc'] = {\n",
    "    'original_name': 'Calibrated Field Intensity Acc (m/s^2)',\n",
    "    'unit': 'm/s^2',\n",
    "    'sensor': 'accelerometer'\n",
    "}\n",
    "\n",
    "data_pkl.derived_info['calibration_mag'][\"channels\"].append(\"calibrated_field_intensity_mag\")\n",
    "data_pkl.derived_info['calibration_mag'][\"metadata\"]['calibrated_field_intensity_mag'] = {\n",
    "    'original_name': 'Calibrated Field Intensity Mag (uT)',\n",
    "    'unit': 'uT',\n",
    "    'sensor': 'magnetometer'\n",
    "}\n",
    "\n",
    "# Update the derived_info for inclination_angle\n",
    "data_pkl.derived_info['inclination_angle'][\"channels\"].append(\"calibrated_inclination_angle\")\n",
    "data_pkl.derived_info['inclination_angle'][\"metadata\"]['calibrated_inclination_angle'] = {\n",
    "    'original_name': 'Calibrated Inclination Angle (deg)',\n",
    "    'unit': 'deg',\n",
    "    'sensor': 'accelerometer, magnetometer'\n",
    "}\n"
   ]
  },
  {
   "cell_type": "code",
   "execution_count": null,
   "metadata": {},
   "outputs": [],
   "source": [
    "fig = plot_tag_data_interactive(\n",
    "    data_pkl=data_pkl,\n",
    "    sensors=['accelerometer', 'magnetometer'],\n",
    "    derived_data_signals=['depth', 'calibrated_acc', 'calibrated_mag', 'inclination_angle', 'calibration_acc', 'calibration_mag'],\n",
    "    channels={},\n",
    "    time_range=(OVERLAP_START_TIME, OVERLAP_END_TIME),\n",
    "    note_annotations=notes_to_plot,\n",
    "    color_mapping_path=color_mapping_path,\n",
    "    target_sampling_rate=TARGET_SAMPLING_RATE,\n",
    "    zoom_start_time=ZOOM_START_TIME,\n",
    "    zoom_end_time=ZOOM_END_TIME,\n",
    "    zoom_range_selector_channel='depth',\n",
    "    plot_event_values=[],\n",
    ")\n",
    "fig.show()"
   ]
  },
  {
   "cell_type": "markdown",
   "metadata": {},
   "source": [
    "### Fix inclination angle\n",
    "Here is where you would fix the axes of triaxial sensor data (if the sensor axis differs from the tag axis) - not done yet."
   ]
  },
  {
   "cell_type": "code",
   "execution_count": null,
   "metadata": {},
   "outputs": [],
   "source": [
    "list(data_pkl.derived_data)"
   ]
  },
  {
   "cell_type": "markdown",
   "metadata": {},
   "source": [
    "## Delete intermediate signals"
   ]
  },
  {
   "cell_type": "code",
   "execution_count": null,
   "metadata": {},
   "outputs": [],
   "source": [
    "keys_to_remove = [\"calibration_acc\", \"calibration_mag\", \"inclination_angle\"]\n",
    "\n",
    "# Clear the specified keys\n",
    "clear_intermediate_signals(data_pkl, remove_keys=keys_to_remove)"
   ]
  },
  {
   "cell_type": "markdown",
   "metadata": {},
   "source": [
    "### Save data"
   ]
  },
  {
   "cell_type": "code",
   "execution_count": null,
   "metadata": {},
   "outputs": [],
   "source": [
    "current_processing_step = \"Processing Step 02. Calibration of accelerometer and magnetometer complete.\"\n",
    "print(current_processing_step)"
   ]
  },
  {
   "cell_type": "code",
   "execution_count": null,
   "metadata": {},
   "outputs": [],
   "source": [
    "# Add or update the current_processing_step for the specified deployment\n",
    "config_manager.add_to_config(\"current_processing_step\", current_processing_step)\n",
    "\n",
    "# Optional: save new pickle file\n",
    "with open(pkl_path, 'wb') as file:\n",
    "        pickle.dump(data_pkl, file)\n",
    "print(\"Pickle file updated.\")"
   ]
  }
 ],
 "metadata": {
  "kernelspec": {
   "display_name": "venv",
   "language": "python",
   "name": "python3"
  },
  "language_info": {
   "codemirror_mode": {
    "name": "ipython",
    "version": 3
   },
   "file_extension": ".py",
   "mimetype": "text/x-python",
   "name": "python",
   "nbconvert_exporter": "python",
   "pygments_lexer": "ipython3",
   "version": "3.12.3"
  }
 },
 "nbformat": 4,
 "nbformat_minor": 2
}
