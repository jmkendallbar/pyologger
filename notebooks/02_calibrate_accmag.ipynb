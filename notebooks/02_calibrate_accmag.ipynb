{
 "cells": [
  {
   "cell_type": "markdown",
   "metadata": {},
   "source": [
    "# Correcting field intensity: calibrating accelerometer and magnetometer"
   ]
  },
  {
   "cell_type": "markdown",
   "metadata": {},
   "source": [
    "## Load and inspect data\n",
    "Load pickle file and inspect contents"
   ]
  },
  {
   "cell_type": "code",
   "execution_count": null,
   "metadata": {},
   "outputs": [],
   "source": [
    "import os\n",
    "import pickle\n",
    "\n",
    "# Import necessary pyologger utilities\n",
    "from pyologger.load_data.datareader import DataReader\n",
    "from pyologger.load_data.metadata import Metadata\n",
    "from pyologger.plot_data.plotter import *\n",
    "from pyologger.process_data.sampling import upsample\n",
    "from pyologger.calibrate_data.zoc import *\n",
    "from pyologger.plot_data.plotter import plot_depth_correction\n",
    "from pyologger.calibrate_data.calibrate_acc_mag import *\n",
    "\n",
    "# Change the current working directory to the root directory\n",
    "# os.chdir(\"/Users/fbar/Documents/GitHub/pyologger\")\n",
    "os.chdir(\"/Users/jessiekb/Documents/GitHub/pyologger\")\n",
    "\n",
    "root_dir = os.getcwd()\n",
    "data_dir = os.path.join(root_dir, \"data\")\n",
    "color_mapping_path = os.path.join(root_dir, \"color_mappings.json\")\n",
    "\n",
    "# Verify the current working directory\n",
    "print(f\"Current working directory: {root_dir}\")"
   ]
  },
  {
   "cell_type": "code",
   "execution_count": null,
   "metadata": {},
   "outputs": [],
   "source": [
    "# Initialize the info class\n",
    "metadata = Metadata()\n",
    "metadata.fetch_databases(verbose=False)\n",
    "\n",
    "# Save databases\n",
    "dep_db = metadata.get_metadata(\"dep_DB\")\n",
    "logger_db = metadata.get_metadata(\"logger_DB\")\n",
    "rec_db = metadata.get_metadata(\"rec_DB\")\n",
    "animal_db = metadata.get_metadata(\"animal_DB\")\n",
    "\n",
    "# Assuming you have the metadata and dep_db loaded:\n",
    "datareader = DataReader()\n",
    "deployment_folder = datareader.check_deployment_folder(dep_db, data_dir)\n",
    "\n",
    "if deployment_folder:\n",
    "    datareader.read_files(metadata, save_csv=True, save_parq=True)"
   ]
  },
  {
   "cell_type": "code",
   "execution_count": null,
   "metadata": {},
   "outputs": [],
   "source": [
    "# Load the data_reader object from the pickle file\n",
    "pkl_path = os.path.join(deployment_folder, 'outputs', 'data.pkl')\n",
    "\n",
    "with open(pkl_path, 'rb') as file:\n",
    "    data_pkl = pickle.load(file)\n",
    "\n",
    "for logger_id, info in data_pkl.info.items():\n",
    "    sampling_frequency = info.get('datetime_metadata', {}).get('fs', None)\n",
    "    if sampling_frequency is not None:\n",
    "        # Format the sampling frequency to 5 significant digits\n",
    "        print(f\"Sampling frequency for {logger_id}: {sampling_frequency} Hz\")\n",
    "    else:\n",
    "        print(f\"No sampling frequency available for {logger_id}\")"
   ]
  },
  {
   "cell_type": "markdown",
   "metadata": {},
   "source": [
    "## Calibrate ACC & MAG"
   ]
  },
  {
   "cell_type": "code",
   "execution_count": null,
   "metadata": {},
   "outputs": [],
   "source": [
    "# Assuming `data_pkl` is already loaded and contains your data\n",
    "accX = data_pkl.data['CC-96']['accX'].values\n",
    "accY = data_pkl.data['CC-96']['accY'].values\n",
    "accZ = data_pkl.data['CC-96']['accZ'].values\n",
    "magX = data_pkl.data['CC-96']['magX'].values\n",
    "magY = data_pkl.data['CC-96']['magY'].values\n",
    "magZ = data_pkl.data['CC-96']['magZ'].values\n",
    "\n",
    "# Combine the accelerometer and magnetometer data into nx3 matrices\n",
    "acc_data = np.vstack((accX, accY, accZ)).T\n",
    "mag_data = np.vstack((magX, magY, magZ)).T\n",
    "\n",
    "# Get the sampling rate from the data structure\n",
    "sampling_rate = int(data_pkl.info['CC-96']['datetime_metadata']['fs'])\n",
    "\n",
    "# Call the check_AM function\n",
    "AMcheck = compute_field_intensity_and_inclination(acc_data, mag_data, sampling_rate)\n",
    "\n",
    "# Access the field intensity and inclination angle\n",
    "field_intensity_acc = AMcheck['field_intensity'][:, 0]  # Field intensity of accelerometer data\n",
    "field_intensity_mag = AMcheck['field_intensity'][:, 1]  # Field intensity of magnetometer data\n",
    "inclination_angle = AMcheck['inclination_angle']\n",
    "\n",
    "# Print results\n",
    "print(\"Field Intensity:\\n\", field_intensity_acc)\n",
    "print(\"Field Intensity:\\n\", field_intensity_mag)\n",
    "print(\"Inclination Angle (degrees):\\n\", inclination_angle)"
   ]
  },
  {
   "cell_type": "code",
   "execution_count": null,
   "metadata": {},
   "outputs": [],
   "source": [
    "# Save new fields to data_pkl.data['CC-96']\n",
    "data_pkl.data['CC-96']['field_intensity_acc'] = field_intensity_acc\n",
    "data_pkl.data['CC-96']['field_intensity_mag'] = field_intensity_mag\n",
    "data_pkl.data['CC-96']['inclination_angle'] = inclination_angle\n",
    "\n",
    "# Prepare channels to plot\n",
    "imu_channels_to_plot = ['accX', 'accY', 'accZ', 'field_intensity_acc', 'field_intensity_mag', 'inclination_angle']\n",
    "ephys_channels_to_plot = []\n",
    "imu_logger_to_use = 'CC-96'\n",
    "ephys_logger_to_use = 'UF-01'\n",
    "\n",
    "# Get the overlapping time range\n",
    "imu_df = data_pkl.data[imu_logger_to_use]\n",
    "ephys_df = data_pkl.data[ephys_logger_to_use]\n",
    "start_time = max(imu_df['datetime'].min(), ephys_df['datetime'].min()).to_pydatetime()\n",
    "end_time = min(imu_df['datetime'].max(), ephys_df['datetime'].max()).to_pydatetime()\n",
    "\n",
    "plot_tag_data_interactive(data_pkl, imu_channels_to_plot, ephys_channels=ephys_channels_to_plot, \n",
    "                          imu_logger=imu_logger_to_use, ephys_logger=ephys_logger_to_use, \n",
    "                          time_range=(start_time, end_time), color_mapping_path=color_mapping_path)"
   ]
  },
  {
   "cell_type": "markdown",
   "metadata": {},
   "source": [
    "### Apply adjustments"
   ]
  },
  {
   "cell_type": "code",
   "execution_count": null,
   "metadata": {},
   "outputs": [],
   "source": [
    "# Apply the fix_offset_3d function to adjust accelerometer data\n",
    "result = estimate_offset_triaxial(acc_data)\n",
    "\n",
    "# Extract the adjusted data and calibration info\n",
    "adjusted_data_acc = result['X']\n",
    "calibration_info_acc = result['G']\n",
    "\n",
    "print(\"Adjusted Data:\\n\", adjusted_data_acc)\n",
    "print(\"Calibration Info:\\n\", calibration_info_acc)\n",
    "\n",
    "data_pkl.data['CC-96']['accX_adjusted'] = adjusted_data_acc[:, 0]\n",
    "data_pkl.data['CC-96']['accY_adjusted'] = adjusted_data_acc[:, 1]\n",
    "data_pkl.data['CC-96']['accZ_adjusted'] = adjusted_data_acc[:, 2]\n",
    "data_pkl.info['CC-96']['calibration_info'] = {}\n",
    "data_pkl.info['CC-96']['calibration_info'] = calibration_info_acc\n",
    "\n",
    "# Apply the fix_offset_3d function to adjust magnetometer data\n",
    "result = estimate_offset_triaxial(mag_data)\n",
    "\n",
    "# Extract the adjusted data and calibration info\n",
    "adjusted_data_mag = result['X']\n",
    "calibration_info_mag = result['G']\n",
    "\n",
    "print(\"Adjusted Data:\\n\", adjusted_data_mag)\n",
    "print(\"Calibration Info:\\n\", calibration_info_mag)\n",
    "\n",
    "data_pkl.data['CC-96']['magX_adjusted'] = adjusted_data_mag[:, 0]\n",
    "data_pkl.data['CC-96']['magY_adjusted'] = adjusted_data_mag[:, 1]\n",
    "data_pkl.data['CC-96']['magZ_adjusted'] = adjusted_data_mag[:, 2]\n",
    "data_pkl.info['CC-96']['calibration_info'] = {}\n",
    "data_pkl.info['CC-96']['calibration_info'] = calibration_info_mag"
   ]
  },
  {
   "cell_type": "markdown",
   "metadata": {},
   "source": [
    "### Re-run check AM. \n",
    "Re-run the field intensity and inclination angle calculations to see if now the values are closer to expected."
   ]
  },
  {
   "cell_type": "code",
   "execution_count": null,
   "metadata": {},
   "outputs": [],
   "source": [
    "# Assuming `data_pkl` is already loaded and contains your data\n",
    "accX = data_pkl.data['CC-96']['accX_adjusted'].values\n",
    "accY = data_pkl.data['CC-96']['accY_adjusted'].values\n",
    "accZ = data_pkl.data['CC-96']['accZ_adjusted'].values\n",
    "magX = data_pkl.data['CC-96']['magX_adjusted'].values\n",
    "magY = data_pkl.data['CC-96']['magY_adjusted'].values\n",
    "magZ = data_pkl.data['CC-96']['magZ_adjusted'].values\n",
    "\n",
    "# Combine the accelerometer and magnetometer data into nx3 matrices\n",
    "acc_data = np.vstack((accX, accY, accZ)).T\n",
    "mag_data = np.vstack((magX, magY, magZ)).T\n",
    "\n",
    "# Get the sampling rate from the data structure\n",
    "sampling_rate = int(data_pkl.info['CC-96']['datetime_metadata']['fs'])\n",
    "\n",
    "# Call the check_AM function\n",
    "AMcheck2 = compute_field_intensity_and_inclination(acc_data, mag_data, sampling_rate)\n",
    "\n",
    "# Access the field intensity and inclination angle\n",
    "field_intensity_acc2 = AMcheck2['field_intensity'][:, 0]  # Field intensity of accelerometer data\n",
    "field_intensity_mag2 = AMcheck2['field_intensity'][:, 1]  # Field intensity of magnetometer data\n",
    "inclination_angle2 = AMcheck2['inclination_angle']\n",
    "\n",
    "# Print results\n",
    "print(\"Field Intensity:\\n\", field_intensity_acc2)\n",
    "print(\"Field Intensity:\\n\", field_intensity_mag2)\n",
    "print(\"Inclination Angle (degrees):\\n\", inclination_angle2)\n",
    "\n",
    "# Save new fields to data_pkl.data['CC-96']\n",
    "data_pkl.data['CC-96']['field_intensity_acc2'] = field_intensity_acc2\n",
    "data_pkl.data['CC-96']['field_intensity_mag2'] = field_intensity_mag2\n",
    "data_pkl.data['CC-96']['inclination_angle2'] = inclination_angle2\n",
    "\n",
    "# Example usage in Streamlit\n",
    "imu_channels_to_plot = ['accX', 'accY', 'accZ', 'field_intensity_acc2', 'field_intensity_mag2', 'inclination_angle2']\n",
    "ephys_channels_to_plot = []\n",
    "imu_logger_to_use = 'CC-96'\n",
    "ephys_logger_to_use = 'UF-01'\n",
    "\n",
    "# Get the overlapping time range\n",
    "imu_df = data_pkl.data[imu_logger_to_use]\n",
    "ephys_df = data_pkl.data[ephys_logger_to_use]\n",
    "start_time = max(imu_df['datetime'].min(), ephys_df['datetime'].min()).to_pydatetime()\n",
    "end_time = min(imu_df['datetime'].max(), ephys_df['datetime'].max()).to_pydatetime()\n",
    "\n",
    "plot_tag_data_interactive(data_pkl, imu_channels_to_plot, ephys_channels=ephys_channels_to_plot, \n",
    "                          imu_logger=imu_logger_to_use, ephys_logger=ephys_logger_to_use, \n",
    "                          time_range=(start_time, end_time), color_mapping_path=color_mapping_path)\n",
    "\n"
   ]
  },
  {
   "cell_type": "markdown",
   "metadata": {},
   "source": [
    "### Fix inclination angle\n",
    "Here is where you would fix the axes of triaxial sensor data (if the sensor axis differs from the tag axis)"
   ]
  },
  {
   "cell_type": "markdown",
   "metadata": {},
   "source": [
    "### Save data"
   ]
  },
  {
   "cell_type": "code",
   "execution_count": null,
   "metadata": {},
   "outputs": [],
   "source": [
    "# Save the new added data to the data structure\n",
    "with open(pkl_path, 'wb') as file:\n",
    "        pickle.dump(data_pkl, file)"
   ]
  }
 ],
 "metadata": {
  "kernelspec": {
   "display_name": "finescale_env",
   "language": "python",
   "name": "python3"
  },
  "language_info": {
   "codemirror_mode": {
    "name": "ipython",
    "version": 3
   },
   "file_extension": ".py",
   "mimetype": "text/x-python",
   "name": "python",
   "nbconvert_exporter": "python",
   "pygments_lexer": "ipython3",
   "version": "3.8.19"
  }
 },
 "nbformat": 4,
 "nbformat_minor": 2
}
