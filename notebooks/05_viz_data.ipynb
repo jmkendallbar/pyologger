{
 "cells": [
  {
   "cell_type": "markdown",
   "metadata": {},
   "source": [
    "# Visualizing data with 3D model"
   ]
  },
  {
   "cell_type": "code",
   "execution_count": null,
   "metadata": {},
   "outputs": [],
   "source": [
    "import os\n",
    "import trimesh\n",
    "import numpy as np\n",
    "from pythreejs import *\n",
    "from IPython.display import display\n",
    "\n",
    "# Define the path to the OBJ file\n",
    "model_path = os.path.join(data_dir, '/assets/', '6_killerWhale_v017_LP.obj')\n",
    "\n",
    "# Load the OBJ file using Trimesh\n",
    "mesh = trimesh.load(model_path)\n",
    "\n",
    "# Extract vertices and faces from the mesh\n",
    "vertices = mesh.vertices\n",
    "faces = mesh.faces.astype(np.uint32)  # Ensure the indices are unsigned integers\n",
    "\n",
    "# Create BufferGeometry for PyThreeJS\n",
    "geometry = BufferGeometry(\n",
    "    attributes={\n",
    "        'position': BufferAttribute(vertices, normalized=False),\n",
    "        'index': BufferAttribute(faces.flatten(), normalized=False)\n",
    "    }\n",
    ")\n",
    "\n",
    "# Create a material\n",
    "material = MeshLambertMaterial(color='red') # , roughness=0.9, metalness=0.2\n",
    "key_light = DirectionalLight(color='white', position=[3, 5, 1], intensity=0.75)\n",
    "\n",
    "# Create the Mesh\n",
    "mesh = Mesh(geometry=geometry, material=material, position=[0, 0, 200], rotation= [0, math.pi, 0, 'XYZ'])\n",
    "\n",
    "# Move (translate) the mesh\n",
    "mesh.position = [0, 0, 200]  # Move the mesh up by 1 unit on the Y-axis\n",
    "\n",
    "# Rotate the mesh\n",
    "#mesh.rotation = [0.5, 0.5, 0, 0]  # Rotate the mesh around the X and Y axes (in radians)\n",
    "\n",
    "# Scale the mesh\n",
    "mesh.scale = [1.5, 1.5, 1.5]  # Scale the mesh uniformly by 1.5 on all axes\n",
    "\n",
    "# Create a scene, camera, and renderer\n",
    "scene = Scene(children=[mesh, AmbientLight(color='#ffffff', intensity=0.5)])\n",
    "camera = PerspectiveCamera(position=[0, 0, 5], up=[0, 1, 0], children=[key_light])\n",
    "renderer = Renderer(camera=camera, scene=scene, controls=[OrbitControls(controlling=camera)], width=400, height=400)\n",
    "\n",
    "# Display the model in the notebook\n",
    "display(renderer)\n",
    "\n",
    "ball = Mesh(geometry=SphereGeometry(), \n",
    "            material=MeshLambertMaterial(color='red'))\n",
    "\n",
    "\n",
    "c = PerspectiveCamera(position=[0, 5, 5], up=[0, 1, 0], children=[key_light])\n",
    "\n",
    "scene = Scene(children=[ball, c, AmbientLight(color='#777777')], background=None)\n",
    "\n",
    "renderer = Renderer(camera=c, \n",
    "                    scene=scene,\n",
    "                    alpha=True,\n",
    "                    clearOpacity=0,\n",
    "                    controls=[OrbitControls(controlling=c)])\n",
    "display(renderer)"
   ]
  }
 ],
 "metadata": {
  "kernelspec": {
   "display_name": "finescale_env",
   "language": "python",
   "name": "python3"
  },
  "language_info": {
   "codemirror_mode": {
    "name": "ipython",
    "version": 3
   },
   "file_extension": ".py",
   "mimetype": "text/x-python",
   "name": "python",
   "nbconvert_exporter": "python",
   "pygments_lexer": "ipython3",
   "version": "3.8.19"
  }
 },
 "nbformat": 4,
 "nbformat_minor": 2
}
