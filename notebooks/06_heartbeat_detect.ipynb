{
 "cells": [
  {
   "cell_type": "code",
   "execution_count": null,
   "metadata": {},
   "outputs": [],
   "source": [
    "import os\n",
    "import pickle\n",
    "from pyologger.load_data.datareader import DataReader\n",
    "from pyologger.load_data.metadata import Metadata\n",
    "from pyologger.plot_data.plotter import plot_tag_data_interactive, plot_tag_data, load_color_mapping, save_color_mapping, plot_depth_correction\n",
    "from pyologger.calibrate_data.calibrate_acc_mag import *\n",
    "from pyologger.process_data.feature_generation_utils import get_heart_rate\n",
    "\n",
    "# Change the current working directory to the root directory\n",
    "# os.chdir(\"/Users/fbar/Documents/GitHub/pyologger\")\n",
    "os.chdir(\"/Users/jessiekb/Documents/GitHub/pyologger\")\n",
    "\n",
    "root_dir = os.getcwd()\n",
    "data_dir = os.path.join(root_dir, \"data\")\n",
    "\n",
    "# Verify the current working directory\n",
    "print(f\"Current working directory: {root_dir}\")"
   ]
  },
  {
   "cell_type": "code",
   "execution_count": null,
   "metadata": {},
   "outputs": [],
   "source": [
    "?get_heart_rate"
   ]
  },
  {
   "cell_type": "code",
   "execution_count": null,
   "metadata": {},
   "outputs": [],
   "source": [
    "from plotnine import ggplot, aes, geom_histogram, labs\n",
    "\n",
    "ecg_sampling_rate = int(data_pkl.info['UF-01']['datetime_metadata']['fs'])\n",
    "hr = get_heart_rate(data_pkl.data['UF-01']['ecg'], \n",
    "                    fs= ecg_sampling_rate, \n",
    "                    search_radius=60, \n",
    "                    filter_threshold=120,\n",
    "                    algo='heartpy',\n",
    "                    correct_peaks=True)\n",
    "data_pkl.data['UF-01']['hr'] = hr\n",
    "\n",
    "\n",
    "print(hr)\n",
    "\n",
    "# Assuming 'hr' is a pandas Series or a column in a DataFrame\n",
    "# For demonstration, let's assume it's part of a DataFrame named df\n",
    "df = pd.DataFrame({'hr': hr})\n",
    "\n",
    "# Create the histogram\n",
    "histogram_plot = (\n",
    "    ggplot(df, aes(x='hr')) +\n",
    "    geom_histogram(binwidth=5, fill='lightblue', color='white', alpha=0.7) +\n",
    "    labs(title='Histogram of Heart Rate (HR)', x='Heart Rate (HR)', y='Count')\n",
    ")\n",
    "\n",
    "# To display the plot\n",
    "print(histogram_plot)\n",
    "\n",
    "imu_channels_to_plot = ['depth', 'accX', 'accY', 'accZ', 'odba']\n",
    "ephys_channels_to_plot = ['ecg', 'hr']\n",
    "imu_logger_to_use = 'CC-96'\n",
    "ephys_logger_to_use = 'UF-01'\n",
    "\n",
    "# Get the overlapping time range\n",
    "imu_df = data_pkl.data[imu_logger_to_use]\n",
    "ephys_df = data_pkl.data[ephys_logger_to_use]\n",
    "start_time = max(imu_df['datetime'].min(), ephys_df['datetime'].min()).to_pydatetime()\n",
    "end_time = min(imu_df['datetime'].max(), ephys_df['datetime'].max()).to_pydatetime()\n",
    "\n",
    "# Define notes to plot\n",
    "notes_to_plot = {\n",
    "    'exhalation_breath': 'depth',\n",
    "    'heartbeat_manual_ok': 'ecg',\n",
    "}\n",
    "\n",
    "plot_tag_data_interactive(data_pkl, imu_channels_to_plot, imu_sampling_rate=1, ephys_channels=ephys_channels_to_plot, \n",
    "                          imu_logger=imu_logger_to_use, ephys_logger=ephys_logger_to_use, note_annotations= notes_to_plot,\n",
    "                          time_range=(start_time, end_time), color_mapping_path=color_mapping_path)"
   ]
  }
 ],
 "metadata": {
  "kernelspec": {
   "display_name": "finescale_env",
   "language": "python",
   "name": "python3"
  },
  "language_info": {
   "codemirror_mode": {
    "name": "ipython",
    "version": 3
   },
   "file_extension": ".py",
   "mimetype": "text/x-python",
   "name": "python",
   "nbconvert_exporter": "python",
   "pygments_lexer": "ipython3",
   "version": "3.8.19"
  }
 },
 "nbformat": 4,
 "nbformat_minor": 2
}
