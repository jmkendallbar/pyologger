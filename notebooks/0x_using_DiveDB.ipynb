{
 "cells": [
  {
   "cell_type": "code",
   "execution_count": 6,
   "metadata": {},
   "outputs": [
    {
     "data": {
      "text/plain": [
       "┌─────────────┬─────────────────────────┬──────────────────────┐\n",
       "│ signal_name │        datetime         │         data         │\n",
       "│   varchar   │        timestamp        │        double        │\n",
       "├─────────────┼─────────────────────────┼──────────────────────┤\n",
       "│ EEG_ICA5    │ 2019-10-27 12:58:41     │   1.3214399938967718 │\n",
       "│ EEG_ICA5    │ 2019-10-27 12:58:41.002 │    2.956883955138856 │\n",
       "│ EEG_ICA5    │ 2019-10-27 12:58:41.004 │  -1.4821782253753728 │\n",
       "│ EEG_ICA5    │ 2019-10-27 12:58:41.006 │   -1.949447928587397 │\n",
       "│ EEG_ICA5    │ 2019-10-27 12:58:41.008 │   -4.052161593041506 │\n",
       "│ EEG_ICA5    │ 2019-10-27 12:58:41.01  │     3.42415365835088 │\n",
       "│ EEG_ICA5    │ 2019-10-27 12:58:41.012 │ -0.31400396734531255 │\n",
       "│ EEG_ICA5    │ 2019-10-27 12:58:41.014 │   -2.183082780193409 │\n",
       "│ EEG_ICA5    │ 2019-10-27 12:58:41.016 │   1.5550748455027839 │\n",
       "│ EEG_ICA5    │ 2019-10-27 12:58:41.018 │   0.6205354390787357 │\n",
       "│    ·        │           ·             │            ·         │\n",
       "│    ·        │           ·             │            ·         │\n",
       "│    ·        │           ·             │            ·         │\n",
       "│ EEG_ICA5    │ 2019-10-27 12:59:00.98  │    5.059597619592965 │\n",
       "│ EEG_ICA5    │ 2019-10-27 12:59:00.982 │   1.0878051422907598 │\n",
       "│ EEG_ICA5    │ 2019-10-27 12:59:00.984 │    3.190518806744868 │\n",
       "│ EEG_ICA5    │ 2019-10-27 12:59:00.986 │    7.162311284047073 │\n",
       "│ EEG_ICA5    │ 2019-10-27 12:59:00.988 │    2.956883955138856 │\n",
       "│ EEG_ICA5    │ 2019-10-27 12:59:00.99  │   3.6577885099568923 │\n",
       "│ EEG_ICA5    │ 2019-10-27 12:59:00.992 │   6.4614067292290365 │\n",
       "│ EEG_ICA5    │ 2019-10-27 12:59:00.994 │    8.797755245289157 │\n",
       "│ EEG_ICA5    │ 2019-10-27 12:59:00.996 │    7.863215838865109 │\n",
       "│ EEG_ICA5    │ 2019-10-27 12:59:00.998 │    5.760502174411001 │\n",
       "├─────────────┴─────────────────────────┴──────────────────────┤\n",
       "│ ? rows (>9999 rows, 20 shown)                      3 columns │\n",
       "└──────────────────────────────────────────────────────────────┘"
      ]
     },
     "metadata": {},
     "output_type": "display_data"
    }
   ],
   "source": [
    "import os\n",
    "\n",
    "os.environ[\"POSTGRES_DB\"]=\"divedb\"\n",
    "os.environ[\"POSTGRES_USER\"]=\"divedbuser\"\n",
    "os.environ[\"POSTGRES_PASSWORD\"]=\"divedbpassword\"\n",
    "os.environ[\"POSTGRES_HOST\"]=\"localhost\" # Note: this localhost, not what's set in docker-compose.yml\n",
    "os.environ[\"POSTGRES_PORT\"]=\"5432\"\n",
    "\n",
    "from services.duck_pond import DuckPond\n",
    "\n",
    "duckpond = DuckPond(delta_path=\"/Users/williamgislason/Documents/Whitecap/Seals/DiveDB/data/delta-lake\")\n",
    "\n",
    "conn = duckpond.get_delta_data(    \n",
    "    logger_ids=\"NL-02\",\n",
    "    animal_ids=\"mian-003\",\n",
    "    signal_names=[\"ECG_ICA2\", \"EEG_ICA5\"],\n",
    ")\n",
    "\n",
    "display(conn)"
   ]
  },
  {
   "cell_type": "code",
   "execution_count": 7,
   "metadata": {},
   "outputs": [
    {
     "ename": "ModuleNotFoundError",
     "evalue": "No module named 'server.django_app'",
     "output_type": "error",
     "traceback": [
      "\u001b[0;31m---------------------------------------------------------------------------\u001b[0m",
      "\u001b[0;31mModuleNotFoundError\u001b[0m                       Traceback (most recent call last)",
      "Cell \u001b[0;32mIn[7], line 4\u001b[0m\n\u001b[1;32m      1\u001b[0m \u001b[38;5;28;01mimport\u001b[39;00m \u001b[38;5;21;01mos\u001b[39;00m\n\u001b[0;32m----> 4\u001b[0m \u001b[38;5;28;01mfrom\u001b[39;00m \u001b[38;5;21;01mservices\u001b[39;00m\u001b[38;5;21;01m.\u001b[39;00m\u001b[38;5;21;01mdata_uploader\u001b[39;00m \u001b[38;5;28;01mimport\u001b[39;00m DataUploader\n\u001b[1;32m      6\u001b[0m data_uploader \u001b[38;5;241m=\u001b[39m DataUploader()\n\u001b[1;32m      8\u001b[0m edf_file_paths \u001b[38;5;241m=\u001b[39m [\n\u001b[1;32m      9\u001b[0m     \u001b[38;5;124m\"\u001b[39m\u001b[38;5;124m/Users/williamgislason/Documents/Whitecap/Seals/DiveDB/data/files/test12_Wednesday_05_DAY1_PROCESSED.edf\u001b[39m\u001b[38;5;124m\"\u001b[39m,\n\u001b[1;32m     10\u001b[0m     \u001b[38;5;124m\"\u001b[39m\u001b[38;5;124m/Users/williamgislason/Documents/Whitecap/Seals/DiveDB/data/files/test12_Wednesday_05_DAY2_PROCESSED.edf\u001b[39m\u001b[38;5;124m\"\u001b[39m\n\u001b[1;32m     11\u001b[0m ]\n",
      "File \u001b[0;32m~/.virtualenvs/pyologger/lib/python3.12/site-packages/services/data_uploader.py:8\u001b[0m\n\u001b[1;32m      6\u001b[0m \u001b[38;5;28;01mimport\u001b[39;00m \u001b[38;5;21;01medfio\u001b[39;00m\n\u001b[1;32m      7\u001b[0m \u001b[38;5;28;01mimport\u001b[39;00m \u001b[38;5;21;01mdjango\u001b[39;00m\n\u001b[0;32m----> 8\u001b[0m \u001b[38;5;28;01mfrom\u001b[39;00m \u001b[38;5;21;01mservices\u001b[39;00m\u001b[38;5;21;01m.\u001b[39;00m\u001b[38;5;21;01mmetadata_manager\u001b[39;00m \u001b[38;5;28;01mimport\u001b[39;00m MetadataManager\n\u001b[1;32m      9\u001b[0m \u001b[38;5;28;01mfrom\u001b[39;00m \u001b[38;5;21;01mservices\u001b[39;00m\u001b[38;5;21;01m.\u001b[39;00m\u001b[38;5;21;01mduck_pond\u001b[39;00m \u001b[38;5;28;01mimport\u001b[39;00m DuckPond\n\u001b[1;32m     10\u001b[0m \u001b[38;5;28;01mimport\u001b[39;00m \u001b[38;5;21;01mnumpy\u001b[39;00m \u001b[38;5;28;01mas\u001b[39;00m \u001b[38;5;21;01mnp\u001b[39;00m\n",
      "File \u001b[0;32m~/.virtualenvs/pyologger/lib/python3.12/site-packages/services/metadata_manager.py:14\u001b[0m\n\u001b[1;32m     11\u001b[0m \u001b[38;5;28;01mfrom\u001b[39;00m \u001b[38;5;21;01mnotion_client\u001b[39;00m \u001b[38;5;28;01mimport\u001b[39;00m Client\n\u001b[1;32m     13\u001b[0m os\u001b[38;5;241m.\u001b[39menviron\u001b[38;5;241m.\u001b[39msetdefault(\u001b[38;5;124m\"\u001b[39m\u001b[38;5;124mDJANGO_SETTINGS_MODULE\u001b[39m\u001b[38;5;124m\"\u001b[39m, \u001b[38;5;124m\"\u001b[39m\u001b[38;5;124mserver.django_app.settings\u001b[39m\u001b[38;5;124m\"\u001b[39m)\n\u001b[0;32m---> 14\u001b[0m \u001b[43mdjango\u001b[49m\u001b[38;5;241;43m.\u001b[39;49m\u001b[43msetup\u001b[49m\u001b[43m(\u001b[49m\u001b[43m)\u001b[49m\n\u001b[1;32m     16\u001b[0m \u001b[38;5;28;01mfrom\u001b[39;00m \u001b[38;5;21;01mserver\u001b[39;00m\u001b[38;5;21;01m.\u001b[39;00m\u001b[38;5;21;01mmetadata\u001b[39;00m\u001b[38;5;21;01m.\u001b[39;00m\u001b[38;5;21;01mmodels\u001b[39;00m \u001b[38;5;28;01mimport\u001b[39;00m (  \u001b[38;5;66;03m# noqa: E402\u001b[39;00m\n\u001b[1;32m     17\u001b[0m     AnimalDeployments,\n\u001b[1;32m     18\u001b[0m     Animals,\n\u001b[0;32m   (...)\u001b[0m\n\u001b[1;32m     21\u001b[0m     Recordings,\n\u001b[1;32m     22\u001b[0m )\n\u001b[1;32m     24\u001b[0m \u001b[38;5;28;01mif\u001b[39;00m os\u001b[38;5;241m.\u001b[39menviron\u001b[38;5;241m.\u001b[39mget(\u001b[38;5;124m\"\u001b[39m\u001b[38;5;124mDJANGO_ALLOW_ASYNC_UNSAFE\u001b[39m\u001b[38;5;124m\"\u001b[39m, \u001b[38;5;124m\"\u001b[39m\u001b[38;5;124mfalse\u001b[39m\u001b[38;5;124m\"\u001b[39m) \u001b[38;5;241m!=\u001b[39m \u001b[38;5;124m\"\u001b[39m\u001b[38;5;124mtrue\u001b[39m\u001b[38;5;124m\"\u001b[39m:\n",
      "File \u001b[0;32m~/.virtualenvs/pyologger/lib/python3.12/site-packages/django/__init__.py:19\u001b[0m, in \u001b[0;36msetup\u001b[0;34m(set_prefix)\u001b[0m\n\u001b[1;32m     16\u001b[0m \u001b[38;5;28;01mfrom\u001b[39;00m \u001b[38;5;21;01mdjango\u001b[39;00m\u001b[38;5;21;01m.\u001b[39;00m\u001b[38;5;21;01murls\u001b[39;00m \u001b[38;5;28;01mimport\u001b[39;00m set_script_prefix\n\u001b[1;32m     17\u001b[0m \u001b[38;5;28;01mfrom\u001b[39;00m \u001b[38;5;21;01mdjango\u001b[39;00m\u001b[38;5;21;01m.\u001b[39;00m\u001b[38;5;21;01mutils\u001b[39;00m\u001b[38;5;21;01m.\u001b[39;00m\u001b[38;5;21;01mlog\u001b[39;00m \u001b[38;5;28;01mimport\u001b[39;00m configure_logging\n\u001b[0;32m---> 19\u001b[0m configure_logging(\u001b[43msettings\u001b[49m\u001b[38;5;241;43m.\u001b[39;49m\u001b[43mLOGGING_CONFIG\u001b[49m, settings\u001b[38;5;241m.\u001b[39mLOGGING)\n\u001b[1;32m     20\u001b[0m \u001b[38;5;28;01mif\u001b[39;00m set_prefix:\n\u001b[1;32m     21\u001b[0m     set_script_prefix(\n\u001b[1;32m     22\u001b[0m         \u001b[38;5;124m\"\u001b[39m\u001b[38;5;124m/\u001b[39m\u001b[38;5;124m\"\u001b[39m \u001b[38;5;28;01mif\u001b[39;00m settings\u001b[38;5;241m.\u001b[39mFORCE_SCRIPT_NAME \u001b[38;5;129;01mis\u001b[39;00m \u001b[38;5;28;01mNone\u001b[39;00m \u001b[38;5;28;01melse\u001b[39;00m settings\u001b[38;5;241m.\u001b[39mFORCE_SCRIPT_NAME\n\u001b[1;32m     23\u001b[0m     )\n",
      "File \u001b[0;32m~/.virtualenvs/pyologger/lib/python3.12/site-packages/django/conf/__init__.py:81\u001b[0m, in \u001b[0;36mLazySettings.__getattr__\u001b[0;34m(self, name)\u001b[0m\n\u001b[1;32m     79\u001b[0m \u001b[38;5;250m\u001b[39m\u001b[38;5;124;03m\"\"\"Return the value of a setting and cache it in self.__dict__.\"\"\"\u001b[39;00m\n\u001b[1;32m     80\u001b[0m \u001b[38;5;28;01mif\u001b[39;00m (_wrapped \u001b[38;5;241m:=\u001b[39m \u001b[38;5;28mself\u001b[39m\u001b[38;5;241m.\u001b[39m_wrapped) \u001b[38;5;129;01mis\u001b[39;00m empty:\n\u001b[0;32m---> 81\u001b[0m     \u001b[38;5;28;43mself\u001b[39;49m\u001b[38;5;241;43m.\u001b[39;49m\u001b[43m_setup\u001b[49m\u001b[43m(\u001b[49m\u001b[43mname\u001b[49m\u001b[43m)\u001b[49m\n\u001b[1;32m     82\u001b[0m     _wrapped \u001b[38;5;241m=\u001b[39m \u001b[38;5;28mself\u001b[39m\u001b[38;5;241m.\u001b[39m_wrapped\n\u001b[1;32m     83\u001b[0m val \u001b[38;5;241m=\u001b[39m \u001b[38;5;28mgetattr\u001b[39m(_wrapped, name)\n",
      "File \u001b[0;32m~/.virtualenvs/pyologger/lib/python3.12/site-packages/django/conf/__init__.py:68\u001b[0m, in \u001b[0;36mLazySettings._setup\u001b[0;34m(self, name)\u001b[0m\n\u001b[1;32m     60\u001b[0m     desc \u001b[38;5;241m=\u001b[39m (\u001b[38;5;124m\"\u001b[39m\u001b[38;5;124msetting \u001b[39m\u001b[38;5;132;01m%s\u001b[39;00m\u001b[38;5;124m\"\u001b[39m \u001b[38;5;241m%\u001b[39m name) \u001b[38;5;28;01mif\u001b[39;00m name \u001b[38;5;28;01melse\u001b[39;00m \u001b[38;5;124m\"\u001b[39m\u001b[38;5;124msettings\u001b[39m\u001b[38;5;124m\"\u001b[39m\n\u001b[1;32m     61\u001b[0m     \u001b[38;5;28;01mraise\u001b[39;00m ImproperlyConfigured(\n\u001b[1;32m     62\u001b[0m         \u001b[38;5;124m\"\u001b[39m\u001b[38;5;124mRequested \u001b[39m\u001b[38;5;132;01m%s\u001b[39;00m\u001b[38;5;124m, but settings are not configured. \u001b[39m\u001b[38;5;124m\"\u001b[39m\n\u001b[1;32m     63\u001b[0m         \u001b[38;5;124m\"\u001b[39m\u001b[38;5;124mYou must either define the environment variable \u001b[39m\u001b[38;5;132;01m%s\u001b[39;00m\u001b[38;5;124m \u001b[39m\u001b[38;5;124m\"\u001b[39m\n\u001b[1;32m     64\u001b[0m         \u001b[38;5;124m\"\u001b[39m\u001b[38;5;124mor call settings.configure() before accessing settings.\u001b[39m\u001b[38;5;124m\"\u001b[39m\n\u001b[1;32m     65\u001b[0m         \u001b[38;5;241m%\u001b[39m (desc, ENVIRONMENT_VARIABLE)\n\u001b[1;32m     66\u001b[0m     )\n\u001b[0;32m---> 68\u001b[0m \u001b[38;5;28mself\u001b[39m\u001b[38;5;241m.\u001b[39m_wrapped \u001b[38;5;241m=\u001b[39m \u001b[43mSettings\u001b[49m\u001b[43m(\u001b[49m\u001b[43msettings_module\u001b[49m\u001b[43m)\u001b[49m\n",
      "File \u001b[0;32m~/.virtualenvs/pyologger/lib/python3.12/site-packages/django/conf/__init__.py:166\u001b[0m, in \u001b[0;36mSettings.__init__\u001b[0;34m(self, settings_module)\u001b[0m\n\u001b[1;32m    163\u001b[0m \u001b[38;5;66;03m# store the settings module in case someone later cares\u001b[39;00m\n\u001b[1;32m    164\u001b[0m \u001b[38;5;28mself\u001b[39m\u001b[38;5;241m.\u001b[39mSETTINGS_MODULE \u001b[38;5;241m=\u001b[39m settings_module\n\u001b[0;32m--> 166\u001b[0m mod \u001b[38;5;241m=\u001b[39m \u001b[43mimportlib\u001b[49m\u001b[38;5;241;43m.\u001b[39;49m\u001b[43mimport_module\u001b[49m\u001b[43m(\u001b[49m\u001b[38;5;28;43mself\u001b[39;49m\u001b[38;5;241;43m.\u001b[39;49m\u001b[43mSETTINGS_MODULE\u001b[49m\u001b[43m)\u001b[49m\n\u001b[1;32m    168\u001b[0m tuple_settings \u001b[38;5;241m=\u001b[39m (\n\u001b[1;32m    169\u001b[0m     \u001b[38;5;124m\"\u001b[39m\u001b[38;5;124mALLOWED_HOSTS\u001b[39m\u001b[38;5;124m\"\u001b[39m,\n\u001b[1;32m    170\u001b[0m     \u001b[38;5;124m\"\u001b[39m\u001b[38;5;124mINSTALLED_APPS\u001b[39m\u001b[38;5;124m\"\u001b[39m,\n\u001b[0;32m   (...)\u001b[0m\n\u001b[1;32m    173\u001b[0m     \u001b[38;5;124m\"\u001b[39m\u001b[38;5;124mSECRET_KEY_FALLBACKS\u001b[39m\u001b[38;5;124m\"\u001b[39m,\n\u001b[1;32m    174\u001b[0m )\n\u001b[1;32m    175\u001b[0m \u001b[38;5;28mself\u001b[39m\u001b[38;5;241m.\u001b[39m_explicit_settings \u001b[38;5;241m=\u001b[39m \u001b[38;5;28mset\u001b[39m()\n",
      "File \u001b[0;32m/opt/homebrew/Cellar/python@3.12/3.12.5/Frameworks/Python.framework/Versions/3.12/lib/python3.12/importlib/__init__.py:90\u001b[0m, in \u001b[0;36mimport_module\u001b[0;34m(name, package)\u001b[0m\n\u001b[1;32m     88\u001b[0m             \u001b[38;5;28;01mbreak\u001b[39;00m\n\u001b[1;32m     89\u001b[0m         level \u001b[38;5;241m+\u001b[39m\u001b[38;5;241m=\u001b[39m \u001b[38;5;241m1\u001b[39m\n\u001b[0;32m---> 90\u001b[0m \u001b[38;5;28;01mreturn\u001b[39;00m \u001b[43m_bootstrap\u001b[49m\u001b[38;5;241;43m.\u001b[39;49m\u001b[43m_gcd_import\u001b[49m\u001b[43m(\u001b[49m\u001b[43mname\u001b[49m\u001b[43m[\u001b[49m\u001b[43mlevel\u001b[49m\u001b[43m:\u001b[49m\u001b[43m]\u001b[49m\u001b[43m,\u001b[49m\u001b[43m \u001b[49m\u001b[43mpackage\u001b[49m\u001b[43m,\u001b[49m\u001b[43m \u001b[49m\u001b[43mlevel\u001b[49m\u001b[43m)\u001b[49m\n",
      "\u001b[0;31mModuleNotFoundError\u001b[0m: No module named 'server.django_app'"
     ]
    }
   ],
   "source": [
    "import os\n",
    "os.environ[\"POSTGRES_DB\"]=\"divedb\"\n",
    "os.environ[\"POSTGRES_USER\"]=\"divedbuser\"\n",
    "os.environ[\"POSTGRES_PASSWORD\"]=\"divedbpassword\"\n",
    "os.environ[\"POSTGRES_HOST\"]=\"localhost\" # Note: this localhost, not what's set in docker-compose.yml\n",
    "os.environ[\"POSTGRES_PORT\"]=\"5432\"\n",
    "\n",
    "from services.data_uploader import DataUploader\n",
    "\n",
    "data_uploader = DataUploader()\n",
    "\n",
    "edf_file_paths = [\n",
    "    \"/Users/williamgislason/Documents/Whitecap/Seals/DiveDB/data/files/test12_Wednesday_05_DAY1_PROCESSED.edf\",\n",
    "    \"/Users/williamgislason/Documents/Whitecap/Seals/DiveDB/data/files/test12_Wednesday_05_DAY2_PROCESSED.edf\"\n",
    "]\n",
    "\n",
    "metadata_file_path = \"/Users/williamgislason/Documents/Whitecap/Seals/DiveDB/data/files/Sleep Study Metadata.csv\"\n",
    "\n",
    "metadata_map = {\n",
    "    \"animal\": \"Nickname\",\n",
    "    \"deployment\": \"Deployment\",\n",
    "    \"logger\": \"Logger Used\",\n",
    "    \"recording\": \"Recording ID\"\n",
    "}\n",
    "\n",
    "data_uploader.upload_edf(edf_file_paths, metadata_file_path, metadata_map)"
   ]
  }
 ],
 "metadata": {
  "kernelspec": {
   "display_name": "pyologger",
   "language": "python",
   "name": "python3"
  },
  "language_info": {
   "codemirror_mode": {
    "name": "ipython",
    "version": 3
   },
   "file_extension": ".py",
   "mimetype": "text/x-python",
   "name": "python",
   "nbconvert_exporter": "python",
   "pygments_lexer": "ipython3",
   "version": "3.12.5"
  }
 },
 "nbformat": 4,
 "nbformat_minor": 2
}
